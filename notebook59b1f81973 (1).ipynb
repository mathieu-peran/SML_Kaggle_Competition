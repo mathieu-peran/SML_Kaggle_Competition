{
 "cells": [
  {
   "cell_type": "code",
   "execution_count": 23,
   "metadata": {
    "_cell_guid": "b1076dfc-b9ad-4769-8c92-a6c4dae69d19",
    "_uuid": "8f2839f25d086af736a60e9eeb907d3b93b6e0e5",
    "execution": {
     "iopub.execute_input": "2024-03-27T16:25:19.642424Z",
     "iopub.status.busy": "2024-03-27T16:25:19.641990Z",
     "iopub.status.idle": "2024-03-27T16:25:19.999104Z",
     "shell.execute_reply": "2024-03-27T16:25:19.997870Z",
     "shell.execute_reply.started": "2024-03-27T16:25:19.642388Z"
    }
   },
   "outputs": [
    {
     "name": "stdout",
     "output_type": "stream",
     "text": [
      "/kaggle/input/mbd2023-food-safety-controls/food_safety_sample_submission.csv\n",
      "/kaggle/input/mbd2023-food-safety-controls/food_safety_train.csv\n",
      "/kaggle/input/mbd2023-food-safety-controls/food_safety_test.csv\n"
     ]
    }
   ],
   "source": [
    "# Install missing packages\n",
    "import pandas as pd\n",
    "from sklearn.preprocessing import OneHotEncoder\n",
    "from sklearn.model_selection import GridSearchCV, cross_val_score\n",
    "from sklearn.tree import DecisionTreeClassifier\n",
    "from sklearn.metrics import accuracy_score, make_scorer\n",
    "import numpy as np\n",
    "\n",
    "import os\n",
    "for dirname, _, filenames in os.walk('/kaggle/input'):\n",
    "    for filename in filenames:\n",
    "        print(os.path.join(dirname, filename))\n",
    "\n",
    "# You can write up to 20GB to the current directory (/kaggle/working/) that gets preserved as output when you create a version using \"Save & Run All\" \n",
    "# You can also write temporary files to /kaggle/temp/, but they won't be saved outside of the current session"
   ]
  },
  {
   "cell_type": "code",
   "execution_count": 2,
   "metadata": {
    "execution": {
     "iopub.execute_input": "2024-03-27T16:21:56.417879Z",
     "iopub.status.busy": "2024-03-27T16:21:56.417364Z",
     "iopub.status.idle": "2024-03-27T16:21:56.422943Z",
     "shell.execute_reply": "2024-03-27T16:21:56.421708Z",
     "shell.execute_reply.started": "2024-03-27T16:21:56.417847Z"
    }
   },
   "outputs": [],
   "source": [
    "path = '/kaggle/input/mbd2023-food-safety-controls/'"
   ]
  },
  {
   "cell_type": "markdown",
   "metadata": {},
   "source": [
    "### 1. Import and prepare data"
   ]
  },
  {
   "cell_type": "markdown",
   "metadata": {},
   "source": [
    "#### 1.1. Train data"
   ]
  },
  {
   "cell_type": "code",
   "execution_count": 3,
   "metadata": {
    "execution": {
     "iopub.execute_input": "2024-03-27T16:21:56.425180Z",
     "iopub.status.busy": "2024-03-27T16:21:56.424712Z",
     "iopub.status.idle": "2024-03-27T16:21:56.667704Z",
     "shell.execute_reply": "2024-03-27T16:21:56.666450Z",
     "shell.execute_reply.started": "2024-03-27T16:21:56.425142Z"
    }
   },
   "outputs": [],
   "source": [
    "# Read train data\n",
    "train = pd.read_csv(path + 'food_safety_train.csv', encoding='latin1')"
   ]
  },
  {
   "cell_type": "code",
   "execution_count": 4,
   "metadata": {
    "execution": {
     "iopub.execute_input": "2024-03-27T16:21:56.669963Z",
     "iopub.status.busy": "2024-03-27T16:21:56.669078Z",
     "iopub.status.idle": "2024-03-27T16:21:56.732337Z",
     "shell.execute_reply": "2024-03-27T16:21:56.730992Z",
     "shell.execute_reply.started": "2024-03-27T16:21:56.669930Z"
    }
   },
   "outputs": [
    {
     "name": "stdout",
     "output_type": "stream",
     "text": [
      "<class 'pandas.core.frame.DataFrame'>\n",
      "RangeIndex: 22671 entries, 0 to 22670\n",
      "Data columns (total 14 columns):\n",
      " #   Column                              Non-Null Count  Dtype \n",
      "---  ------                              --------------  ----- \n",
      " 0   trustii_id                          22671 non-null  int64 \n",
      " 1   APP_Libelle_etablissement           22670 non-null  object\n",
      " 2   SIRET                               22671 non-null  object\n",
      " 3   Adresse_2_UA                        22359 non-null  object\n",
      " 4   Code_postal                         22671 non-null  object\n",
      " 5   Libelle_commune                     22671 non-null  object\n",
      " 6   Numero_inspection                   22671 non-null  object\n",
      " 7   Date_inspection                     22671 non-null  object\n",
      " 8   APP_Libelle_activite_etablissement  22671 non-null  object\n",
      " 9   Agrement                            5823 non-null   object\n",
      " 10  geores                              22064 non-null  object\n",
      " 11  filtre                              16800 non-null  object\n",
      " 12  ods_type_activite                   22671 non-null  object\n",
      " 13  Synthese_eval_sanit                 22671 non-null  object\n",
      "dtypes: int64(1), object(13)\n",
      "memory usage: 2.4+ MB\n"
     ]
    }
   ],
   "source": [
    "train.info()"
   ]
  },
  {
   "cell_type": "code",
   "execution_count": 5,
   "metadata": {
    "execution": {
     "iopub.execute_input": "2024-03-27T16:21:56.736909Z",
     "iopub.status.busy": "2024-03-27T16:21:56.736531Z",
     "iopub.status.idle": "2024-03-27T16:21:56.761910Z",
     "shell.execute_reply": "2024-03-27T16:21:56.760735Z",
     "shell.execute_reply.started": "2024-03-27T16:21:56.736877Z"
    }
   },
   "outputs": [
    {
     "data": {
      "text/html": [
       "<div>\n",
       "<style scoped>\n",
       "    .dataframe tbody tr th:only-of-type {\n",
       "        vertical-align: middle;\n",
       "    }\n",
       "\n",
       "    .dataframe tbody tr th {\n",
       "        vertical-align: top;\n",
       "    }\n",
       "\n",
       "    .dataframe thead th {\n",
       "        text-align: right;\n",
       "    }\n",
       "</style>\n",
       "<table border=\"1\" class=\"dataframe\">\n",
       "  <thead>\n",
       "    <tr style=\"text-align: right;\">\n",
       "      <th></th>\n",
       "      <th>trustii_id</th>\n",
       "      <th>APP_Libelle_etablissement</th>\n",
       "      <th>SIRET</th>\n",
       "      <th>Adresse_2_UA</th>\n",
       "      <th>Code_postal</th>\n",
       "      <th>Libelle_commune</th>\n",
       "      <th>Numero_inspection</th>\n",
       "      <th>Date_inspection</th>\n",
       "      <th>APP_Libelle_activite_etablissement</th>\n",
       "      <th>Agrement</th>\n",
       "      <th>geores</th>\n",
       "      <th>filtre</th>\n",
       "      <th>ods_type_activite</th>\n",
       "      <th>Synthese_eval_sanit</th>\n",
       "    </tr>\n",
       "  </thead>\n",
       "  <tbody>\n",
       "    <tr>\n",
       "      <th>0</th>\n",
       "      <td>10000</td>\n",
       "      <td>SAVEURS ASIATIQUES</td>\n",
       "      <td>50846842800034</td>\n",
       "      <td>RUE DES FRERES LUMIERE</td>\n",
       "      <td>33130</td>\n",
       "      <td>Bègles</td>\n",
       "      <td>23-110093-1</td>\n",
       "      <td>2024-02-05T01:00:00+01:00</td>\n",
       "      <td>Restaurant</td>\n",
       "      <td>NaN</td>\n",
       "      <td>44.797031_-0.535231</td>\n",
       "      <td>Restaurant</td>\n",
       "      <td>Autres</td>\n",
       "      <td>Satisfaisant</td>\n",
       "    </tr>\n",
       "    <tr>\n",
       "      <th>1</th>\n",
       "      <td>10001</td>\n",
       "      <td>EPICERIE ROND POINT</td>\n",
       "      <td>90472398800013</td>\n",
       "      <td>48 AV DU ROND POINT</td>\n",
       "      <td>93250</td>\n",
       "      <td>Villemomble</td>\n",
       "      <td>23-056603-1</td>\n",
       "      <td>2023-07-17T02:00:00+02:00</td>\n",
       "      <td>Libre service|Alimentation générale</td>\n",
       "      <td>NaN</td>\n",
       "      <td>48.884745_2.499984</td>\n",
       "      <td>Libre service|Alimentation générale</td>\n",
       "      <td>Autres</td>\n",
       "      <td>Satisfaisant</td>\n",
       "    </tr>\n",
       "    <tr>\n",
       "      <th>2</th>\n",
       "      <td>10002</td>\n",
       "      <td>AUBERGE DES OLIVIERS</td>\n",
       "      <td>48792443300013</td>\n",
       "      <td>ROUTE DE LA CANONICA</td>\n",
       "      <td>20290</td>\n",
       "      <td>Lucciana</td>\n",
       "      <td>23-018114-1</td>\n",
       "      <td>2023-03-08T01:00:00+01:00</td>\n",
       "      <td>Restaurant</td>\n",
       "      <td>NaN</td>\n",
       "      <td>42.541715_9.46286</td>\n",
       "      <td>Restaurant</td>\n",
       "      <td>Autres</td>\n",
       "      <td>Très satisfaisant</td>\n",
       "    </tr>\n",
       "    <tr>\n",
       "      <th>3</th>\n",
       "      <td>10003</td>\n",
       "      <td>LES HUITRES DES FLOTS</td>\n",
       "      <td>80481822700022</td>\n",
       "      <td>RUE DU PONT DES BERNES</td>\n",
       "      <td>50550</td>\n",
       "      <td>Saint-Vaast-la-Hougue</td>\n",
       "      <td>23-011747-1</td>\n",
       "      <td>2023-02-15T01:00:00+01:00</td>\n",
       "      <td>Purification/Expédition de coquillages</td>\n",
       "      <td>50562016</td>\n",
       "      <td>49.592002_-1.28678</td>\n",
       "      <td>NaN</td>\n",
       "      <td>Produits de la mer et d'eau douce</td>\n",
       "      <td>Satisfaisant</td>\n",
       "    </tr>\n",
       "    <tr>\n",
       "      <th>4</th>\n",
       "      <td>10004</td>\n",
       "      <td>COLONNA DOMINIQUE-ANTOINE</td>\n",
       "      <td>53444598600019</td>\n",
       "      <td>Partinello</td>\n",
       "      <td>20147</td>\n",
       "      <td>Partinello</td>\n",
       "      <td>23-097885-1</td>\n",
       "      <td>2023-11-21T01:00:00+01:00</td>\n",
       "      <td>Producteur fermier</td>\n",
       "      <td>NaN</td>\n",
       "      <td>42.306077_8.67833</td>\n",
       "      <td>Producteur fermier</td>\n",
       "      <td>Autres</td>\n",
       "      <td>Très satisfaisant</td>\n",
       "    </tr>\n",
       "  </tbody>\n",
       "</table>\n",
       "</div>"
      ],
      "text/plain": [
       "   trustii_id  APP_Libelle_etablissement           SIRET  \\\n",
       "0       10000         SAVEURS ASIATIQUES  50846842800034   \n",
       "1       10001        EPICERIE ROND POINT  90472398800013   \n",
       "2       10002       AUBERGE DES OLIVIERS  48792443300013   \n",
       "3       10003      LES HUITRES DES FLOTS  80481822700022   \n",
       "4       10004  COLONNA DOMINIQUE-ANTOINE  53444598600019   \n",
       "\n",
       "             Adresse_2_UA Code_postal        Libelle_commune  \\\n",
       "0  RUE DES FRERES LUMIERE       33130                 Bègles   \n",
       "1     48 AV DU ROND POINT       93250            Villemomble   \n",
       "2    ROUTE DE LA CANONICA       20290               Lucciana   \n",
       "3  RUE DU PONT DES BERNES       50550  Saint-Vaast-la-Hougue   \n",
       "4              Partinello       20147             Partinello   \n",
       "\n",
       "  Numero_inspection            Date_inspection  \\\n",
       "0       23-110093-1  2024-02-05T01:00:00+01:00   \n",
       "1       23-056603-1  2023-07-17T02:00:00+02:00   \n",
       "2       23-018114-1  2023-03-08T01:00:00+01:00   \n",
       "3       23-011747-1  2023-02-15T01:00:00+01:00   \n",
       "4       23-097885-1  2023-11-21T01:00:00+01:00   \n",
       "\n",
       "       APP_Libelle_activite_etablissement  Agrement               geores  \\\n",
       "0                              Restaurant       NaN  44.797031_-0.535231   \n",
       "1     Libre service|Alimentation générale       NaN   48.884745_2.499984   \n",
       "2                              Restaurant       NaN    42.541715_9.46286   \n",
       "3  Purification/Expédition de coquillages  50562016   49.592002_-1.28678   \n",
       "4                      Producteur fermier       NaN    42.306077_8.67833   \n",
       "\n",
       "                                filtre                  ods_type_activite  \\\n",
       "0                           Restaurant                             Autres   \n",
       "1  Libre service|Alimentation générale                             Autres   \n",
       "2                           Restaurant                             Autres   \n",
       "3                                  NaN  Produits de la mer et d'eau douce   \n",
       "4                   Producteur fermier                             Autres   \n",
       "\n",
       "  Synthese_eval_sanit  \n",
       "0        Satisfaisant  \n",
       "1        Satisfaisant  \n",
       "2   Très satisfaisant  \n",
       "3        Satisfaisant  \n",
       "4   Très satisfaisant  "
      ]
     },
     "execution_count": 5,
     "metadata": {},
     "output_type": "execute_result"
    }
   ],
   "source": [
    "# Show the data\n",
    "train.head()"
   ]
  },
  {
   "cell_type": "markdown",
   "metadata": {},
   "source": [
    "**Separate variables by type.**"
   ]
  },
  {
   "cell_type": "code",
   "execution_count": 6,
   "metadata": {
    "execution": {
     "iopub.execute_input": "2024-03-27T16:21:56.764490Z",
     "iopub.status.busy": "2024-03-27T16:21:56.763413Z",
     "iopub.status.idle": "2024-03-27T16:21:56.770817Z",
     "shell.execute_reply": "2024-03-27T16:21:56.769720Z",
     "shell.execute_reply.started": "2024-03-27T16:21:56.764457Z"
    }
   },
   "outputs": [],
   "source": [
    "# Target variable\n",
    "dv_var = train['Synthese_eval_sanit']\n",
    "\n",
    "# List of predictors\n",
    "iv_vars = ['Code_postal', 'Libelle_commune', 'APP_Libelle_activite_etablissement', 'filtre', 'ods_type_activite']\n",
    "\n",
    "# Splitting into numerical and categorical variables\n",
    "num_vars = [col for col in iv_vars if pd.api.types.is_numeric_dtype(train[col])]\n",
    "cat_vars = [col for col in iv_vars if not pd.api.types.is_numeric_dtype(train[col])]\n"
   ]
  },
  {
   "cell_type": "code",
   "execution_count": 7,
   "metadata": {
    "execution": {
     "iopub.execute_input": "2024-03-27T16:21:56.773021Z",
     "iopub.status.busy": "2024-03-27T16:21:56.772662Z",
     "iopub.status.idle": "2024-03-27T16:21:56.785266Z",
     "shell.execute_reply": "2024-03-27T16:21:56.784122Z",
     "shell.execute_reply.started": "2024-03-27T16:21:56.772993Z"
    }
   },
   "outputs": [
    {
     "data": {
      "text/plain": [
       "([],\n",
       " ['Code_postal',\n",
       "  'Libelle_commune',\n",
       "  'APP_Libelle_activite_etablissement',\n",
       "  'filtre',\n",
       "  'ods_type_activite'])"
      ]
     },
     "execution_count": 7,
     "metadata": {},
     "output_type": "execute_result"
    }
   ],
   "source": [
    "num_vars, cat_vars"
   ]
  },
  {
   "cell_type": "markdown",
   "metadata": {},
   "source": [
    "**Check and correct data errors by variable type.**"
   ]
  },
  {
   "cell_type": "code",
   "execution_count": 8,
   "metadata": {
    "execution": {
     "iopub.execute_input": "2024-03-27T16:21:56.786991Z",
     "iopub.status.busy": "2024-03-27T16:21:56.786510Z",
     "iopub.status.idle": "2024-03-27T16:21:56.814111Z",
     "shell.execute_reply": "2024-03-27T16:21:56.812829Z",
     "shell.execute_reply.started": "2024-03-27T16:21:56.786959Z"
    }
   },
   "outputs": [
    {
     "name": "stdout",
     "output_type": "stream",
     "text": [
      "Total NAs: 5871\n",
      "Code_postal                              0\n",
      "Libelle_commune                          0\n",
      "APP_Libelle_activite_etablissement       0\n",
      "filtre                                5871\n",
      "ods_type_activite                        0\n",
      "dtype: int64\n"
     ]
    }
   ],
   "source": [
    "# Check missing values for each column in 'iv_vars'\n",
    "missing_values = train[iv_vars].isnull().sum()\n",
    "\n",
    "# Print total NAs across selected variables\n",
    "print(f\"Total NAs: {missing_values.sum()}\")\n",
    "\n",
    "# Print missing values for each variable\n",
    "print(missing_values)"
   ]
  },
  {
   "cell_type": "code",
   "execution_count": 9,
   "metadata": {
    "execution": {
     "iopub.execute_input": "2024-03-27T16:21:56.815924Z",
     "iopub.status.busy": "2024-03-27T16:21:56.815559Z",
     "iopub.status.idle": "2024-03-27T16:21:56.826157Z",
     "shell.execute_reply": "2024-03-27T16:21:56.824902Z",
     "shell.execute_reply.started": "2024-03-27T16:21:56.815895Z"
    }
   },
   "outputs": [
    {
     "data": {
      "text/plain": [
       "0"
      ]
     },
     "execution_count": 9,
     "metadata": {},
     "output_type": "execute_result"
    }
   ],
   "source": [
    "# Check the missing values for target variable\n",
    "\n",
    "dv_var.isnull().sum()"
   ]
  },
  {
   "cell_type": "code",
   "execution_count": 10,
   "metadata": {
    "execution": {
     "iopub.execute_input": "2024-03-27T16:21:56.828061Z",
     "iopub.status.busy": "2024-03-27T16:21:56.827740Z",
     "iopub.status.idle": "2024-03-27T16:21:56.852123Z",
     "shell.execute_reply": "2024-03-27T16:21:56.850746Z",
     "shell.execute_reply.started": "2024-03-27T16:21:56.828033Z"
    }
   },
   "outputs": [
    {
     "name": "stderr",
     "output_type": "stream",
     "text": [
      "/tmp/ipykernel_33/1083838417.py:7: FutureWarning: A value is trying to be set on a copy of a DataFrame or Series through chained assignment using an inplace method.\n",
      "The behavior will change in pandas 3.0. This inplace method will never work because the intermediate object on which we are setting values always behaves as a copy.\n",
      "\n",
      "For example, when doing 'df[col].method(value, inplace=True)', try using 'df.method({col: value}, inplace=True)' or df[col] = df[col].method(value) instead, to perform the operation inplace on the original object.\n",
      "\n",
      "\n",
      "  train[var].fillna('Missing', inplace=True)\n"
     ]
    }
   ],
   "source": [
    "# Filling missing values for numeric variables with 0\n",
    "for var in num_vars:\n",
    "    train[var].fillna(0, inplace=True)\n",
    "\n",
    "# Filling missing values for categorical variables with 'Missing'\n",
    "for var in cat_vars:\n",
    "    train[var].fillna('Missing', inplace=True)"
   ]
  },
  {
   "cell_type": "markdown",
   "metadata": {},
   "source": [
    "**Transform some variables by type.**"
   ]
  },
  {
   "cell_type": "code",
   "execution_count": 11,
   "metadata": {
    "execution": {
     "iopub.execute_input": "2024-03-27T16:21:56.854341Z",
     "iopub.status.busy": "2024-03-27T16:21:56.853825Z",
     "iopub.status.idle": "2024-03-27T16:21:56.869861Z",
     "shell.execute_reply": "2024-03-27T16:21:56.868615Z",
     "shell.execute_reply.started": "2024-03-27T16:21:56.854300Z"
    }
   },
   "outputs": [],
   "source": [
    "# To keep only the first two digits of the 'Code_postal' column\n",
    "train['Code_postal'] = train['Code_postal'].astype(str).str.slice(0, 2)"
   ]
  },
  {
   "cell_type": "code",
   "execution_count": 12,
   "metadata": {
    "execution": {
     "iopub.execute_input": "2024-03-27T16:21:56.872350Z",
     "iopub.status.busy": "2024-03-27T16:21:56.871614Z",
     "iopub.status.idle": "2024-03-27T16:22:01.104973Z",
     "shell.execute_reply": "2024-03-27T16:22:01.103890Z",
     "shell.execute_reply.started": "2024-03-27T16:21:56.872309Z"
    }
   },
   "outputs": [
    {
     "name": "stderr",
     "output_type": "stream",
     "text": [
      "/opt/conda/lib/python3.10/site-packages/sklearn/preprocessing/_encoders.py:868: FutureWarning: `sparse` was renamed to `sparse_output` in version 1.2 and will be removed in 1.4. `sparse_output` is ignored unless you leave `sparse` to its default value.\n",
      "  warnings.warn(\n"
     ]
    }
   ],
   "source": [
    "\n",
    "encoder = OneHotEncoder(sparse=False, drop='first')  # Use sparse_output=False if the version warning applies\n",
    "train_cat_dummies = encoder.fit_transform(train[cat_vars])\n",
    "\n",
    "# Convert to DataFrame and correct column names\n",
    "train_cat_dummies = pd.DataFrame(train_cat_dummies, columns=encoder.get_feature_names_out(cat_vars))\n",
    "train_cat_dummies.columns = train_cat_dummies.columns.str.replace('[^A-Za-z0-9]', '_', regex=True)\n",
    "\n",
    "# Combine with numerical variables and target variable\n",
    "# Make sure dv_var is correctly accessing the target variable column\n",
    "train_processed = pd.concat([train[num_vars].reset_index(drop=True), \n",
    "                             train_cat_dummies, \n",
    "                             dv_var.reset_index(drop=True)], axis=1)\n"
   ]
  },
  {
   "cell_type": "code",
   "execution_count": 13,
   "metadata": {
    "execution": {
     "iopub.execute_input": "2024-03-27T16:22:01.107407Z",
     "iopub.status.busy": "2024-03-27T16:22:01.106304Z",
     "iopub.status.idle": "2024-03-27T16:22:01.148647Z",
     "shell.execute_reply": "2024-03-27T16:22:01.147475Z",
     "shell.execute_reply.started": "2024-03-27T16:22:01.107366Z"
    }
   },
   "outputs": [
    {
     "data": {
      "text/html": [
       "<div>\n",
       "<style scoped>\n",
       "    .dataframe tbody tr th:only-of-type {\n",
       "        vertical-align: middle;\n",
       "    }\n",
       "\n",
       "    .dataframe tbody tr th {\n",
       "        vertical-align: top;\n",
       "    }\n",
       "\n",
       "    .dataframe thead th {\n",
       "        text-align: right;\n",
       "    }\n",
       "</style>\n",
       "<table border=\"1\" class=\"dataframe\">\n",
       "  <thead>\n",
       "    <tr style=\"text-align: right;\">\n",
       "      <th></th>\n",
       "      <th>Code_postal_01</th>\n",
       "      <th>Code_postal_02</th>\n",
       "      <th>Code_postal_03</th>\n",
       "      <th>Code_postal_04</th>\n",
       "      <th>Code_postal_05</th>\n",
       "      <th>Code_postal_06</th>\n",
       "      <th>Code_postal_07</th>\n",
       "      <th>Code_postal_08</th>\n",
       "      <th>Code_postal_09</th>\n",
       "      <th>Code_postal_10</th>\n",
       "      <th>...</th>\n",
       "      <th>filtre_Restauration_collective</th>\n",
       "      <th>filtre_Traiteur</th>\n",
       "      <th>filtre_Traiteur_Boucherie_Charcuterie</th>\n",
       "      <th>ods_type_activite_Autres</th>\n",
       "      <th>ods_type_activite_Lait_et_produits_laitiers</th>\n",
       "      <th>ods_type_activite_Produits_de_la_mer_et_d_eau_douce</th>\n",
       "      <th>ods_type_activite_Transport_et_entreposage_de_denr_es_alimentaires</th>\n",
       "      <th>ods_type_activite_Viandes_et_produits_carn_s</th>\n",
       "      <th>ods_type_activite__ufs_et_ovoproduits</th>\n",
       "      <th>Synthese_eval_sanit</th>\n",
       "    </tr>\n",
       "  </thead>\n",
       "  <tbody>\n",
       "    <tr>\n",
       "      <th>0</th>\n",
       "      <td>0.0</td>\n",
       "      <td>0.0</td>\n",
       "      <td>0.0</td>\n",
       "      <td>0.0</td>\n",
       "      <td>0.0</td>\n",
       "      <td>0.0</td>\n",
       "      <td>0.0</td>\n",
       "      <td>0.0</td>\n",
       "      <td>0.0</td>\n",
       "      <td>0.0</td>\n",
       "      <td>...</td>\n",
       "      <td>0.0</td>\n",
       "      <td>0.0</td>\n",
       "      <td>0.0</td>\n",
       "      <td>1.0</td>\n",
       "      <td>0.0</td>\n",
       "      <td>0.0</td>\n",
       "      <td>0.0</td>\n",
       "      <td>0.0</td>\n",
       "      <td>0.0</td>\n",
       "      <td>Satisfaisant</td>\n",
       "    </tr>\n",
       "    <tr>\n",
       "      <th>1</th>\n",
       "      <td>0.0</td>\n",
       "      <td>0.0</td>\n",
       "      <td>0.0</td>\n",
       "      <td>0.0</td>\n",
       "      <td>0.0</td>\n",
       "      <td>0.0</td>\n",
       "      <td>0.0</td>\n",
       "      <td>0.0</td>\n",
       "      <td>0.0</td>\n",
       "      <td>0.0</td>\n",
       "      <td>...</td>\n",
       "      <td>0.0</td>\n",
       "      <td>0.0</td>\n",
       "      <td>0.0</td>\n",
       "      <td>1.0</td>\n",
       "      <td>0.0</td>\n",
       "      <td>0.0</td>\n",
       "      <td>0.0</td>\n",
       "      <td>0.0</td>\n",
       "      <td>0.0</td>\n",
       "      <td>Satisfaisant</td>\n",
       "    </tr>\n",
       "    <tr>\n",
       "      <th>2</th>\n",
       "      <td>0.0</td>\n",
       "      <td>0.0</td>\n",
       "      <td>0.0</td>\n",
       "      <td>0.0</td>\n",
       "      <td>0.0</td>\n",
       "      <td>0.0</td>\n",
       "      <td>0.0</td>\n",
       "      <td>0.0</td>\n",
       "      <td>0.0</td>\n",
       "      <td>0.0</td>\n",
       "      <td>...</td>\n",
       "      <td>0.0</td>\n",
       "      <td>0.0</td>\n",
       "      <td>0.0</td>\n",
       "      <td>1.0</td>\n",
       "      <td>0.0</td>\n",
       "      <td>0.0</td>\n",
       "      <td>0.0</td>\n",
       "      <td>0.0</td>\n",
       "      <td>0.0</td>\n",
       "      <td>Très satisfaisant</td>\n",
       "    </tr>\n",
       "    <tr>\n",
       "      <th>3</th>\n",
       "      <td>0.0</td>\n",
       "      <td>0.0</td>\n",
       "      <td>0.0</td>\n",
       "      <td>0.0</td>\n",
       "      <td>0.0</td>\n",
       "      <td>0.0</td>\n",
       "      <td>0.0</td>\n",
       "      <td>0.0</td>\n",
       "      <td>0.0</td>\n",
       "      <td>0.0</td>\n",
       "      <td>...</td>\n",
       "      <td>0.0</td>\n",
       "      <td>0.0</td>\n",
       "      <td>0.0</td>\n",
       "      <td>0.0</td>\n",
       "      <td>0.0</td>\n",
       "      <td>1.0</td>\n",
       "      <td>0.0</td>\n",
       "      <td>0.0</td>\n",
       "      <td>0.0</td>\n",
       "      <td>Satisfaisant</td>\n",
       "    </tr>\n",
       "    <tr>\n",
       "      <th>4</th>\n",
       "      <td>0.0</td>\n",
       "      <td>0.0</td>\n",
       "      <td>0.0</td>\n",
       "      <td>0.0</td>\n",
       "      <td>0.0</td>\n",
       "      <td>0.0</td>\n",
       "      <td>0.0</td>\n",
       "      <td>0.0</td>\n",
       "      <td>0.0</td>\n",
       "      <td>0.0</td>\n",
       "      <td>...</td>\n",
       "      <td>0.0</td>\n",
       "      <td>0.0</td>\n",
       "      <td>0.0</td>\n",
       "      <td>1.0</td>\n",
       "      <td>0.0</td>\n",
       "      <td>0.0</td>\n",
       "      <td>0.0</td>\n",
       "      <td>0.0</td>\n",
       "      <td>0.0</td>\n",
       "      <td>Très satisfaisant</td>\n",
       "    </tr>\n",
       "  </tbody>\n",
       "</table>\n",
       "<p>5 rows × 7382 columns</p>\n",
       "</div>"
      ],
      "text/plain": [
       "   Code_postal_01  Code_postal_02  Code_postal_03  Code_postal_04  \\\n",
       "0             0.0             0.0             0.0             0.0   \n",
       "1             0.0             0.0             0.0             0.0   \n",
       "2             0.0             0.0             0.0             0.0   \n",
       "3             0.0             0.0             0.0             0.0   \n",
       "4             0.0             0.0             0.0             0.0   \n",
       "\n",
       "   Code_postal_05  Code_postal_06  Code_postal_07  Code_postal_08  \\\n",
       "0             0.0             0.0             0.0             0.0   \n",
       "1             0.0             0.0             0.0             0.0   \n",
       "2             0.0             0.0             0.0             0.0   \n",
       "3             0.0             0.0             0.0             0.0   \n",
       "4             0.0             0.0             0.0             0.0   \n",
       "\n",
       "   Code_postal_09  Code_postal_10  ...  filtre_Restauration_collective  \\\n",
       "0             0.0             0.0  ...                             0.0   \n",
       "1             0.0             0.0  ...                             0.0   \n",
       "2             0.0             0.0  ...                             0.0   \n",
       "3             0.0             0.0  ...                             0.0   \n",
       "4             0.0             0.0  ...                             0.0   \n",
       "\n",
       "   filtre_Traiteur  filtre_Traiteur_Boucherie_Charcuterie  \\\n",
       "0              0.0                                    0.0   \n",
       "1              0.0                                    0.0   \n",
       "2              0.0                                    0.0   \n",
       "3              0.0                                    0.0   \n",
       "4              0.0                                    0.0   \n",
       "\n",
       "   ods_type_activite_Autres  ods_type_activite_Lait_et_produits_laitiers  \\\n",
       "0                       1.0                                          0.0   \n",
       "1                       1.0                                          0.0   \n",
       "2                       1.0                                          0.0   \n",
       "3                       0.0                                          0.0   \n",
       "4                       1.0                                          0.0   \n",
       "\n",
       "   ods_type_activite_Produits_de_la_mer_et_d_eau_douce  \\\n",
       "0                                                0.0     \n",
       "1                                                0.0     \n",
       "2                                                0.0     \n",
       "3                                                1.0     \n",
       "4                                                0.0     \n",
       "\n",
       "   ods_type_activite_Transport_et_entreposage_de_denr_es_alimentaires  \\\n",
       "0                                                0.0                    \n",
       "1                                                0.0                    \n",
       "2                                                0.0                    \n",
       "3                                                0.0                    \n",
       "4                                                0.0                    \n",
       "\n",
       "   ods_type_activite_Viandes_et_produits_carn_s  \\\n",
       "0                                           0.0   \n",
       "1                                           0.0   \n",
       "2                                           0.0   \n",
       "3                                           0.0   \n",
       "4                                           0.0   \n",
       "\n",
       "   ods_type_activite__ufs_et_ovoproduits  Synthese_eval_sanit  \n",
       "0                                    0.0         Satisfaisant  \n",
       "1                                    0.0         Satisfaisant  \n",
       "2                                    0.0    Très satisfaisant  \n",
       "3                                    0.0         Satisfaisant  \n",
       "4                                    0.0    Très satisfaisant  \n",
       "\n",
       "[5 rows x 7382 columns]"
      ]
     },
     "execution_count": 13,
     "metadata": {},
     "output_type": "execute_result"
    }
   ],
   "source": [
    "# Check train data\n",
    "train_processed.head()"
   ]
  },
  {
   "cell_type": "markdown",
   "metadata": {},
   "source": [
    "#### 1.2. Test data"
   ]
  },
  {
   "cell_type": "code",
   "execution_count": 14,
   "metadata": {
    "execution": {
     "iopub.execute_input": "2024-03-27T16:22:01.152743Z",
     "iopub.status.busy": "2024-03-27T16:22:01.152352Z",
     "iopub.status.idle": "2024-03-27T16:22:01.236495Z",
     "shell.execute_reply": "2024-03-27T16:22:01.235254Z",
     "shell.execute_reply.started": "2024-03-27T16:22:01.152711Z"
    }
   },
   "outputs": [],
   "source": [
    "# Read train data\n",
    "test = pd.read_csv(path + 'food_safety_test.csv', encoding='latin1')"
   ]
  },
  {
   "cell_type": "code",
   "execution_count": 15,
   "metadata": {
    "execution": {
     "iopub.execute_input": "2024-03-27T16:22:01.238990Z",
     "iopub.status.busy": "2024-03-27T16:22:01.238341Z",
     "iopub.status.idle": "2024-03-27T16:22:01.262842Z",
     "shell.execute_reply": "2024-03-27T16:22:01.261685Z",
     "shell.execute_reply.started": "2024-03-27T16:22:01.238954Z"
    }
   },
   "outputs": [
    {
     "name": "stdout",
     "output_type": "stream",
     "text": [
      "<class 'pandas.core.frame.DataFrame'>\n",
      "RangeIndex: 8839 entries, 0 to 8838\n",
      "Data columns (total 13 columns):\n",
      " #   Column                              Non-Null Count  Dtype \n",
      "---  ------                              --------------  ----- \n",
      " 0   trustii_id                          8839 non-null   int64 \n",
      " 1   APP_Libelle_etablissement           8839 non-null   object\n",
      " 2   SIRET                               8839 non-null   object\n",
      " 3   Adresse_2_UA                        8705 non-null   object\n",
      " 4   Code_postal                         8839 non-null   object\n",
      " 5   Libelle_commune                     8839 non-null   object\n",
      " 6   Numero_inspection                   8839 non-null   object\n",
      " 7   Date_inspection                     8839 non-null   object\n",
      " 8   APP_Libelle_activite_etablissement  8839 non-null   object\n",
      " 9   Agrement                            2247 non-null   object\n",
      " 10  geores                              8612 non-null   object\n",
      " 11  filtre                              6608 non-null   object\n",
      " 12  ods_type_activite                   8839 non-null   object\n",
      "dtypes: int64(1), object(12)\n",
      "memory usage: 897.8+ KB\n"
     ]
    }
   ],
   "source": [
    "test.info()"
   ]
  },
  {
   "cell_type": "markdown",
   "metadata": {},
   "source": [
    "**Check and correct data errors by variable type.**"
   ]
  },
  {
   "cell_type": "code",
   "execution_count": 16,
   "metadata": {
    "execution": {
     "iopub.execute_input": "2024-03-27T16:22:01.264467Z",
     "iopub.status.busy": "2024-03-27T16:22:01.264096Z",
     "iopub.status.idle": "2024-03-27T16:22:01.279416Z",
     "shell.execute_reply": "2024-03-27T16:22:01.278036Z",
     "shell.execute_reply.started": "2024-03-27T16:22:01.264437Z"
    }
   },
   "outputs": [
    {
     "name": "stdout",
     "output_type": "stream",
     "text": [
      "Total NAs: 2231\n",
      "Code_postal                              0\n",
      "Libelle_commune                          0\n",
      "APP_Libelle_activite_etablissement       0\n",
      "filtre                                2231\n",
      "ods_type_activite                        0\n",
      "dtype: int64\n"
     ]
    }
   ],
   "source": [
    "# Check missing values for each column in 'iv_vars'\n",
    "missing_values = test[iv_vars].isnull().sum()\n",
    "\n",
    "# Print total NAs across selected variables\n",
    "print(f\"Total NAs: {missing_values.sum()}\")\n",
    "\n",
    "# Print missing values for each variable\n",
    "print(missing_values)"
   ]
  },
  {
   "cell_type": "code",
   "execution_count": 17,
   "metadata": {
    "execution": {
     "iopub.execute_input": "2024-03-27T16:22:01.281787Z",
     "iopub.status.busy": "2024-03-27T16:22:01.281332Z",
     "iopub.status.idle": "2024-03-27T16:22:01.297512Z",
     "shell.execute_reply": "2024-03-27T16:22:01.296225Z",
     "shell.execute_reply.started": "2024-03-27T16:22:01.281746Z"
    }
   },
   "outputs": [
    {
     "name": "stderr",
     "output_type": "stream",
     "text": [
      "/tmp/ipykernel_33/1880069039.py:7: FutureWarning: A value is trying to be set on a copy of a DataFrame or Series through chained assignment using an inplace method.\n",
      "The behavior will change in pandas 3.0. This inplace method will never work because the intermediate object on which we are setting values always behaves as a copy.\n",
      "\n",
      "For example, when doing 'df[col].method(value, inplace=True)', try using 'df.method({col: value}, inplace=True)' or df[col] = df[col].method(value) instead, to perform the operation inplace on the original object.\n",
      "\n",
      "\n",
      "  test[var].fillna('Missing', inplace=True)\n"
     ]
    }
   ],
   "source": [
    "# Filling missing values for numeric variables with 0\n",
    "for var in num_vars:\n",
    "    test[var].fillna(0, inplace=True)\n",
    "\n",
    "# Filling missing values for categorical variables with 'Missing'\n",
    "for var in cat_vars:\n",
    "    test[var].fillna('Missing', inplace=True)"
   ]
  },
  {
   "cell_type": "markdown",
   "metadata": {},
   "source": [
    "**Transform some variables by type.**"
   ]
  },
  {
   "cell_type": "code",
   "execution_count": 18,
   "metadata": {
    "execution": {
     "iopub.execute_input": "2024-03-27T16:22:01.300520Z",
     "iopub.status.busy": "2024-03-27T16:22:01.299999Z",
     "iopub.status.idle": "2024-03-27T16:22:01.313789Z",
     "shell.execute_reply": "2024-03-27T16:22:01.312446Z",
     "shell.execute_reply.started": "2024-03-27T16:22:01.300481Z"
    }
   },
   "outputs": [],
   "source": [
    "# To keep only the first two digits of the 'Code_postal' column\n",
    "test['Code_postal'] = test['Code_postal'].astype(str).str.slice(0, 2)"
   ]
  },
  {
   "cell_type": "code",
   "execution_count": 19,
   "metadata": {
    "execution": {
     "iopub.execute_input": "2024-03-27T16:22:01.315860Z",
     "iopub.status.busy": "2024-03-27T16:22:01.315382Z",
     "iopub.status.idle": "2024-03-27T16:22:02.172134Z",
     "shell.execute_reply": "2024-03-27T16:22:02.171036Z",
     "shell.execute_reply.started": "2024-03-27T16:22:01.315821Z"
    }
   },
   "outputs": [
    {
     "name": "stderr",
     "output_type": "stream",
     "text": [
      "/opt/conda/lib/python3.10/site-packages/sklearn/preprocessing/_encoders.py:868: FutureWarning: `sparse` was renamed to `sparse_output` in version 1.2 and will be removed in 1.4. `sparse_output` is ignored unless you leave `sparse` to its default value.\n",
      "  warnings.warn(\n"
     ]
    }
   ],
   "source": [
    "# Adjust the encoder initialization\n",
    "encoder = OneHotEncoder(sparse=False, drop='first', handle_unknown='ignore')\n",
    "\n",
    "test_cat_dummies = encoder.fit_transform(test[cat_vars])\n",
    "\n",
    "# Convert to DataFrame and correct column names\n",
    "test_cat_dummies = pd.DataFrame(test_cat_dummies, columns=encoder.get_feature_names_out(cat_vars))\n",
    "test_cat_dummies.columns = test_cat_dummies.columns.str.replace('[^A-Za-z0-9]', '_', regex=True)\n",
    "\n",
    "# Combine with numerical variables from the test set\n",
    "test_processed = pd.concat([test[num_vars].reset_index(drop=True), test_cat_dummies], axis=1)\n"
   ]
  },
  {
   "cell_type": "code",
   "execution_count": 20,
   "metadata": {
    "execution": {
     "iopub.execute_input": "2024-03-27T16:22:02.173714Z",
     "iopub.status.busy": "2024-03-27T16:22:02.173393Z",
     "iopub.status.idle": "2024-03-27T16:22:02.457600Z",
     "shell.execute_reply": "2024-03-27T16:22:02.456759Z",
     "shell.execute_reply.started": "2024-03-27T16:22:02.173686Z"
    }
   },
   "outputs": [
    {
     "name": "stdout",
     "output_type": "stream",
     "text": [
      "<class 'pandas.core.frame.DataFrame'>\n",
      "RangeIndex: 8839 entries, 0 to 8838\n",
      "Columns: 4176 entries, Code_postal_01 to ods_type_activite__ufs_et_ovoproduits\n",
      "dtypes: float64(4176)\n",
      "memory usage: 281.6 MB\n"
     ]
    }
   ],
   "source": [
    "test_processed.info()"
   ]
  },
  {
   "cell_type": "code",
   "execution_count": 21,
   "metadata": {
    "execution": {
     "iopub.execute_input": "2024-03-27T16:22:02.458959Z",
     "iopub.status.busy": "2024-03-27T16:22:02.458609Z",
     "iopub.status.idle": "2024-03-27T16:22:02.494352Z",
     "shell.execute_reply": "2024-03-27T16:22:02.493404Z",
     "shell.execute_reply.started": "2024-03-27T16:22:02.458930Z"
    }
   },
   "outputs": [
    {
     "data": {
      "text/html": [
       "<div>\n",
       "<style scoped>\n",
       "    .dataframe tbody tr th:only-of-type {\n",
       "        vertical-align: middle;\n",
       "    }\n",
       "\n",
       "    .dataframe tbody tr th {\n",
       "        vertical-align: top;\n",
       "    }\n",
       "\n",
       "    .dataframe thead th {\n",
       "        text-align: right;\n",
       "    }\n",
       "</style>\n",
       "<table border=\"1\" class=\"dataframe\">\n",
       "  <thead>\n",
       "    <tr style=\"text-align: right;\">\n",
       "      <th></th>\n",
       "      <th>Code_postal_01</th>\n",
       "      <th>Code_postal_02</th>\n",
       "      <th>Code_postal_03</th>\n",
       "      <th>Code_postal_04</th>\n",
       "      <th>Code_postal_05</th>\n",
       "      <th>Code_postal_06</th>\n",
       "      <th>Code_postal_07</th>\n",
       "      <th>Code_postal_08</th>\n",
       "      <th>Code_postal_09</th>\n",
       "      <th>Code_postal_0_</th>\n",
       "      <th>...</th>\n",
       "      <th>filtre_Restaurant</th>\n",
       "      <th>filtre_Restauration_collective</th>\n",
       "      <th>filtre_Traiteur</th>\n",
       "      <th>filtre_Traiteur_Boucherie_Charcuterie</th>\n",
       "      <th>ods_type_activite_Autres</th>\n",
       "      <th>ods_type_activite_Lait_et_produits_laitiers</th>\n",
       "      <th>ods_type_activite_Produits_de_la_mer_et_d_eau_douce</th>\n",
       "      <th>ods_type_activite_Transport_et_entreposage_de_denr_es_alimentaires</th>\n",
       "      <th>ods_type_activite_Viandes_et_produits_carn_s</th>\n",
       "      <th>ods_type_activite__ufs_et_ovoproduits</th>\n",
       "    </tr>\n",
       "  </thead>\n",
       "  <tbody>\n",
       "    <tr>\n",
       "      <th>0</th>\n",
       "      <td>0.0</td>\n",
       "      <td>0.0</td>\n",
       "      <td>0.0</td>\n",
       "      <td>0.0</td>\n",
       "      <td>0.0</td>\n",
       "      <td>0.0</td>\n",
       "      <td>0.0</td>\n",
       "      <td>0.0</td>\n",
       "      <td>0.0</td>\n",
       "      <td>0.0</td>\n",
       "      <td>...</td>\n",
       "      <td>0.0</td>\n",
       "      <td>0.0</td>\n",
       "      <td>0.0</td>\n",
       "      <td>0.0</td>\n",
       "      <td>1.0</td>\n",
       "      <td>0.0</td>\n",
       "      <td>0.0</td>\n",
       "      <td>0.0</td>\n",
       "      <td>0.0</td>\n",
       "      <td>0.0</td>\n",
       "    </tr>\n",
       "    <tr>\n",
       "      <th>1</th>\n",
       "      <td>0.0</td>\n",
       "      <td>0.0</td>\n",
       "      <td>0.0</td>\n",
       "      <td>0.0</td>\n",
       "      <td>0.0</td>\n",
       "      <td>0.0</td>\n",
       "      <td>0.0</td>\n",
       "      <td>0.0</td>\n",
       "      <td>0.0</td>\n",
       "      <td>0.0</td>\n",
       "      <td>...</td>\n",
       "      <td>0.0</td>\n",
       "      <td>0.0</td>\n",
       "      <td>0.0</td>\n",
       "      <td>0.0</td>\n",
       "      <td>1.0</td>\n",
       "      <td>0.0</td>\n",
       "      <td>0.0</td>\n",
       "      <td>0.0</td>\n",
       "      <td>0.0</td>\n",
       "      <td>0.0</td>\n",
       "    </tr>\n",
       "    <tr>\n",
       "      <th>2</th>\n",
       "      <td>0.0</td>\n",
       "      <td>0.0</td>\n",
       "      <td>0.0</td>\n",
       "      <td>0.0</td>\n",
       "      <td>0.0</td>\n",
       "      <td>0.0</td>\n",
       "      <td>0.0</td>\n",
       "      <td>0.0</td>\n",
       "      <td>0.0</td>\n",
       "      <td>0.0</td>\n",
       "      <td>...</td>\n",
       "      <td>1.0</td>\n",
       "      <td>0.0</td>\n",
       "      <td>0.0</td>\n",
       "      <td>0.0</td>\n",
       "      <td>1.0</td>\n",
       "      <td>0.0</td>\n",
       "      <td>0.0</td>\n",
       "      <td>0.0</td>\n",
       "      <td>0.0</td>\n",
       "      <td>0.0</td>\n",
       "    </tr>\n",
       "    <tr>\n",
       "      <th>3</th>\n",
       "      <td>0.0</td>\n",
       "      <td>0.0</td>\n",
       "      <td>0.0</td>\n",
       "      <td>0.0</td>\n",
       "      <td>0.0</td>\n",
       "      <td>0.0</td>\n",
       "      <td>0.0</td>\n",
       "      <td>0.0</td>\n",
       "      <td>0.0</td>\n",
       "      <td>0.0</td>\n",
       "      <td>...</td>\n",
       "      <td>1.0</td>\n",
       "      <td>0.0</td>\n",
       "      <td>0.0</td>\n",
       "      <td>0.0</td>\n",
       "      <td>1.0</td>\n",
       "      <td>0.0</td>\n",
       "      <td>0.0</td>\n",
       "      <td>0.0</td>\n",
       "      <td>0.0</td>\n",
       "      <td>0.0</td>\n",
       "    </tr>\n",
       "    <tr>\n",
       "      <th>4</th>\n",
       "      <td>0.0</td>\n",
       "      <td>0.0</td>\n",
       "      <td>0.0</td>\n",
       "      <td>0.0</td>\n",
       "      <td>0.0</td>\n",
       "      <td>0.0</td>\n",
       "      <td>0.0</td>\n",
       "      <td>0.0</td>\n",
       "      <td>0.0</td>\n",
       "      <td>0.0</td>\n",
       "      <td>...</td>\n",
       "      <td>0.0</td>\n",
       "      <td>0.0</td>\n",
       "      <td>0.0</td>\n",
       "      <td>0.0</td>\n",
       "      <td>1.0</td>\n",
       "      <td>0.0</td>\n",
       "      <td>0.0</td>\n",
       "      <td>0.0</td>\n",
       "      <td>0.0</td>\n",
       "      <td>0.0</td>\n",
       "    </tr>\n",
       "  </tbody>\n",
       "</table>\n",
       "<p>5 rows × 4176 columns</p>\n",
       "</div>"
      ],
      "text/plain": [
       "   Code_postal_01  Code_postal_02  Code_postal_03  Code_postal_04  \\\n",
       "0             0.0             0.0             0.0             0.0   \n",
       "1             0.0             0.0             0.0             0.0   \n",
       "2             0.0             0.0             0.0             0.0   \n",
       "3             0.0             0.0             0.0             0.0   \n",
       "4             0.0             0.0             0.0             0.0   \n",
       "\n",
       "   Code_postal_05  Code_postal_06  Code_postal_07  Code_postal_08  \\\n",
       "0             0.0             0.0             0.0             0.0   \n",
       "1             0.0             0.0             0.0             0.0   \n",
       "2             0.0             0.0             0.0             0.0   \n",
       "3             0.0             0.0             0.0             0.0   \n",
       "4             0.0             0.0             0.0             0.0   \n",
       "\n",
       "   Code_postal_09  Code_postal_0_  ...  filtre_Restaurant  \\\n",
       "0             0.0             0.0  ...                0.0   \n",
       "1             0.0             0.0  ...                0.0   \n",
       "2             0.0             0.0  ...                1.0   \n",
       "3             0.0             0.0  ...                1.0   \n",
       "4             0.0             0.0  ...                0.0   \n",
       "\n",
       "   filtre_Restauration_collective  filtre_Traiteur  \\\n",
       "0                             0.0              0.0   \n",
       "1                             0.0              0.0   \n",
       "2                             0.0              0.0   \n",
       "3                             0.0              0.0   \n",
       "4                             0.0              0.0   \n",
       "\n",
       "   filtre_Traiteur_Boucherie_Charcuterie  ods_type_activite_Autres  \\\n",
       "0                                    0.0                       1.0   \n",
       "1                                    0.0                       1.0   \n",
       "2                                    0.0                       1.0   \n",
       "3                                    0.0                       1.0   \n",
       "4                                    0.0                       1.0   \n",
       "\n",
       "   ods_type_activite_Lait_et_produits_laitiers  \\\n",
       "0                                          0.0   \n",
       "1                                          0.0   \n",
       "2                                          0.0   \n",
       "3                                          0.0   \n",
       "4                                          0.0   \n",
       "\n",
       "   ods_type_activite_Produits_de_la_mer_et_d_eau_douce  \\\n",
       "0                                                0.0     \n",
       "1                                                0.0     \n",
       "2                                                0.0     \n",
       "3                                                0.0     \n",
       "4                                                0.0     \n",
       "\n",
       "   ods_type_activite_Transport_et_entreposage_de_denr_es_alimentaires  \\\n",
       "0                                                0.0                    \n",
       "1                                                0.0                    \n",
       "2                                                0.0                    \n",
       "3                                                0.0                    \n",
       "4                                                0.0                    \n",
       "\n",
       "   ods_type_activite_Viandes_et_produits_carn_s  \\\n",
       "0                                           0.0   \n",
       "1                                           0.0   \n",
       "2                                           0.0   \n",
       "3                                           0.0   \n",
       "4                                           0.0   \n",
       "\n",
       "   ods_type_activite__ufs_et_ovoproduits  \n",
       "0                                    0.0  \n",
       "1                                    0.0  \n",
       "2                                    0.0  \n",
       "3                                    0.0  \n",
       "4                                    0.0  \n",
       "\n",
       "[5 rows x 4176 columns]"
      ]
     },
     "execution_count": 21,
     "metadata": {},
     "output_type": "execute_result"
    }
   ],
   "source": [
    "test_processed.head()"
   ]
  },
  {
   "cell_type": "markdown",
   "metadata": {},
   "source": [
    "#### 1.3. Finalize train, test"
   ]
  },
  {
   "cell_type": "markdown",
   "metadata": {},
   "source": [
    "**Remove independent variables that exist only in train or test.**"
   ]
  },
  {
   "cell_type": "code",
   "execution_count": 22,
   "metadata": {
    "execution": {
     "iopub.execute_input": "2024-03-27T16:22:02.496144Z",
     "iopub.status.busy": "2024-03-27T16:22:02.495780Z",
     "iopub.status.idle": "2024-03-27T16:22:02.903113Z",
     "shell.execute_reply": "2024-03-27T16:22:02.901727Z",
     "shell.execute_reply.started": "2024-03-27T16:22:02.496114Z"
    }
   },
   "outputs": [
    {
     "name": "stdout",
     "output_type": "stream",
     "text": [
      "Drop: 4530, ['Libelle_commune_Gueugnon', 'Libelle_commune_Plumelec', 'Libelle_commune_Saint_Sa_ns', 'APP_Libelle_activite_etablissement_Fromagerie_Libre_service_Alimentation_g_n_rale_Traiteur', 'Libelle_commune_Saint_Chabrais', 'Libelle_commune_La_Sabotterie', 'Libelle_commune_Saint_Julien_les_Rosiers', 'Libelle_commune_Neuves_Maisons', 'Libelle_commune_M_rindol', 'Libelle_commune_Boscamnant', 'Libelle_commune_Saint_Germain_les_Vergnes', 'Libelle_commune_Domart_en_Ponthieu', 'Libelle_commune__le_d_Houat', 'Libelle_commune_Saint_Priest_la_Marche', 'Libelle_commune_Voiron', 'Libelle_commune_Menet', 'Libelle_commune_Bainville_sur_Madon', 'Libelle_commune_Servi_res_le_Ch_teau', 'Libelle_commune_Coeur_de_Causse', 'Libelle_commune_Saint_Marcel_l_s_Valence', 'Libelle_commune_Lauris', 'Libelle_commune_Saint_Sauveur_en_Puisaye', 'Libelle_commune_Croix', 'Libelle_commune_Gannay_sur_Loire', 'Libelle_commune_Meuzac', 'Libelle_commune_Vittoncourt', 'Libelle_commune_Pont_l_Abb_', 'Libelle_commune_Brou', 'Libelle_commune_La_Sauni_re', 'Libelle_commune_Flor_mont', 'Libelle_commune_Montherm_', 'Libelle_commune_Cuzorn', 'Libelle_commune_Waben', 'Libelle_commune_Opp_de', 'Libelle_commune_Arboucave', 'Libelle_commune_Vog__', 'Libelle_commune_La_Capelle_Balaguier', 'Libelle_commune_Saint_Paul_de_Vence', 'Libelle_commune_Montfort_en_Chalosse', 'Libelle_commune_Sainte_Marie_au_Bosc', 'Libelle_commune_Tr_lou_sur_Marne', 'Libelle_commune_Forest_Saint_Julien', 'Libelle_commune_Villes_que', 'Libelle_commune_Sergines', 'Libelle_commune_Argentr__du_Plessis', 'Libelle_commune_Beaune_la_Rolande', 'Libelle_commune_Gimont', 'Libelle_commune_Saint__tienne_de_Fontbellon', 'Libelle_commune_Mercurol_Veaunes', 'Libelle_commune_Plateau_des_Petites_Roches', 'Libelle_commune_Saint_L_ger_de_Peyre', 'filtre_Libre_service_Rayon_poissonnerie_Rayon_fromagerie_Rayon_traiteur_Rayon_pain_viennoiserie_p_tisserie', 'Libelle_commune_Cast_ra_Bouzet', 'Libelle_commune_Ternay', 'Libelle_commune_Avize', 'Libelle_commune_Boeschepe', 'Libelle_commune_Bournel', 'filtre_Libre_service_Rayon_pain_viennoiserie_p_tisserie_Rayon_boucherie_charcuterie', 'Libelle_commune_Lu_on', 'Libelle_commune_Amb_s', 'Libelle_commune_Romenay', 'Libelle_commune_Saint_Jean', 'Libelle_commune_Pont_de_Veyle', 'Libelle_commune_Loscou_t_sur_Meu', 'Libelle_commune_Bourg_Saint_Bernard', 'Libelle_commune_Berz_me', 'Libelle_commune_Crouy', 'Libelle_commune_V_traz_Monthoux', 'Libelle_commune_Malansac', 'Libelle_commune_Montigny_l_s_Cormeilles', 'Libelle_commune_Abainville', 'Libelle_commune_Saint_Pierre_de_Chandieu', 'Libelle_commune_Francaltroff', 'Libelle_commune_Lauwin_Planque', 'Libelle_commune_Avesnelles', 'Libelle_commune_Buigny_l_Abb_', 'filtre_Fromagerie_Alimentation_g_n_rale_Glacier_Traiteur_Boucherie_Charcuterie', 'Libelle_commune_La_Tessoualle', 'Libelle_commune_Parign__l__v_que', 'Libelle_commune_Saint_Denis_de_Gastines', 'Libelle_commune_Solaize', 'Libelle_commune_Minerve', 'Libelle_commune_Giffaumont_Champaubert', 'Libelle_commune_Peyrehorade', 'Libelle_commune_Toulouzette', 'Libelle_commune_Yffiniac', 'Libelle_commune_Vertou', 'Libelle_commune_Pleaux', 'Libelle_commune_Vern_sur_Seiche', 'Libelle_commune_Auffargis', 'Libelle_commune_Saint_Martin_de_l_If', 'Libelle_commune_Bezannes', 'Libelle_commune_Ch_teauneuf_du_Pape', 'Libelle_commune_Gundershoffen', 'Libelle_commune_Lubersac', 'Libelle_commune_Volx', 'Libelle_commune_Langlade', 'Libelle_commune_Ligueil', 'Libelle_commune_Saint_M_lany', 'Libelle_commune__vron', 'Libelle_commune_Montagny_pr_s_Louhans', 'Libelle_commune_Pompiey', 'Libelle_commune_Breuches', 'Libelle_commune_Aubignas', 'Libelle_commune_Boutiers_Saint_Trojan', 'Libelle_commune_Le_Bourget_du_Lac', 'Libelle_commune_Cravent', 'Libelle_commune_Gerberoy', 'Libelle_commune_Mellac', 'Libelle_commune_La_Chapelle_Marcousse', 'Libelle_commune_Bruille_Saint_Amand', 'Libelle_commune_Cl_res', 'Libelle_commune_Montclus', 'APP_Libelle_activite_etablissement_Rayon_fromagerie_Rayon_traiteur_Rayon_pain_viennoiserie_p_tisserie_Rayon_boucherie_charcuterie', 'Libelle_commune__percieux_Saint_Paul', 'Libelle_commune_La_Faurie', 'Libelle_commune_Esparsac', 'Libelle_commune_Avignonet_Lauragais', 'Libelle_commune_Roullens', 'Libelle_commune_Monfr_ville', 'Libelle_commune_Semoy', 'Libelle_commune_Domfront_en_Champagne', 'Libelle_commune_Englos', 'Libelle_commune_Haut_Clocher', 'Libelle_commune_Lanu_jols', 'Libelle_commune_La_Ville_du_Bois', 'Libelle_commune_Lesterps', 'Libelle_commune_Sagelat', 'Libelle_commune_Montigny_en_Gohelle', 'Libelle_commune_Molsheim', 'Libelle_commune_Perche_en_Noc_', 'Libelle_commune_Porte_du_Ried', 'Libelle_commune_Val_Suran', 'Libelle_commune_Chatou', 'Libelle_commune_Biville_la_Baignarde', 'Libelle_commune_Charcier', 'APP_Libelle_activite_etablissement_Libre_service_Alimentation_g_n_rale_Traiteur', 'Libelle_commune_Bures_sur_Yvette', 'Libelle_commune_Moulins_la_Marche', 'Libelle_commune_Dreuil_l_s_Amiens', 'Libelle_commune_La_Fert__Loupi_re', 'Libelle_commune_Esprels', 'Libelle_commune_Le_Lude', 'Libelle_commune_Thennes', 'Libelle_commune_Chalette_sur_Voire', 'Libelle_commune_Ach_res_la_For_t', 'Libelle_commune_Talais', 'Libelle_commune_Allemans', 'Libelle_commune_Saint_Cr_pin_d_Auberoche', 'Libelle_commune_Ch_teauneuf_Miravail', 'Libelle_commune_Saint_Jean_de_Braye', 'Libelle_commune_F_lines', 'Libelle_commune_Haut_Loquin', 'Libelle_commune_Apatou', 'Libelle_commune_Corbeil_Essonnes', 'Libelle_commune_Bessan', 'Libelle_commune_Saint_Laurent', 'Libelle_commune_Pierrefonds', 'Libelle_commune_M_nil_L_pinois', 'Libelle_commune_Saint_B_rain', 'Libelle_commune_Sari_d_Orcino', 'Libelle_commune_Saint_Poncy', 'Libelle_commune_M_zi_res_en_Drouais', 'Libelle_commune_Saint__tienne_de_Maurs', 'Libelle_commune_Gagnac_sur_C_re', 'Libelle_commune_Port_Louis', 'Libelle_commune_Linas', 'Libelle_commune_Moulin_Mage', 'Libelle_commune_Oiselay_et_Grachaux', 'Libelle_commune_Peyrieu', 'Libelle_commune_Belleydoux', 'Libelle_commune_Courset', 'Libelle_commune_Rochemaure', 'Libelle_commune_Saint_Jeures', 'Libelle_commune_Varages', 'Libelle_commune_Andiran', 'Libelle_commune_Marzens', 'Libelle_commune_Rieupeyroux', 'Libelle_commune_Land_da', 'Libelle_commune_Cantenay__pinard', 'Libelle_commune_Trosly_Breuil', 'Libelle_commune_Couville', 'Libelle_commune_Laignelet', 'Libelle_commune_Berni_res_d_Ailly', 'Libelle_commune_Lambres_lez_Douai', 'Libelle_commune_La_Caunette', 'Libelle_commune_Pr_cy_sur_Oise', 'Libelle_commune_Barras', 'Libelle_commune_La_Bouteille', 'Libelle_commune_Chavanges', 'Libelle_commune_Avignonet', 'Libelle_commune_Clohars_Carno_t', 'Libelle_commune_Tourtour', 'Libelle_commune_Loc_Br_valaire', 'Libelle_commune_M_racq', 'Libelle_commune_Courri_res', 'Libelle_commune_Pranzac', 'Libelle_commune_Saint_Jean_d_Arves', 'Libelle_commune_Br_m_nil', 'Libelle_commune_Th_nioux', 'Libelle_commune_Eus', 'Libelle_commune_Groisy', 'Libelle_commune_Saint_Julien_en_Saint_Alban', 'Libelle_commune_EVRY_COURCOURONNES', 'Libelle_commune_Montardon', 'Libelle_commune_Cagnes_sur_Mer', 'Libelle_commune_Galan', 'Libelle_commune_Muhlbach_sur_Munster', 'Libelle_commune_Llupia', 'Libelle_commune_Aix_Villemaur_P_lis', 'Libelle_commune_Anzat_le_Luguet', 'Libelle_commune_Deuil_la_Barre', 'Libelle_commune_Prouvy', 'Libelle_commune_Saint_Nicolas_de_Port', 'Libelle_commune_Fonbeauzard', 'Libelle_commune_Liesville_sur_Douve', 'Libelle_commune_Saramon', 'Libelle_commune_Mussig', 'Libelle_commune_Quincy', 'Libelle_commune_Fenouillet', 'Libelle_commune_Archiac', 'Libelle_commune_Onnaing', 'Libelle_commune_Lancieux', 'Libelle_commune_Err', 'Libelle_commune_Lit_et_Mixe', 'Libelle_commune_Fontaine_les_Gr_s', 'Libelle_commune_Les_Salles', 'Libelle_commune_La_Vernelle', 'Libelle_commune_Mesnil_Saint_P_re', 'Libelle_commune_Eschau', 'Libelle_commune_Trivy', 'Libelle_commune_Rapey', 'Libelle_commune_Spoy', 'Libelle_commune_Laruns', 'Libelle_commune_Fresnoy_le_Grand', 'Libelle_commune_Saint_Br_s', 'Libelle_commune_Les_M_es', 'Libelle_commune_Nizerolles', 'Libelle_commune_Cernion', 'Libelle_commune_Quincy_sous_S_nart', 'Libelle_commune_Pont_H_bert', 'Libelle_commune_Le_Bugue', 'Libelle_commune_Vagney', 'Libelle_commune_V_zelay', 'Libelle_commune_Parc_', 'Libelle_commune_Spay', 'Libelle_commune_Saulxures_sur_Moselotte', 'Libelle_commune_Ailly_sur_Noye', 'Libelle_commune__quemauville', 'Libelle_commune_Blavozy', 'Libelle_commune_Petite_Rosselle', 'Libelle_commune_Dagny', 'Libelle_commune_Sexey_aux_Forges', 'Libelle_commune_Saint_Maurice_des_Lions', 'Libelle_commune_Tr_veray', 'Libelle_commune_Saudron', 'Libelle_commune_Pfastatt', 'Libelle_commune_Blotzheim', 'Libelle_commune_Vitrolles_en_Lub_ron', 'Libelle_commune_Mons_Boubert', 'Libelle_commune_Chelle_Debat', 'Libelle_commune_Val_de_Sos', 'Libelle_commune_Ferri_res_en_Bray', 'Libelle_commune_Puygaillard_de_Quercy', 'Libelle_commune_Roquelaure', 'Libelle_commune_Beynac_et_Cazenac', 'Libelle_commune_Bourgueil', 'Libelle_commune_Belin_B_liet', 'Libelle_commune_Le_Grand_Serre', 'Libelle_commune_Fontenay_le_Vicomte', 'Libelle_commune_Saint_Martin_Rivi_re', 'Libelle_commune_La_Bastide_des_Jourdans', 'Libelle_commune_Murviel_l_s_Montpellier', 'Libelle_commune_Berck', 'Libelle_commune_Baume_les_Dames', 'Libelle_commune_Azereix', 'Libelle_commune_Montlandon', 'Libelle_commune_Pontmain', 'Libelle_commune_Cendras', 'Libelle_commune_Laye', 'Libelle_commune_Hi_res_sur_Amby', 'Libelle_commune_Ceauc_', 'Libelle_commune_Pl_lan_le_Grand', 'Libelle_commune_Ch_tillon_sur_Cher', 'Libelle_commune_Saint_Marcellin_en_Forez', 'Libelle_commune_Pencran', 'Libelle_commune_Creuzier_le_Neuf', 'Libelle_commune_Bagn_res_de_Luchon', 'Libelle_commune_Le_Carbet', 'Libelle_commune_Saint_Pierre_des_Jonqui_res', 'Libelle_commune_Vignacourt', 'Libelle_commune_Champagnac_de_Belair', 'Libelle_commune_Lagu_pie', 'Libelle_commune_Chaource', 'Libelle_commune_Tabre', 'Libelle_commune_Boisset', 'Libelle_commune_Tasso', 'Libelle_commune_Naujac_sur_Mer', 'Libelle_commune_Damelevi_res', 'Libelle_commune_Tournes', 'Libelle_commune_Berg_sur_Moselle', 'Libelle_commune_Willer_sur_Thur', 'Libelle_commune_Gaillard', 'Libelle_commune_Valbonne', 'Libelle_commune_Saint_Pierre_le_Chastel', 'filtre_Fromagerie_Libre_service_Alimentation_g_n_rale_Traiteur', 'Libelle_commune_Meursac', 'Libelle_commune_Fesques', 'Libelle_commune_Bouloire', 'Libelle_commune_Saint_Martin_Belle_Roche', 'Libelle_commune_Bussi_res', 'Libelle_commune_Tallud_Sainte_Gemme', 'Libelle_commune_Mouy', 'Libelle_commune_Servon_sur_Vilaine', 'Libelle_commune_Noironte', 'Libelle_commune_Dornas', 'Libelle_commune_Saint_Clair_sur_l_Elle', 'Libelle_commune_Plouaret', 'Libelle_commune_Saint_Vincent_de_Tyrosse', 'Libelle_commune_Pierrelaye', 'Libelle_commune_Hurigny', 'Libelle_commune_Asque', 'Libelle_commune_Marcoussis', 'Libelle_commune_Sautron', 'Libelle_commune_Chantrign_', 'Libelle_commune_Sauz__Vaussais', 'Libelle_commune_Champagnat_le_Jeune', 'Libelle_commune_Quintin', 'Libelle_commune_Saint_Sylvestre_Cappel', 'Libelle_commune_Les_Planches_en_Montagne', 'Libelle_commune_Xambes', 'Libelle_commune_Villefranche_de_Lauragais', 'Libelle_commune_Loubens', 'Libelle_commune_Pamplie', 'Libelle_commune_M_r_', 'Libelle_commune_Chapareillan', 'Libelle_commune_Magnac_Laval', 'Libelle_commune_Saint_Vincent_de_Reins', 'Libelle_commune_IGNY', 'Libelle_commune__vecquemont', 'Libelle_commune_Chemir__le_Gaudin', 'Libelle_commune_Arquian', 'Libelle_commune_Abondant', 'Libelle_commune_Tr_v_', 'Libelle_commune_Volesvres', 'Libelle_commune_La_Plaine_des_Palmistes', 'Libelle_commune_Chaponost', 'Libelle_commune_Montambert', 'Libelle_commune_Houdemont', 'Libelle_commune_Saint_Cernin', 'Libelle_commune_La_Crouzille', 'Libelle_commune_Barneville_Carteret', 'Libelle_commune_Buxi_res_les_Mines', 'Libelle_commune_Reillon', 'Libelle_commune_Escalquens', 'Libelle_commune_Saint_Michel_de_Boulogne', 'Libelle_commune_Cesseville', 'Libelle_commune_Dozul_', 'Libelle_commune_Aubry_du_Hainaut', 'Libelle_commune_Mesnil_la_Comtesse', 'Libelle_commune_Messei', 'Libelle_commune_Ostheim', 'Libelle_commune_Sommedieue', 'Libelle_commune_Saint_Jean_de_Verges', 'Libelle_commune_Bousbecque', 'Libelle_commune_Villennes_sur_Seine', 'Libelle_commune_Yvr__l__v_que', 'Libelle_commune_La_Touche', 'Libelle_commune_Noyant_Villages', 'Libelle_commune_Tarnos', 'Libelle_commune_Grandvilliers', 'Libelle_commune_Maurs', 'Libelle_commune_Chaunay', 'Libelle_commune_Pl_lauff', 'Libelle_commune_Pralong', 'Libelle_commune_La_Roque_Alric', 'Libelle_commune_Fuveau', 'Libelle_commune_La_V_ze', 'Libelle_commune_Fongrave', 'Libelle_commune_Saint_Donat_sur_l_Herbasse', 'Libelle_commune_Saint_Malo_de_Phily', 'Libelle_commune_Landeyrat', 'Libelle_commune_Puceul', 'Libelle_commune_Le_Landreau', 'Libelle_commune_Parn__sur_Roc', 'Libelle_commune_Zonza', 'Libelle_commune_Campistrous', 'Libelle_commune_Saint_Puy', 'Libelle_commune_Marchiennes', 'Libelle_commune_Martigny_les_Gerbonvaux', 'Libelle_commune_S_vremont', 'Libelle_commune_Merlas', 'Libelle_commune_Courtisols', 'Libelle_commune_Pommerit_le_Vicomte', 'Libelle_commune_Marcols_les_Eaux', 'Libelle_commune_Baraqueville', 'Libelle_commune_Neuville_Ferri_res', 'Libelle_commune_Plesder', 'Libelle_commune_Orci_res', 'Libelle_commune_Tr_mons', 'Libelle_commune_Planay', 'Libelle_commune_Laparade', 'Libelle_commune_Pont_de_Vaux', 'Libelle_commune_Montr_jeau', 'Libelle_commune_Plumieux', 'Libelle_commune_Poulx', 'Libelle_commune_B_rou_la_Muloti_re', 'Libelle_commune_Marsannay_la_C_te', 'Libelle_commune_G_nelard', 'Libelle_commune_Berneuil_en_Bray', 'Libelle_commune_Boubers_l_s_Hesmond', 'Libelle_commune_Bayon', 'Libelle_commune_Vaux_le_P_nil', 'Libelle_commune_Chom_rac', 'Libelle_commune_Montceau_les_Mines', 'Libelle_commune_Wasserbourg', 'Libelle_commune_Sanry_l_s_Vigy', 'Libelle_commune_Fr_vent', 'Libelle_commune_Mugron', 'Libelle_commune_Tr_lon', 'Libelle_commune_Ocana', 'Libelle_commune_Caupenne', 'Libelle_commune_Bellegarde_en_Forez', 'Libelle_commune_Les_Fins', 'Libelle_commune_Nouvion_sur_Meuse', 'Libelle_commune_Thiers_sur_Th_ve', 'Libelle_commune_Cizay_la_Madeleine', 'APP_Libelle_activite_etablissement_Libre_service_Alimentation_g_n_rale_Rayon_pain_viennoiserie_p_tisserie_Rayon_boucherie_charcuterie', 'Libelle_commune_G_vres', 'Libelle_commune_M_rs_Erign_', 'Libelle_commune_Rozier_en_Donzy', 'Libelle_commune_Bayons', 'Libelle_commune_Ury', 'APP_Libelle_activite_etablissement_Fromagerie_Libre_service_Alimentation_g_n_rale_Boulangerie_P_tisserie_Boucherie_Charcuterie', 'Libelle_commune_Taupont', 'Libelle_commune_Aytr_', 'Libelle_commune_Bouafle', 'Libelle_commune_Loperhet', 'Libelle_commune_Vias', 'Libelle_commune_Bi_vres', 'Libelle_commune_Monts', 'Libelle_commune_Cr_vecoeur_le_Grand', 'Libelle_commune_Raucoules', 'Libelle_commune_Saint_Brisson_sur_Loire', 'Libelle_commune_Loug__sur_Maire', 'Libelle_commune_Salleboeuf', 'Libelle_commune_Domloup', 'Libelle_commune_Le_Porge', 'Libelle_commune_Rollancourt', 'Libelle_commune_Saillans', 'Libelle_commune_Erbr_e', 'Libelle_commune_Roche_lez_Beaupr_', 'filtre_Libre_service_Rayon_fromagerie_Rayon_pain_viennoiserie_p_tisserie_Rayon_boucherie_charcuterie', 'Libelle_commune_La_Trinit__sur_Mer', 'Libelle_commune_Thi_treville', 'Libelle_commune_Segonzac', 'Libelle_commune_Montiers_sur_Saulx', 'Libelle_commune_Noailles', 'Libelle_commune_Saint_Laurent_en_Beaumont', 'Libelle_commune_Concoret', 'Libelle_commune_Saint_Pardoux_la_Rivi_re', 'Libelle_commune_Kergloff', 'Libelle_commune_Marcy_l__toile', 'Libelle_commune_Soullans', 'Libelle_commune_Saubion', 'Libelle_commune_Les_Cluses', 'Libelle_commune_Barguelonne_en_Quercy', 'Libelle_commune_Saint_Ouen_de_S_cherouvre', 'Libelle_commune_Roaix', 'Libelle_commune_Esquennoy', 'Libelle_commune_Piana', 'Libelle_commune_Nordheim', 'Libelle_commune_Guerlesquin', 'Libelle_commune_Guidel', 'Libelle_commune_La_Roquebrussanne', 'Libelle_commune_Pleure', 'Libelle_commune_Pussay', 'Libelle_commune_Val_d_Oingt', 'Libelle_commune_Banvou', 'Libelle_commune_Bernay_Saint_Martin', 'Libelle_commune_Sevelinges', 'Libelle_commune_Attichy', 'Libelle_commune_Durtal', 'Libelle_commune_Chars', 'Libelle_commune_Vercel_Villedieu_le_Camp', 'Libelle_commune_Bourigeole', 'Libelle_commune_Rampieux', 'Libelle_commune_Frans', 'Libelle_commune_La_Chapelle_pr_s_S_es', 'Libelle_commune_Giel_Courteilles', 'Libelle_commune_Chabanais', 'Libelle_commune_Loyat', 'Libelle_commune_Monflanquin', 'Libelle_commune_Cuzieu', 'Libelle_commune_Mach_zal', 'Libelle_commune_Beaumont_de_Lomagne', 'Libelle_commune_Captieux', 'Libelle_commune_Abri_s_Ristolas', 'Libelle_commune_Saint_Nicolas', 'Libelle_commune_Mol_ans', 'Libelle_commune_Riotord', 'Libelle_commune_Gerbaix', 'Libelle_commune_Saint_Didier_de_la_Tour', 'Libelle_commune_Pleslin_Trigavou', 'Libelle_commune_Saint_Vougay', 'Libelle_commune_Latronqui_re', 'Libelle_commune_Mornay', 'Libelle_commune_Lourches', 'Libelle_commune_Saint_Jean_de_Boiseau', 'Libelle_commune_Creutzwald', 'Libelle_commune_Portel_des_Corbi_res', 'Libelle_commune_Jaunac', 'Libelle_commune_Gilley', 'Libelle_commune_Saint_Paul_et_Valmalle', 'Libelle_commune_Valdelaume', 'Libelle_commune_Ornans', 'Libelle_commune_Launay_Villiers', 'Libelle_commune_Briis_sous_Forges', 'Libelle_commune_Montignac_de_Lauzun', 'Libelle_commune_Vendat', 'Libelle_commune_La_Luzerne', 'Libelle_commune_Belflou', 'Libelle_commune_Gilhoc_sur_Orm_ze', 'Libelle_commune_Val_de_Virieu', 'Libelle_commune_Iwuy', 'Libelle_commune_Malafretaz', 'Libelle_commune_La_Membrolle_sur_Choisille', 'Libelle_commune_Le_Bas_S_gala', 'Libelle_commune_Caz_res', 'Libelle_commune_Saint_Martin_Terressus', 'Libelle_commune_Pomarez', 'Libelle_commune_Lesdins', 'Libelle_commune_Montgreleix', 'Libelle_commune_Sault', 'Libelle_commune_Saint_Pierre_du_Regard', 'Libelle_commune_L_signy', 'Libelle_commune_La_Barre_de_Monts', 'Libelle_commune_Noyal_Ch_tillon_sur_Seiche', 'Libelle_commune_Pontorson', 'Libelle_commune_Dun_sur_Auron', 'Libelle_commune_N_vache', 'Libelle_commune_Saint__varzec', 'Libelle_commune_Azy_le_Vif', 'Libelle_commune_Thollon_les_M_mises', 'Libelle_commune_Saint_Bonnet_de_Joux', 'Libelle_commune_Saint_Andr__de_Sangonis', 'Libelle_commune_La_Rochette', 'Libelle_commune_Saint_Agnant_de_Versillat', 'Libelle_commune_Lamure_sur_Azergues', 'Libelle_commune_Noailhac', 'Libelle_commune_Soubise', 'Libelle_commune_M_zir_', 'Libelle_commune_Preignan', 'Libelle_commune_Sottevast', 'Libelle_commune_Bertric_Bur_e', 'filtre_Fromagerie_Chocolatier_Boulangerie_P_tisserie_Traiteur', 'Libelle_commune_Nersac', 'Libelle_commune_Plancy_l_Abbaye', 'Libelle_commune_Chaussin', 'Libelle_commune_Saint_Gen_s_Champespe', 'Libelle_commune_Chamb_on', 'Libelle_commune_Chablis', 'Libelle_commune_Fismes', 'Libelle_commune_M_autis', 'Libelle_commune_Lescou_t_Gouarec', 'Libelle_commune_Pierry', 'Libelle_commune_Saint_Beno_t_du_Sault', 'Libelle_commune_Arthez_d_Asson', 'Libelle_commune_Mainsat', 'Libelle_commune_Loudes', 'Libelle_commune_Saint_Martin_Lars_en_Sainte_Hermine', 'Libelle_commune_Millery', 'Libelle_commune_Vaudreuille', 'Libelle_commune_Sauxillanges', 'Libelle_commune_Irissarry', 'Libelle_commune_Corbeilles', 'Libelle_commune_Par_ay_Meslay', 'Libelle_commune_Laigny', 'Libelle_commune_Peyrat_la_Noni_re', 'Libelle_commune_Rouvroy', 'Libelle_commune_Champn_tery', 'Libelle_commune_Saint_Aignan', 'Libelle_commune_Graval', 'Libelle_commune_Bruy_res_sur_Oise', 'Libelle_commune_Blan', 'Libelle_commune_La_Gorgue', 'Libelle_commune_La_Boissi_re_des_Landes', 'Libelle_commune_Le_Langon', 'Libelle_commune_La_Chapelle_sur_Coise', 'Libelle_commune_Den_e', 'Libelle_commune_Gu_rigny', 'Libelle_commune_Golancourt', 'Libelle_commune_Loretz_d_Argenton', 'Libelle_commune_Carling', 'Libelle_commune_Pugnac', 'Libelle_commune_Dortan', 'Libelle_commune_Saint_Genix_les_Villages', 'Libelle_commune_Maringues', 'Libelle_commune_Reiningue', 'Libelle_commune_Burbach', 'Libelle_commune_Cohade', 'Libelle_commune_Warluis', 'Libelle_commune_Saint_L_ger_du_Gennetey', 'Libelle_commune_Lhospitalet', 'Libelle_commune__cully', 'Libelle_commune_Avesnes_en_Bray', 'Libelle_commune_Le_Pouliguen', 'Libelle_commune_Saint_Pancr_', 'Libelle_commune_Belv_d_re', 'Libelle_commune_L_Isle_sur_le_Doubs', 'Libelle_commune_Saint_Alban_sur_Limagnole', 'Libelle_commune_Avril_sur_Loire', 'Libelle_commune_La_Chauss_e_Saint_Victor', 'Libelle_commune_Planzolles', 'Libelle_commune_Bueil', 'Libelle_commune_Montestruc_sur_Gers', 'Libelle_commune_Pagny_l_s_Goin', 'Libelle_commune_Luzinay', 'Libelle_commune_Saint_Pastour', 'Libelle_commune_Hab_re_Poche', 'Libelle_commune_Selonnet', 'Libelle_commune_Talencieux', 'Libelle_commune_Chamant', 'Libelle_commune_Thoard', 'Libelle_commune_Lavau', 'Libelle_commune_Roussillon', 'Libelle_commune_Sancy', 'Libelle_commune_Les_Pins', 'Libelle_commune_Levier', 'Libelle_commune_Saint_Lubin_des_Joncherets', 'Libelle_commune_Allonnes', 'Libelle_commune_Prunelli_di_Fiumorbo', 'Libelle_commune_Ro_z__sur_Sarthe', 'Libelle_commune_Angely', 'Libelle_commune_Champagne', 'Libelle_commune_Corneilla_del_Vercol', 'Libelle_commune_Le_Ban_Saint_Martin', 'Libelle_commune_Plateau_d_Hauteville', 'Libelle_commune_Baudinard_sur_Verdon', 'Libelle_commune_Gasville_Ois_me', 'Libelle_commune__tainhus', 'Libelle_commune_Sorgues', 'Libelle_commune_Albussac', 'Libelle_commune_Le_Perthus', 'Libelle_commune_Parsac_Rimondeix', 'Libelle_commune_Urt', 'Libelle_commune_P_rigneux', 'Libelle_commune_Avion', 'Libelle_commune_Romans', 'Libelle_commune_Haillainville', 'Libelle_commune_Beaupr_au_en_Mauges', 'Libelle_commune_Brullemail', 'Libelle_commune_Nouaill__Maupertuis', 'Libelle_commune_Prunet', 'Libelle_commune_Duingt', 'Libelle_commune_R_ches', 'Libelle_commune_Le_Mesnil_Saint_Jean', 'Libelle_commune_Ajain', 'Libelle_commune_Cerzat', 'Libelle_commune_Laqueuille', 'Libelle_commune_Le_Loroux_Bottereau', 'Libelle_commune_Iffendic', 'Libelle_commune_Le_Vernet_Cham_ane', 'Libelle_commune_Champagn__Saint_Hilaire', 'Libelle_commune_Biganos', 'Libelle_commune_Bouzy', 'Libelle_commune_Pont_l_Abb__d_Arnoult', 'Libelle_commune_Ch_teau_Chinon__Ville_', 'Libelle_commune_Singleyrac', 'Libelle_commune_Valr_as', 'Libelle_commune_Favars', 'Libelle_commune_Manneville_la_Goupil', 'Libelle_commune_Conques_en_Rouergue', 'Libelle_commune_Pont_de_l_Arche', 'Libelle_commune_Caves', 'Libelle_commune_Su_vres', 'Libelle_commune_Betting', 'Libelle_commune_Froidfond', 'Libelle_commune_BREST', 'Libelle_commune_Couze_et_Saint_Front', 'Libelle_commune_Joudreville', 'Libelle_commune_Peyregoux', 'Libelle_commune_Marnay', 'Libelle_commune_Lons', 'Libelle_commune__chir_', 'Libelle_commune_Chasseneuil_du_Poitou', 'Libelle_commune_Montfermeil', 'Libelle_commune_Berson', 'Libelle_commune_Cosnes_et_Romain', 'Libelle_commune_Crolles', 'Libelle_commune_Le_Ferr_', 'Libelle_commune_Hambach', 'Libelle_commune_Dieulefit', 'Libelle_commune_Seraincourt', 'filtre_Libre_service_Rayon_poissonnerie_Rayon_boucherie_charcuterie', 'Libelle_commune_Grandparigny', 'Libelle_commune_Mouthier_Haute_Pierre', 'Libelle_commune_Savigny_sur_Braye', 'Libelle_commune_Roquedur', 'Libelle_commune_Linselles', 'Libelle_commune_VILLEBON_SUR_YVETTE', 'Libelle_commune_Grange_de_Vaivre', 'Libelle_commune_Mallemort', 'Libelle_commune_Les_Arcs', 'Libelle_commune_Verquigneul', 'Libelle_commune_M_sandans', 'Libelle_commune_Treilles', 'Libelle_commune_Itxassou', 'Libelle_commune_Seltz', 'Libelle_commune_Puylaurens', 'Libelle_commune_SAINT_JOSEPH_DE_RIVIERE', 'Libelle_commune_Le_Mesnil_au_Val', 'Libelle_commune_Saint_Jean_des_Champs', 'Libelle_commune_Fontaines_en_Sologne', 'Libelle_commune_Chay', 'Libelle_commune_Suriauville', 'Libelle_commune_Saint_Yrieix_la_Perche', 'Libelle_commune_Largillay_Marsonnay', 'Libelle_commune_Canet_en_Roussillon', 'Libelle_commune_Th_rondels', 'Libelle_commune_Tresses', 'Libelle_commune_Brassac_les_Mines', 'Libelle_commune_Villefontaine', 'Libelle_commune_Saint_F_lix_de_Tournegat', 'Libelle_commune_Saint_Martin_des_Champs', 'Libelle_commune_Gr_alou', 'Libelle_commune_Saint__tienne_Vall_e_Fran_aise', 'Libelle_commune_Thaix', 'Libelle_commune_Thonon_les_Bains', 'Libelle_commune_Saint_Aubin_sur_Mer', 'Libelle_commune_Bouhans', 'Libelle_commune_Tilloy_et_Bellay', 'Libelle_commune_Armendarits', 'Libelle_commune_Rainneville', 'Libelle_commune_Martignas_sur_Jalle', 'Libelle_commune_Ansac_sur_Vienne', 'Libelle_commune_Menucourt', 'Libelle_commune_Jeumont', 'Libelle_commune_LIMAY', 'Libelle_commune_La_Loupe', 'Libelle_commune_Daumazan_sur_Arize', 'Libelle_commune_Montesquiou', 'Libelle_commune_La_Bazouge_des_Alleux', 'Libelle_commune_Trambly', 'Libelle_commune_Ervy_le_Ch_tel', 'Libelle_commune_Beauvais_sur_Tescou', 'Libelle_commune_Belgod_re', 'Libelle_commune_Fontanil_Cornillon', 'Libelle_commune_B_d_chan', 'Libelle_commune_La_Biolle', 'Libelle_commune_B_darieux', 'Libelle_commune_Les_Combes', 'Libelle_commune_Appoigny', 'Libelle_commune_Ponlat_Taillebourg', 'Libelle_commune_Autignac', 'Libelle_commune_Montmorency', 'Libelle_commune_Seillans', 'Libelle_commune_Angous', 'Libelle_commune_Bretenoux', 'Libelle_commune_Neuilly_en_Donjon', 'Libelle_commune_Bo_n_sur_Lignon', 'Libelle_commune_Brioux_sur_Boutonne', 'Libelle_commune_Messia_sur_Sorne', 'Libelle_commune_Apchon', 'Libelle_commune_Eyzin_Pinet', 'Libelle_commune_Vall_es_d_Antraigues_Asperjoc', 'Libelle_commune_Boissezon', 'Libelle_commune_Vauxbuin', 'Libelle_commune_La_Ferri_re_Airoux', 'Libelle_commune_Eurville_Bienville', 'Libelle_commune_Mauves_sur_Huisne', 'Libelle_commune_Meung_sur_Loire', 'Libelle_commune_Salagnac', 'Libelle_commune_Saint_Pryv__Saint_Mesmin', 'Libelle_commune_Carri_res_sous_Poissy', 'Libelle_commune_Recoules_d_Aubrac', 'Libelle_commune_Azur', 'Libelle_commune_Th_us', 'Libelle_commune_Mont_gut_Plantaurel', 'Libelle_commune_Fresnes', 'Libelle_commune_Les_Villages_Vov_ens', 'Libelle_commune_Sablonceaux', 'Libelle_commune_Capestang', 'Libelle_commune_Saint_M_loir_des_Ondes', 'Libelle_commune_Onlay', 'Libelle_commune_M_ounes_l_s_Montrieux', 'Libelle_commune_Aulnoy_lez_Valenciennes', 'Libelle_commune_Guipavas', 'Libelle_commune_Aizenay', 'Libelle_commune_Cazouls_l_s_B_ziers', 'Libelle_commune_Darmannes', 'Libelle_commune_Wambercourt', 'Libelle_commune_Bourgogne_Fresne', 'Libelle_commune_Mo_lan_sur_Mer', 'Libelle_commune__vrecy', 'Libelle_commune_Les_Abrets_en_Dauphin_', 'Libelle_commune_Flagey_l_s_Auxonne', 'Libelle_commune_Chantepie', 'Libelle_commune_San_Nicolao', 'Libelle_commune_Hauteroche', 'Libelle_commune_Saint_Pierre_en_Port', 'Libelle_commune__tel', 'Libelle_commune_Civaux', 'Libelle_commune_Guewenheim', 'Libelle_commune_Lavigney', 'Libelle_commune_Fl_chy', 'Libelle_commune_Latour_de_France', 'Libelle_commune_Moustajon', 'Libelle_commune_Saint_Saulge', 'Libelle_commune_Creissan', 'Libelle_commune_Erbray', 'Libelle_commune_Estang', 'Libelle_commune_Bidache', 'Libelle_commune_Viarmes', 'Libelle_commune_Brun_mont', 'Libelle_commune__loyes', 'Libelle_commune_Castello_di_Rostino', 'Libelle_commune_Berlats', 'Libelle_commune_Le_M_le_sur_Sarthe', 'Libelle_commune_Cruas', 'Libelle_commune_Souill_', 'Libelle_commune_Sivry_Courtry', 'Libelle_commune_Genlis', 'Libelle_commune_L_signac_Durand', 'Libelle_commune_Ch_cy', 'Libelle_commune_Magnanville', 'Libelle_commune_Belcaire', 'Libelle_commune_Wittring', 'Libelle_commune_Souillac', 'Libelle_commune_Verlinghem', 'Libelle_commune_Montriond', 'Libelle_commune_Nay', 'Libelle_commune_La_Devise', 'Libelle_commune_Vaubecourt', 'Libelle_commune_Roquefeuil', 'Libelle_commune_Samois_sur_Seine', 'Libelle_commune_Bellencombre', 'Libelle_commune_M_zilhac', 'Libelle_commune_Nelling', 'Libelle_commune_Coteaux_sur_Loire', 'Libelle_commune_Chapelle_d_Huin', 'Libelle_commune_Gamarde_les_Bains', 'Libelle_commune_Bernay_Neuvy_en_Champagne', 'Libelle_commune_Montoison', 'Libelle_commune_Cauro', 'Libelle_commune_AMIENS', 'Libelle_commune_Douzy', 'Libelle_commune_Pontacq', 'Libelle_commune_Niederbronn_les_Bains', 'Libelle_commune_Liesse_Notre_Dame', 'Libelle_commune_Yves', 'Libelle_commune_Saint_Laurent_en_Royans', 'Libelle_commune_Saint_Julien_l_Ars', 'Libelle_commune_Saint__milion', 'Libelle_commune_B_doin', 'Libelle_commune_Ch_teau_Renard', 'Libelle_commune_Maignaut_Tauzia', 'Libelle_commune_Vauchelles_les_Quesnoy', 'Libelle_commune_Le_Bourg_d_Oisans', 'Libelle_commune_Saint_Gratien', 'Libelle_commune_Chermizy_Ailles', 'Libelle_commune_Domancy', 'Libelle_commune_Cormont', 'Libelle_commune_Berd_huis', 'Libelle_commune_Provench_res_l_s_Darney', 'Libelle_commune_Kerprich_aux_Bois', 'Libelle_commune_Plougrescant', 'Libelle_commune_Cauffry', 'Libelle_commune_Douvres_la_D_livrande', 'Libelle_commune_Lu_ay_le_M_le', 'Libelle_commune_L__guille', 'Libelle_commune_Bresse_sur_Grosne', 'Libelle_commune_Espagnac', 'Libelle_commune_Saint_Philbert_sur_Risle', 'Libelle_commune_Salviac', 'Libelle_commune_Orn_zan', 'Libelle_commune_Miramont_d_Astarac', 'Libelle_commune_A__Champagne', 'Libelle_commune_Achicourt', 'Libelle_commune_Chanteloup_les_Bois', 'Libelle_commune_Coye_la_For_t', 'Libelle_commune_Sornay', 'Libelle_commune_Tarnac', 'Libelle_commune_Murol', 'Libelle_commune_Poursac', 'Libelle_commune_BOVES', 'Libelle_commune_Aubas', 'Libelle_commune_Moutier_d_Ahun', 'Libelle_commune_Nuits_Saint_Georges', 'Libelle_commune_Harly', 'Libelle_commune_Grury', 'APP_Libelle_activite_etablissement_Alimentation_g_n_rale_Rayon_boucherie_charcuterie', 'Libelle_commune_Barfleur', 'Libelle_commune_Le_Castellet', 'Libelle_commune_Mouthiers_sur_Bo_me', 'Libelle_commune_Merville', 'Libelle_commune_Saint_Maxire', 'Libelle_commune_Brie_Comte_Robert', 'Libelle_commune_La_Beaume', 'Libelle_commune_Lescure_d_Albigeois', 'Libelle_commune_Breteil', 'Libelle_commune_Saint_M_en_le_Grand', 'Libelle_commune_Montbert', 'Libelle_commune_Gy__sur_Seine', 'Libelle_commune_Anterrieux', 'Libelle_commune_Saint_Ours', 'Libelle_commune_Ch_tillon_sur_Thouet', 'Libelle_commune_Nougaroulet', 'Libelle_commune_Le_Brusquet', 'Libelle_commune_Marcilly_sur_Maulne', 'Libelle_commune_Le_Thour', 'Libelle_commune_Moutiers_les_Mauxfaits', 'Libelle_commune_Bonneuil_Matours', 'Libelle_commune_Ch_teaugiron', 'Libelle_commune_Gourdon', 'Libelle_commune_Voulpaix', 'Libelle_commune_Le_Cannet_des_Maures', 'Libelle_commune_Chappes', 'Libelle_commune_G_rardmer', 'Libelle_commune_Melrand', 'Libelle_commune_Saint_Bardoux', 'Libelle_commune_Villerupt', 'Libelle_commune_Campagne_l_s_Guines', 'Libelle_commune_L_dignan', 'Libelle_commune_Saint_Austremoine', 'Libelle_commune_Mouton', 'Libelle_commune_Matemale', 'Libelle_commune_Saint_Pierre_d_Aurillac', 'Libelle_commune_Aast', 'Libelle_commune_Gourg_', 'Libelle_commune_Pompey', 'Libelle_commune_S_glien', 'Libelle_commune_Longessaigne', 'Libelle_commune_Verneuil_l__tang', 'Libelle_commune_La_Coquille', 'Libelle_commune_Villeneuve_de_la_Raho', 'Libelle_commune_Valence_sur_Ba_se', 'Libelle_commune_La_Freissinouse', 'Libelle_commune_La_M_zi_re', 'Libelle_commune_Le_Bernard', 'Libelle_commune_Crouay', 'Libelle_commune_Feneu', 'Libelle_commune_Saint_Michel_de_la_Ro_', 'Libelle_commune_Seppois_le_Bas', 'Libelle_commune_Parlan', 'Libelle_commune_Belley', 'Libelle_commune_Cazalrenoux', 'Libelle_commune_Courbesseaux', 'Libelle_commune_Bougligny', 'Libelle_commune_Beaurepaire', 'Libelle_commune_Sainte_Adresse', 'Libelle_commune_Briastre', 'Libelle_commune_Lemuy', 'Libelle_commune_Saint_Cyr_l__cole', 'Libelle_commune_VIZILLE', 'Libelle_commune_Chanas', 'Libelle_commune_Ch_zery_Forens', 'Libelle_commune_Bajamont', 'Libelle_commune_Lapeyre', 'Libelle_commune_Plan_de_Cuques', 'Libelle_commune_Bas_Mauco', 'Libelle_commune_Corancy', 'Libelle_commune_Villedieu_le_Ch_teau', 'Libelle_commune_Malakoff', 'Libelle_commune_Auxi_le_Ch_teau', 'Libelle_commune_Saint_Genis_sur_Menthon', 'Libelle_commune_Les_Mureaux', 'Libelle_commune_Loire_Authion', 'Libelle_commune_Saint_Pierre_de_Lages', 'Libelle_commune_Vielmur_sur_Agout', 'Libelle_commune_L_Escar_ne', 'Libelle_commune_Naours', 'Libelle_commune_Bages', 'Libelle_commune_Tr_gourez', 'Libelle_commune_Brouzet_l_s_Al_s', 'Libelle_commune_Lagru_re', 'Libelle_commune_La_Tombe', 'Libelle_commune_Montillot', 'Libelle_commune_Haut_Valromey', 'Libelle_commune_Saint_Germain_l_s_Arpajon', 'Libelle_commune_Perriers_sur_Andelle', 'Libelle_commune_Ytrac', 'Libelle_commune_Oye_et_Pallet', 'Libelle_commune_Foncine_le_Haut', 'Libelle_commune_Romill_', 'Libelle_commune_THIERS', 'Libelle_commune_Saint_Vincent_de_Paul', 'Libelle_commune_Quingey', 'Libelle_commune_Joinville_le_Pont', 'Libelle_commune_Orignolles', 'Libelle_commune_Paulin', 'Libelle_commune_Saint_Brandan', 'Libelle_commune_Thieffrans', 'Libelle_commune_Gras', 'Libelle_commune_Le_Cr_s', 'Libelle_commune_Isches', 'Libelle_commune_Larceveau_Arros_Cibits', 'Libelle_commune_Questembert', 'Libelle_commune_B_thisy_Saint_Pierre', 'Libelle_commune_Hirel', 'Libelle_commune_Saint_Selve', 'filtre_Alimentation_g_n_rale_Traiteur_Boucherie_Charcuterie', 'Libelle_commune_Th_zan_l_s_B_ziers', 'Libelle_commune_Le_Mesnil_Saint_Denis', 'Libelle_commune_Villeneuve_l_s_B_ziers', 'Libelle_commune_Bischoffsheim', 'Libelle_commune_Bourdeaux', 'Libelle_commune_Palinges', 'Libelle_commune_Paimpont', 'Libelle_commune_Rosi_res_en_Santerre', 'Libelle_commune_Plo_rdut', 'Libelle_commune_Vilosnes_Haraumont', 'Libelle_commune_Ladev_ze_Rivi_re', 'Libelle_commune_H_ric', 'Libelle_commune_Les_Fosses', 'Libelle_commune_Valzin_en_Petite_Montagne', 'Libelle_commune_Beaumont_en_Auge', 'Libelle_commune_Aisonville_et_Bernoville', 'Libelle_commune_L_on', 'Libelle_commune_Montredon_des_Corbi_res', 'Libelle_commune_Saint_Nauphary', 'Libelle_commune_Ax_les_Thermes', 'Libelle_commune_Peyrins', 'Libelle_commune_Provin', 'Libelle_commune_Montmeyran', 'Libelle_commune_P_renchies', 'Libelle_commune_Montvalent', 'Libelle_commune_Magnac_sur_Touvre', 'Libelle_commune_Moutiers_en_Puisaye', 'Libelle_commune_Merlines', 'Libelle_commune_Pessac_sur_Dordogne', 'Libelle_commune_Saint_F_lix_Lauragais', 'Libelle_commune_La_Roque_Esclapon', 'Libelle_commune_Lucenay_l_s_Aix', 'Libelle_commune_Bolbec', 'Libelle_commune_Descartes', 'Libelle_commune_Bou_re', 'Libelle_commune_Trampot', 'Libelle_commune_Herrin', 'Libelle_commune_Ch_lette_sur_Loing', 'Libelle_commune_Ancy_le_Franc', 'Libelle_commune_Champ_sur_Barse', 'Libelle_commune_Limay', 'Libelle_commune_Saint_Martin_le_Noeud', 'Libelle_commune_Besse_sur_Issole', 'Libelle_commune_QUIMPER', 'Libelle_commune_Seraucourt_le_Grand', 'Libelle_commune_Vahl_Ebersing', 'Libelle_commune_Saint_Gr_goire', 'Libelle_commune_Jaujac', 'Libelle_commune_Coutiches', 'APP_Libelle_activite_etablissement_Libre_service_Rayon_poissonnerie_Rayon_fromagerie_Rayon_traiteur_Rayon_pain_viennoiserie_p_tisserie', 'Libelle_commune_Ch_telus', 'Libelle_commune_Genouilly', 'Libelle_commune_Cugnaux', 'Libelle_commune_Fourc_s', 'Libelle_commune_Charnas', 'Libelle_commune_Ventiseri', 'Libelle_commune_Aubers', 'Libelle_commune_La_Norville', 'Libelle_commune_Lieu_Saint_Amand', 'Libelle_commune_Saint_Mars_d_Outill_', 'Libelle_commune_Faux_la_Montagne', 'Libelle_commune_Arcisses', 'Libelle_commune_La_Cassagne', 'Libelle_commune_Mons', 'Libelle_commune_Sault_l_s_Rethel', 'Libelle_commune_Coquelles', 'Libelle_commune_Virazeil', 'Libelle_commune_Cervens', 'Libelle_commune_La_Monnerie_le_Montel', 'Libelle_commune_Dissay', 'Libelle_commune_Verdilly', 'Libelle_commune_Cluses', 'Libelle_commune_Rouy', 'Libelle_commune_Saint_Germain_l_s_Corbeil', 'Libelle_commune_Sainte_Luce', 'Libelle_commune_Arcis_sur_Aube', 'Libelle_commune_Souchez', 'Libelle_commune_Langeais', 'Libelle_commune_Saint_Christophe_en_Brionnais', 'Libelle_commune_S_es', 'Libelle_commune_La_Chapelle_Saint_Ursin', 'Libelle_commune_Saint_Victoret', 'Libelle_commune_Magnac_Lavalette_Villars', 'Libelle_commune_Marseille_1er_Arrondissement', 'Libelle_commune_Viuz_en_Sallaz', 'Libelle_commune_R_parsac', 'Libelle_commune_Exireuil', 'Libelle_commune_Oraison', 'Libelle_commune_Guyans_Vennes', 'Libelle_commune_M_ry_sur_Seine', 'Libelle_commune_La_Neuville_aux_Larris', 'Libelle_commune_Les_Landes_Genusson', 'Libelle_commune_Flavigny_sur_Moselle', 'Libelle_commune_SARTROUVILLE', 'Libelle_commune_Tourch', 'Libelle_commune_Troyon', 'Libelle_commune__treval', 'Libelle_commune_Paillart', 'Libelle_commune_Foug_res', 'Libelle_commune_Fay_sur_Lignon', 'Libelle_commune_Sainte_Croix_en_Plaine', 'Libelle_commune_B_con_les_Granits', 'Libelle_commune_Troarn', 'Libelle_commune_Sous_Parsat', 'Libelle_commune_Cornill__les_Caves', 'Libelle_commune_Cuvier', 'Libelle_commune_Mayrac', 'Libelle_commune_Logny_Bogny', 'Libelle_commune_Musculdy', 'Libelle_commune_Cl_der', 'Libelle_commune_Sansac_Veinaz_s', 'Libelle_commune_Mondilhan', 'Libelle_commune_Saint_Georges_de_Rouelley', 'Libelle_commune_Saint__pain', 'Libelle_commune_Saint_Cyr_au_Mont_d_Or', 'Libelle_commune_Sondernach', 'Libelle_commune_Gondecourt', 'Libelle_commune_Aunou_le_Faucon', 'Libelle_commune_Neuilly_le_Brignon', 'Libelle_commune_ACHERES', 'Libelle_commune_PLOUZANE', 'Libelle_commune_Mauroux', 'Libelle_commune_Granzay_Gript', 'Libelle_commune_Gari_s', 'Libelle_commune_Les_Clefs', 'Libelle_commune_Douvaine', 'Libelle_commune_Loubersan', 'Libelle_commune_Val_du_Maine', 'Libelle_commune_Urepel', 'Libelle_commune_Quistinic', 'Libelle_commune_Willems', 'Libelle_commune_La_Chapelle_Naude', 'Libelle_commune_Bruy_res_et_Montb_rault', 'Libelle_commune_Solre_le_Ch_teau', 'Libelle_commune_Plailly', 'Libelle_commune_Loubi_res', 'Libelle_commune_Levroux', 'Libelle_commune_Volmunster', 'Libelle_commune_Modane', 'Libelle_commune_Saint_Beno_t_d_H_bertot', 'Libelle_commune_Ploisy', 'Libelle_commune_Saint_Priest_en_Murat', 'Libelle_commune_Montlaur', 'Libelle_commune_Beaufremont', 'Libelle_commune_Sainte_Sigol_ne', 'Libelle_commune_Frozes', 'Libelle_commune_Vacheresse', 'Libelle_commune_Hesdin_l_Abb_', 'Libelle_commune_Saumont_la_Poterie', 'Libelle_commune_Saint_Martial', 'Libelle_commune_Soulg__sur_Ouette', 'Libelle_commune_Villers_sur_Auchy', 'Libelle_commune_Renung', 'Libelle_commune_MILLY_LA_FORET', 'Libelle_commune_Cheminas', 'Libelle_commune_Loyettes', 'Libelle_commune_Saint_Pierre_de_Juillers', 'Libelle_commune_Billiers', 'APP_Libelle_activite_etablissement_Alimentation_g_n_rale_Boulangerie_P_tisserie_Glacier_Poissonnerie_Boucherie_Charcuterie', 'Libelle_commune_Nerbis', 'Libelle_commune_Mirebeau_sur_B_ze', 'Libelle_commune_Saint_L_ger_du_Bourg_Denis', 'Libelle_commune__penoy', 'Libelle_commune_Noailly', 'Libelle_commune_Sainte_H_l_ne_du_Lac', 'Libelle_commune_Treignac', 'Libelle_commune_Casamaccioli', 'Libelle_commune_La_Tour_sur_Orb', 'Libelle_commune_Balsi_ges', 'Libelle_commune_Mirecourt', 'Libelle_commune_Saint_Plantaire', 'Libelle_commune_Ludon_M_doc', 'Libelle_commune_Conty', 'Libelle_commune_Rochegude', 'Libelle_commune_Viels_Maisons', 'Libelle_commune_L__le_d_Olonne', 'Libelle_commune_Biard', 'Libelle_commune_LE_FOLGOET', 'Libelle_commune_Ermenonville', 'Libelle_commune_Foussais_Payr_', 'Libelle_commune_Saint_Hippolyte_du_Fort', 'Libelle_commune_Soultz_Haut_Rhin', 'Libelle_commune_Fronsac', 'Libelle_commune_Coarraze', 'Libelle_commune_Les_Pieux', 'Libelle_commune_Espinchal', 'Libelle_commune_Saint_Laurent_de_Cuves', 'Libelle_commune_Guichen', 'Libelle_commune_Matignon', 'Libelle_commune_Th_zac', 'Libelle_commune_Larrivi_re_Saint_Savin', 'Libelle_commune_Cublac', 'Libelle_commune_Longes', 'Libelle_commune_Le_Brugeron', 'Libelle_commune_Fontrieu', 'Libelle_commune_Tramoyes', 'Libelle_commune_Nan_ois_le_Grand', 'Libelle_commune_Marennes_Hiers_Brouage', 'Libelle_commune_Orcemont', 'Libelle_commune_Loon_Plage', 'Libelle_commune_Massiac', 'Libelle_commune_Beaucens', 'Libelle_commune_Nivolas_Vermelle', 'Libelle_commune_Nou_tre', 'Libelle_commune_Baillet_en_France', 'Libelle_commune_Quemper_Gu_zennec', 'Libelle_commune_Landaville', 'Libelle_commune_Lamorlaye', 'Libelle_commune_Saint_Glen', 'Libelle_commune_M_nigoute', 'Libelle_commune_Val_des_Vignes', 'Libelle_commune_Jullouville', 'Libelle_commune_Branceilles', 'Libelle_commune_Verteillac', 'Libelle_commune_Saint_Baudille_de_la_Tour', 'Libelle_commune_Viriat', 'Libelle_commune_S_randon', 'Libelle_commune_Savigny_le_Temple', 'filtre_Libre_service_Boucherie_Charcuterie', 'filtre_Boulangerie_P_tisserie_Boucherie_Charcuterie', 'Libelle_commune_Doizieux', 'Libelle_commune_Altkirch', 'Libelle_commune_Jarnosse', 'Libelle_commune_Igny', 'Libelle_commune_Angoulins', 'filtre_Libre_service_Alimentation_g_n_rale_Traiteur', 'Libelle_commune_Montmirail', 'Libelle_commune_Plouguiel', 'Libelle_commune_Moroges', 'Libelle_commune_Comps', 'Libelle_commune_Saint_Illide', 'Libelle_commune_ETIOLLES', 'Libelle_commune_Boissy_Lamberville', 'Libelle_commune_Dampierre_sur_Salon', 'Libelle_commune_Malataverne', 'Libelle_commune_Macheren', 'Libelle_commune_Saint_Antoine_de_Ficalba', 'Libelle_commune__tagnac', 'Libelle_commune_Libercourt', 'Libelle_commune_Pelousey', 'Libelle_commune_Maisse', 'Libelle_commune_Ozoir_la_Ferri_re', 'Libelle_commune_Folles', 'Libelle_commune_Doyet', 'Libelle_commune_Villemotier', 'Libelle_commune_Mespl_de', 'Libelle_commune_Longlaville', 'Libelle_commune_Rethonvillers', 'Libelle_commune_Boiscommun', 'Libelle_commune_Leuhan', 'Libelle_commune_Bois_de_C_n_', 'Libelle_commune_Gassin', 'Libelle_commune_Dullin', 'Libelle_commune_Rabastens_de_Bigorre', 'Libelle_commune_Giberville', 'Libelle_commune_Catllar', 'Libelle_commune_Guerville', 'Libelle_commune_Montaignac_sur_Doustre', 'Libelle_commune_Mauquenchy', 'Libelle_commune_Le_Houga', 'Libelle_commune_Cauverville_en_Roumois', 'Libelle_commune_Fauverney', 'Libelle_commune_Bians_les_Usiers', 'Libelle_commune_Salavas', 'Libelle_commune_Ligug_', 'Libelle_commune_Flavy_le_Martel', 'Libelle_commune_Mont_sous_Vaudrey', 'Libelle_commune_Prix_l_s_M_zi_res', 'Libelle_commune_Sauveterre_de_Guyenne', 'Libelle_commune_Saint_R_my_des_Monts', 'Libelle_commune_Chilly_Mazarin', 'Libelle_commune_Rozay_en_Brie', 'Libelle_commune_La_R_para_Auriples', 'Libelle_commune_Saint_Just_de_Claix', 'Libelle_commune_Rixheim', 'Libelle_commune_Rodelinghem', 'Libelle_commune_Allemagne_en_Provence', 'Libelle_commune_Domfront', 'Libelle_commune_Lapte', 'Libelle_commune_Montfleur', 'Libelle_commune_Saint_Nicolas_des_Bois', 'Libelle_commune_Saint_Christophe_des_Bois', 'Libelle_commune_Ploumagoar', 'Libelle_commune_La_Truch_re', 'Libelle_commune_Mosset', 'Libelle_commune_Gonneville_sur_Scie', 'Libelle_commune_La_Riche', 'Libelle_commune_Arsure_Arsurette', 'Libelle_commune_Sainte_Marguerite_sur_Duclair', 'Libelle_commune_Le_Bignon', 'Libelle_commune_Montataire', 'Libelle_commune_Allouagne', 'Libelle_commune_Moca_Croce', 'Libelle_commune_Avaray', 'Libelle_commune_Amancey', 'Libelle_commune_Coudray', 'Libelle_commune_Marchastel', 'Libelle_commune_Ruffey_sur_Seille', 'Libelle_commune_Durban_Corbi_res', 'Libelle_commune_Haravilliers', 'Libelle_commune_Mireval_Lauragais', 'Libelle_commune_Barbizon', 'Libelle_commune_Abscon', 'Libelle_commune_Flamanville', 'Libelle_commune_Le_Vernet_Sainte_Marguerite', 'Libelle_commune_Lamazi_re_Basse', 'Libelle_commune_Querrien', 'Libelle_commune_Rai', 'Libelle_commune_P_ronnas', 'Libelle_commune_Allondrelle_la_Malmaison', 'Libelle_commune_L__pine', 'Libelle_commune_Le_Montsaugeonnais', 'Libelle_commune_Gravelines', 'Libelle_commune_Carcans', 'Libelle_commune_Saint_Arcons_d_Allier', 'Libelle_commune_Somme_Suippe', 'Libelle_commune_Lanta', 'Libelle_commune_Moust_ru', 'Libelle_commune_Fraize', 'Libelle_commune_Saint_Vincent_d_Aut_jac', 'Libelle_commune_Montmarault', 'Libelle_commune_Jarrie', 'Libelle_commune_Rohan', 'Libelle_commune_Fontenay_le_Comte', 'Libelle_commune_Les_Villedieu', 'Libelle_commune_Marsan', 'Libelle_commune_Villers_sur_Coudun', 'Libelle_commune_Siccieu_Saint_Julien_et_Carisieu', 'Libelle_commune_Venarey_les_Laumes', 'Libelle_commune_CACHAN', 'Libelle_commune_Liancourt', 'Libelle_commune_Beyren_l_s_Sierck', 'Libelle_commune_La_Roquette_sur_Siagne', 'Libelle_commune_Ladignac_le_Long', 'Libelle_commune_Faremoutiers', 'Libelle_commune_RUEIL_MALMAISON', 'Libelle_commune_Sainte_Terre', 'Libelle_commune_Chaudes_Aigues', 'Libelle_commune_Baillif', 'Libelle_commune_Saint_Sylvestre', 'Libelle_commune_Fauch', 'Libelle_commune_Quimperl_', 'Libelle_commune_La_Celle_Saint_Avant', 'filtre_Rayon_fromagerie_Rayon_traiteur_Rayon_pain_viennoiserie_p_tisserie_Rayon_boucherie_charcuterie', 'Libelle_commune_Vach_res', 'Libelle_commune_Domptail_en_l_Air', 'Libelle_commune_Cr_py', 'Libelle_commune_De_l_mont', 'Libelle_commune_Saint_Cl_ment', 'Libelle_commune_Charny_Or_e_de_Puisaye', 'Libelle_commune_Maz_res', 'Libelle_commune_Lacaze', 'Libelle_commune_Cambremer', 'Libelle_commune_Caumont', 'Libelle_commune_Puchay', 'Libelle_commune_Boussac_Bourg', 'Libelle_commune_R_allon', 'Libelle_commune_LA_MURE', 'Libelle_commune_Burnhaupt_le_Haut', 'Libelle_commune_Bonni_res_sur_Seine', 'Libelle_commune_La_Roche_Rigault', 'Libelle_commune_Vitrac_Saint_Vincent', 'Libelle_commune_Lavaufranche', 'Libelle_commune_Saint_Ambroix', 'Libelle_commune_Quintenas', 'Libelle_commune_La_Francheville', 'Libelle_commune_Plouray', 'Libelle_commune_Nanteuil_le_Haudouin', 'Libelle_commune_La_Boissi_re_de_Montaigu', 'Libelle_commune_Bullion', 'Libelle_commune_La_Vineuse_sur_Fregande', 'Libelle_commune_Ennezat', 'Libelle_commune_Longu__Jumelles', 'Libelle_commune_BOURGOIN_JALLIEU', 'Libelle_commune_Marsonnas', 'Libelle_commune_M_rigny', 'Libelle_commune_MANTES_LA_VILLE', 'Libelle_commune_Ancelle', 'Libelle_commune_Saint_M_dard_en_Forez', 'Libelle_commune_Iholdy', 'Libelle_commune_Br_ville', 'Libelle_commune_Fenain', 'Libelle_commune_Thi_fosse', 'Libelle_commune__lancourt', 'Libelle_commune_Haubourdin', 'Libelle_commune_Quevauvillers', 'Libelle_commune_Saulgond', 'Libelle_commune_Ronchamp', 'Libelle_commune_Vauvillers', 'Libelle_commune_Bannes', 'Libelle_commune_Carspach', 'Libelle_commune_Irodou_r', 'Libelle_commune_Pouilly_sous_Charlieu', 'Libelle_commune_Benest', 'Libelle_commune_Saulce_sur_Rh_ne', 'Libelle_commune_Villerest', 'Libelle_commune_Peisey_Nancroix', 'Libelle_commune_Neuville_en_Ferrain', 'Libelle_commune_Aigre', 'Libelle_commune_S_peaux_Saint_Romain', 'Libelle_commune_Bessay_sur_Allier', 'Libelle_commune_Saint_Uze', 'Libelle_commune_Aix', 'Libelle_commune_Pleurtuit', 'Libelle_commune_Saint_Leu_d_Esserent', 'Libelle_commune_Commes', 'Libelle_commune_Serm_rieu', 'Libelle_commune_Le_Pas', 'Libelle_commune_Chastel_Nouvel', 'Libelle_commune_Berric', 'Libelle_commune_La_Fert__Vidame', 'Libelle_commune_Al_ay_Al_ab_h_ty_Sunharette', 'Libelle_commune_Saint_Sulpice', 'Libelle_commune_Gazeran', 'Libelle_commune_Janaillat', 'Libelle_commune_Retournac', 'Libelle_commune_Aromas', 'Libelle_commune_Doubs', 'Libelle_commune_Empurany', 'Libelle_commune_Saint_Jean_de_Marcel', 'Libelle_commune_Gouarec', 'Libelle_commune_Marignier', 'Libelle_commune_Cunlhat', 'Libelle_commune_Saint_Gorgon', 'Libelle_commune_Les_Moussi_res', 'Libelle_commune_Le_Pecq', 'Libelle_commune_Arrent_s_de_Corcieux', 'Libelle_commune_Sainte_Maure_de_Touraine', 'Libelle_commune_Vaulnaveys_le_Haut', 'Libelle_commune_Beaucaire', 'Libelle_commune_Chevreaux', 'Libelle_commune_Biziat', 'Libelle_commune_Saint_Andr__le_Gaz', 'Libelle_commune_Neuilly_en_Sancerre', 'Libelle_commune_Rives_de_l_Yon', 'Libelle_commune_VARCES_ALLIERES_ET_RISSET', 'Libelle_commune_Montesson', 'Libelle_commune_La_Tour_d_Aigues', 'Libelle_commune_Fayence', 'Libelle_commune_Salvizinet', 'Libelle_commune_La_Chapelle_Fortin', 'Libelle_commune_Binas', 'Libelle_commune_Saint_Paul_de_Varax', 'Libelle_commune_Petit_Mars', 'Libelle_commune_Moux_en_Morvan', 'Libelle_commune_La_Baffe', 'Libelle_commune_Cagnano', 'Libelle_commune_Sales', 'Libelle_commune_Ornex', 'Libelle_commune_Vouzan', 'Libelle_commune_Yssandon', 'Libelle_commune_Coulonges_sur_l_Autize', 'APP_Libelle_activite_etablissement_Libre_service_Rayon_poissonnerie_Rayon_boucherie_charcuterie', 'Libelle_commune_Bagn_res_de_Bigorre', 'Libelle_commune_Pagny_sur_Moselle', 'Libelle_commune_Pouru_Saint_Remy', 'Libelle_commune_Saint_Jeure_d_Andaure', 'Libelle_commune_Saint_Jean_de_Beugn_', 'Libelle_commune_Coulanges', 'Libelle_commune_Tours_en_Vimeu', 'Libelle_commune_Saleilles', 'Libelle_commune_Susville', 'Libelle_commune_Lugny', 'Libelle_commune_F_ron', 'Libelle_commune_Erquinghem_Lys', 'Libelle_commune_Saint_Jean_Pla_de_Corts', 'Libelle_commune_La_Chevroli_re', 'Libelle_commune_Cruis', 'Libelle_commune_Rosno_n', 'Libelle_commune_Servanches', 'Libelle_commune_Gordes', 'Libelle_commune_LE_GUA', 'Libelle_commune_VILLEMOISSON_SUR_ORGE', 'Libelle_commune_Avrill_', 'Libelle_commune_Saint_Martin_de_Castillon', 'Libelle_commune_Saran', 'Libelle_commune_Montpeyroux', 'Libelle_commune_La_Fert__Gaucher', 'Libelle_commune_Cauville', 'Libelle_commune_Chant_rac', 'Libelle_commune_Lecelles', 'Libelle_commune_Vendrennes', 'Libelle_commune_Sinard', 'Libelle_commune_Sains_du_Nord', 'Libelle_commune_Lioux_les_Monges', 'Libelle_commune_Les_Vastres', 'Libelle_commune_Bessans', 'Libelle_commune_Chanat_la_Mouteyre', 'Libelle_commune_Montenach', 'Libelle_commune_Beaujeu', 'Libelle_commune_Noisy_le_Roi', 'Libelle_commune_Par_ay_sur_Vienne', 'Libelle_commune_Savines_le_Lac', 'Libelle_commune_La_Roche_Blanche', 'Libelle_commune_Pl_neuf_Val_Andr_', 'Libelle_commune_Theillay', 'Libelle_commune_L_Herbergement', 'Libelle_commune_Chirassimont', 'Libelle_commune_Saint_Bonnet_de_Salers', 'Libelle_commune_Mayres', 'Libelle_commune__corches', 'Libelle_commune_Tessy_Bocage', 'Libelle_commune_VILLENNES_SUR_SEINE', 'Libelle_commune_Pauvres', 'Libelle_commune_Saint_Michel_l_Observatoire', 'Libelle_commune_Josat', 'Libelle_commune_Mollans', 'Libelle_commune_Pabu', 'Libelle_commune_Rouvroy_sur_Audry', 'Libelle_commune_Villeb_on', 'Libelle_commune_L_Horme', 'Libelle_commune_Steenvoorde', 'Libelle_commune_Chamarandes_Choignes', 'Libelle_commune_Mansempuy', 'Libelle_commune_Bourg_de_Visa', 'Libelle_commune_Le_Rouget_Pers', 'Libelle_commune_Lantillac', 'Libelle_commune_Pont_Audemer', 'Libelle_commune_Moussages', 'Libelle_commune_Tr_vou_Tr_guignec', 'Libelle_commune_Montdidier', 'Libelle_commune_Bazainville', 'APP_Libelle_activite_etablissement_Chocolatier_Boulangerie_P_tisserie_Traiteur', 'Libelle_commune_Paussac_et_Saint_Vivien', 'Libelle_commune_Saint_Germain_de_Salles', 'Libelle_commune_Saint_Marcel_de_Careiret', 'Libelle_commune_C_rilly', 'Libelle_commune_Fournet_Blancheroche', 'Libelle_commune_Colombier_en_Brionnais', 'Libelle_commune_Notre_Dame_de_Monts', 'Libelle_commune_Gentioux_Pigerolles', 'Libelle_commune_La_Grand_Croix', 'Libelle_commune_Seuil_d_Argonne', 'Libelle_commune_Barret_sur_M_ouge', 'Libelle_commune_Saint_Denis_de_l_H_tel', 'Libelle_commune_Anduze', 'Libelle_commune_Murat_le_Quaire', 'Libelle_commune_Limeray', 'Libelle_commune_Marmanhac', 'Libelle_commune_Garrigues', 'Libelle_commune_Entrammes', 'Libelle_commune_Couvignon', 'Libelle_commune_Paulhac', 'Libelle_commune_Haucourt_Moulaine', 'Libelle_commune_Beaufort_Orbagna', 'Libelle_commune_Cernon', 'Libelle_commune_Ch_tenoy_le_Royal', 'Libelle_commune_Saint_Hilaire_d_Ozilhan', 'Libelle_commune_Mourioux_Vieilleville', 'Libelle_commune_La_Salle_les_Alpes', 'Libelle_commune_Calviac_en_P_rigord', 'Libelle_commune_Sainghin_en_M_lantois', 'Libelle_commune_Puget_Th_niers', 'Libelle_commune_Fleurbaix', 'Libelle_commune_La_Fermet_', 'Libelle_commune_Allaire', 'Libelle_commune_Graignes_Mesnil_Angot', 'Libelle_commune_Lop_rec', 'Libelle_commune_Bouc_', 'Libelle_commune_Rumilly', 'Libelle_commune_Cros', 'Libelle_commune_Bellengreville', 'Libelle_commune_Les_Hays', 'Libelle_commune_Lussault_sur_Loire', 'Libelle_commune_Sainte_Anne', 'Libelle_commune_Villers_Semeuse', 'Libelle_commune_Soustons', 'Libelle_commune_Perrusson', 'Libelle_commune_Lemps', 'Libelle_commune_Andilly', 'Libelle_commune_Espas', 'Libelle_commune_Chartres_de_Bretagne', 'Libelle_commune_Bracieux', 'Libelle_commune_Sandouville', 'Libelle_commune_Thurey', 'Libelle_commune_Courpi_re', 'Libelle_commune_Landreville', 'Libelle_commune_M_renvielle', 'Libelle_commune_Ayrens', 'Libelle_commune_Verneuil_sur_Indre', 'Libelle_commune_Montpitol', 'Libelle_commune_La_Bridoire', 'Libelle_commune_Vacqueriette_Erqui_res', 'Libelle_commune_Saint_Bonnet_le_Ch_teau', 'Libelle_commune_Montalembert', 'Libelle_commune_Menton', 'Libelle_commune_Nogent_le_Phaye', 'Libelle_commune_Peyrilles', 'Libelle_commune_Penmarch', 'Libelle_commune_Lesparre_M_doc', 'Libelle_commune_Ajat', 'Libelle_commune_Kergrist_Mo_lou', 'Libelle_commune_Millas', 'Libelle_commune_Reillanne', 'Libelle_commune_Gambais', 'Libelle_commune_Hauteville_sur_Mer', 'Libelle_commune_Nantiat', 'Libelle_commune_Monlet', 'Libelle_commune_Sundhouse', 'Libelle_commune_Rives_en_Seine', 'Libelle_commune_Diou', 'Libelle_commune_Montval_sur_Loir', 'Libelle_commune_La_Croix_en_Touraine', 'Libelle_commune_Alluyes', 'Libelle_commune_Chirac_Bellevue', 'Libelle_commune_Bohal', 'Libelle_commune_Feyzin', 'Libelle_commune_Juillan', 'Libelle_commune_Saint_Germain_la_Poterie', 'Libelle_commune_Manom', 'Libelle_commune_Vieure', 'Libelle_commune_Noues_de_Sienne', 'Libelle_commune_Guignes', 'Libelle_commune_Lagny_le_Sec', 'Libelle_commune_Fleury_sur_Loire', 'Libelle_commune_Saint_Georges_de_Rex', 'Libelle_commune_Charmont_sous_Barbuise', 'Libelle_commune_VILLENEUVE_LA_GARENNE', 'Libelle_commune_Gognies_Chauss_e', 'Libelle_commune_Annet_sur_Marne', 'Libelle_commune_Mouzillon', 'Libelle_commune_Aunac_sur_Charente', 'Libelle_commune_Roiff_', 'Libelle_commune_Golfech', 'Libelle_commune_Alata', 'Libelle_commune_Cassaigne', 'Libelle_commune_Vermelles', 'Libelle_commune_Saint_Cassien', 'Libelle_commune_Panazol', 'Libelle_commune_Saint_Martin_sur_la_Chambre', 'Libelle_commune_Grand_Fort_Philippe', 'Libelle_commune_Saint_Cyr_les_Vignes', 'Libelle_commune_Saint_Laurent_sur_Mer', 'Libelle_commune_Lillebonne', 'Libelle_commune_Sain_Bel', 'Libelle_commune_Mouchan', 'Libelle_commune_Cremeaux', 'Libelle_commune_Sainte_Foy_Saint_Sulpice', 'Libelle_commune_Cuts', 'Libelle_commune_Saint_Ouen_le_Mauger', 'Libelle_commune_La_Selle_sur_le_Bied', 'Libelle_commune_Saint_Germain_d_Esteuil', 'Libelle_commune_Torpes', 'Libelle_commune_Gesnes_le_Gandelin', 'Libelle_commune_Campsegret', 'Libelle_commune_Jozerand', 'Libelle_commune_Dirinon', 'Libelle_commune_Qu_m_n_ven', 'Libelle_commune_Grol_jac', 'Libelle_commune_Chenereilles', 'Libelle_commune_Seignosse', 'Libelle_commune_Priay', 'Libelle_commune_Champdray', 'Libelle_commune_Herc_', 'Libelle_commune_Bischheim', 'Libelle_commune_Ch_teau_Bernard', 'Libelle_commune_Prez_sous_Lafauche', 'Libelle_commune_Chamonix_Mont_Blanc', 'Libelle_commune_Cagnotte', 'Libelle_commune_LESNEVEN', 'Libelle_commune_Passavant', 'Libelle_commune_Courtes', 'Libelle_commune_Bray_et_L_', 'Libelle_commune_Alissas', 'Libelle_commune_Druelle_Balsac', 'Libelle_commune_Marsac_sur_l_Isle', 'Libelle_commune_Taluyers', 'Libelle_commune_Asni_res_la_Giraud', 'Libelle_commune_CARRIERES_SOUS_POISSY', 'Libelle_commune_Propi_res', 'Libelle_commune_Lagrauli_re', 'Libelle_commune_Soccia', 'Libelle_commune_Mont_Saint_Aignan', 'Libelle_commune_Gasny', 'Libelle_commune_La_Chapelle_d_Armenti_res', 'Libelle_commune_Saint_Gervais', 'Libelle_commune_La_Celle_Saint_Cloud', 'Libelle_commune_Cametours', 'Libelle_commune_Florange', 'Libelle_commune_La_Bastide_de_S_rou', 'Libelle_commune_Cenon_sur_Vienne', 'Libelle_commune_Saint_Baldoph', 'Libelle_commune_Balzac', 'Libelle_commune_Estivareilles', 'Libelle_commune_Th_nac', 'Libelle_commune_Noyers_sur_Jabron', 'Libelle_commune_Les_Ageux', 'Libelle_commune_Nieuil_l_Espoir', 'Libelle_commune_Le_Pian_M_doc', 'Libelle_commune_Colleret', 'Libelle_commune_Ladon', 'Libelle_commune_Forcelles_Saint_Gorgon', 'Libelle_commune_Flagnac', 'Libelle_commune_Cl_ry_le_Petit', 'Libelle_commune_Mauzac_et_Grand_Castang', 'Libelle_commune_Nesle_Normandeuse', 'Libelle_commune_Rancon', 'Libelle_commune_Eauze', 'Libelle_commune_Ladignac_sur_Rondelles', 'Libelle_commune_Idrac_Respaill_s', 'Libelle_commune_Gevingey', 'Libelle_commune_Caudrot', 'Libelle_commune_Saint_Gildas_de_Rhuys', 'Libelle_commune_Ruaudin', 'Libelle_commune_Montdragon', 'Libelle_commune_La_Boussac', 'Libelle_commune_Taiz_', 'Libelle_commune_JOUY_EN_JOSAS', 'Libelle_commune_Lasclaveries', 'Libelle_commune_Saint_Viance', 'Libelle_commune_Saint_Germain_du_Salembre', 'Libelle_commune_Le_Bouscat', 'Libelle_commune_Brignac_la_Plaine', 'Libelle_commune_Bourgvall_es', 'Libelle_commune_COLOMBELLES', 'Libelle_commune_Valderi_s', 'Libelle_commune_Taverny', 'Libelle_commune_Ch_teau_Garnier', 'Libelle_commune_Batz_sur_Mer', 'Libelle_commune_Plaigne', 'Libelle_commune_Lapalisse', 'Libelle_commune_Veilhes', 'Libelle_commune_Cordelle', 'Libelle_commune_Vignoc', 'Libelle_commune_LES_ULIS', 'Libelle_commune_Thury_Harcourt_Le_Hom', 'Libelle_commune_Bouquelon', 'Libelle_commune_La_Fert__Milon', 'Libelle_commune_Visan', 'Libelle_commune_Meria', 'Libelle_commune_Arzon', 'Libelle_commune_Seyssel', 'Libelle_commune_Chinon', 'Libelle_commune_Orgeval', 'Libelle_commune_Lapan', 'Libelle_commune_Plougastel_Daoulas', 'Libelle_commune_VAULNAVEYS_LE_HAUT', 'Libelle_commune_H_pital_Camfrout', 'Libelle_commune_Lherm', 'Libelle_commune_Carmaux', 'Libelle_commune_S_vremoine', 'Libelle_commune_Benquet', 'Libelle_commune_Cabri_s', 'Libelle_commune_Pimbo', 'Libelle_commune_Arudy', 'Libelle_commune_Puich_ric', 'Libelle_commune_Sarc_', 'Libelle_commune_Saint_Symphorien_de_Marmagne', 'Libelle_commune_Tr_al', 'Libelle_commune_Saint_Martin_l_Ars', 'Libelle_commune_Saint_Mars_d__grenne', 'Libelle_commune_Bussy_l_s_Daours', 'Libelle_commune_Pierre_Buffi_re', 'Libelle_commune_La_Bastide', 'Libelle_commune_Vayres_sur_Essonne', 'Libelle_commune_Razac_d_Eymet', 'Libelle_commune_Nogent_sur_Marne', 'Libelle_commune_Saillagouse', 'Libelle_commune_Souzy', 'Libelle_commune_Les_Pujols', 'Libelle_commune_Tournous_Devant', 'Libelle_commune_Saint_Justin', 'Libelle_commune_Condat_l_s_Montboissier', 'Libelle_commune_Vin_a', 'Libelle_commune_Ch_teauneuf_Villevieille', 'Libelle_commune_Chapelle_des_Bois', 'Libelle_commune_Puyjourdes', 'Libelle_commune_Annesse_et_Beaulieu', 'Libelle_commune_Angles', 'Libelle_commune_Montlouis_sur_Loire', 'Libelle_commune_Suze_la_Rousse', 'Libelle_commune_Martres_sur_Morge', 'Libelle_commune_Bondy', 'Libelle_commune_Guernes', 'Libelle_commune_Arbonne', 'Libelle_commune_Sillars', 'Libelle_commune_Monestier_Merlines', 'Libelle_commune_Soulaines_Dhuys', 'Libelle_commune_Ambillou', 'Libelle_commune_Cappelle_Brouck', 'Libelle_commune_Boissise_le_Roi', 'Libelle_commune_Lucy_le_Bocage', 'Libelle_commune_Saint_Avertin', 'Libelle_commune_Pardaillan', 'Libelle_commune_Gonfreville_l_Orcher', 'Libelle_commune_Fumel', 'Libelle_commune_Chocques', 'Libelle_commune_Sanvignes_les_Mines', 'Libelle_commune_Mauvezin', 'Libelle_commune__tables', 'Libelle_commune_La_Jarne', 'Libelle_commune_Gien', 'Libelle_commune_Gray_la_Ville', 'Libelle_commune_Bourogne', 'Libelle_commune_B_n_vent_l_Abbaye', 'Libelle_commune_Serres', 'Libelle_commune_Domessin', 'Libelle_commune_Monbazillac', 'Libelle_commune_POIX_DE_PICARDIE', 'Libelle_commune_Roy_re_de_Vassivi_re', 'Libelle_commune_Wimmenau', 'Libelle_commune_Saint_Pierre_le_Vieux', 'APP_Libelle_activite_etablissement_Poissonnerie_Boucherie_Charcuterie', 'Libelle_commune_Pers_Jussy', 'Libelle_commune_Huriel', 'Libelle_commune_Saint_Savin', 'Libelle_commune_Santa_Maria_di_Lota', 'Libelle_commune_Chaux_des_Crotenay', 'Libelle_commune_Saint_Constant_Fournoul_s', 'Libelle_commune_CESSIEU', 'Libelle_commune_Hirsingue', 'Libelle_commune_Lassur', 'Libelle_commune_H_nouville', 'Libelle_commune_Exincourt', 'Libelle_commune_Priss_', 'Libelle_commune_Dechy', 'Libelle_commune_Branges', 'Libelle_commune_La_Mulati_re', 'Libelle_commune_La_Tour', 'Libelle_commune_Sill__le_Guillaume', 'Libelle_commune_Annezin', 'Libelle_commune_Corbie', 'Libelle_commune_Saint_Jean_du_Gard', 'Libelle_commune_Sainte_Colombe_en_Bruilhois', 'Libelle_commune_Le_Cayrol', 'Libelle_commune_Houss_ville', 'Libelle_commune_Osani', 'Libelle_commune_Rosiers_d__gletons', 'Libelle_commune_L_Isle_sur_Serein', 'Libelle_commune_Plaine', 'Libelle_commune_Billom', 'Libelle_commune_Gaas', 'Libelle_commune_Eyres_Moncube', 'Libelle_commune_Saint_Sauveur_d_Aunis', 'Libelle_commune_Wimereux', 'Libelle_commune_Labruy_re', 'Libelle_commune_Saint_Loup_des_Chaumes', 'Libelle_commune_Cerizay', 'Libelle_commune_Ustaritz', 'Libelle_commune_Saint_Julien_du_Sault', 'Libelle_commune_Valigny', 'Libelle_commune_Jublains', 'Libelle_commune_Saint_Amans_Valtoret', 'Libelle_commune_Solli_s_Toucas', 'Libelle_commune_Trans_sur_Erdre', 'Libelle_commune_Saint_Hilaire_le_Grand', 'Libelle_commune_Doissin', 'Libelle_commune_Givenchy_en_Gohelle', 'Libelle_commune_Moutiers_au_Perche', 'Libelle_commune_Choisy_au_Bac', 'Libelle_commune_Pont_de_Metz', 'Libelle_commune_Roquefort_la_B_doule', 'Libelle_commune_Crest', 'Libelle_commune_La_For_t_Fouesnant', 'Libelle_commune_Saint_Auban_sur_l_Ouv_ze', 'Libelle_commune_Domalain', 'Libelle_commune_Bellegarde_Marsal', 'Libelle_commune_Allinges', 'Libelle_commune_Saint_Agne', 'Libelle_commune_HORNOY_LE_BOURG', 'Libelle_commune_Saint_Martin_de_Valamas', 'Libelle_commune_Saint_Cl_ment_de_Rivi_re', 'Libelle_commune_Gu_gon', 'Libelle_commune_Lescout', 'Libelle_commune_Avallon', 'Libelle_commune_Ballaison', 'Libelle_commune_Les_Contamines_Montjoie', 'Libelle_commune_Grives', 'Libelle_commune_Servoz', 'Libelle_commune_Gries', 'Libelle_commune_Couilly_Pont_aux_Dames', 'Libelle_commune_Willgottheim', 'Libelle_commune_Champtoc__sur_Loire', 'Libelle_commune_Herb_viller', 'Libelle_commune_Haut_Lieu', 'Libelle_commune_Fains_V_el', 'Libelle_commune_Le_M_e_sur_Seine', 'Libelle_commune_Veuzain_sur_Loire', 'Libelle_commune_Grambois', 'Libelle_commune_Blaincourt_l_s_Pr_cy', 'Libelle_commune_Madiran', 'Libelle_commune_Camembert', 'Libelle_commune_Castelnaud_de_Gratecambe', 'Libelle_commune_Taiz__Aizie', 'Libelle_commune_Cuvilly', 'Libelle_commune_Le_Bourguet', 'Libelle_commune_MAISONS_LAFFITTE', 'Libelle_commune_Saint_Alban_Auriolles', 'Libelle_commune_Tupigny', 'Libelle_commune_Courzieu', 'Libelle_commune_Briouze', 'Libelle_commune_N_greville', 'Libelle_commune_Massingy', 'Libelle_commune_All_gre', 'Libelle_commune_Fr_teval', 'Libelle_commune_Villefargeau', 'Libelle_commune_Le_Sauze_du_Lac', 'Libelle_commune_Chalamont', 'Libelle_commune_Brindas', 'Libelle_commune_Gamarthe', 'Libelle_commune_Sainte_Croix_en_Jarez', 'Libelle_commune_VIROFLAY', 'filtre_Poissonnerie_Boucherie_Charcuterie', 'Libelle_commune_Saint_Pal_de_Mons', 'Libelle_commune_Chamboeuf', 'Libelle_commune_Cayrols', 'Libelle_commune_L_zat_sur_L_ze', 'Libelle_commune_Vidauban', 'Libelle_commune_Betpouey', 'Libelle_commune_Machault', 'Libelle_commune_L_Isle_Adam', 'Libelle_commune_Injoux_G_nissiat', 'Libelle_commune_Vouzon', 'Libelle_commune_Fort_Moville', 'Libelle_commune_Ormersviller', 'Libelle_commune_Allevard', 'Libelle_commune_Saint_Barth_lemy_de_Bussi_re', 'Libelle_commune_P_lissanne', 'Libelle_commune_Mons_gur', 'APP_Libelle_activite_etablissement_Plateforme_d__clatement_de_produits_de_la_p_che', 'Libelle_commune_Grand', 'Libelle_commune_Ch_teau_Thierry', 'Libelle_commune_Gonesse', 'Libelle_commune_Mornas', 'Libelle_commune_Lacrouzette', 'Libelle_commune_Haut_Mauco', 'Libelle_commune_Pressignac', 'Libelle_commune_Saint_Michel_d_Euzet', 'Libelle_commune_Septmoncel_les_Molunes', 'Libelle_commune_Marquette_lez_Lille', 'Libelle_commune_Rilly_sur_Vienne', 'Libelle_commune_Charbonnat', 'Libelle_commune_Vals_les_Bains', 'Libelle_commune_Avezac_Prat_Lahitte', 'Libelle_commune_Teurth_ville_Hague', 'Libelle_commune_Souleuvre_en_Bocage', 'Libelle_commune_Cambes', 'Libelle_commune_Estivals', 'Libelle_commune_Seboncourt', 'Libelle_commune_Tence', 'Libelle_commune_Angresse', 'Libelle_commune_Bois', 'Libelle_commune_Malgu_nac', 'Libelle_commune_Mondragon', 'Libelle_commune_Saint_Martin_Choquel', 'Libelle_commune_Unverre', 'Libelle_commune_Rasigu_res', 'Libelle_commune_Buros', 'Libelle_commune_Touffr_ville', 'Libelle_commune_Les_Villards_sur_Th_nes', 'Libelle_commune_Gramat', 'Libelle_commune_Perrignier', 'Libelle_commune_Fussy', 'Libelle_commune_BERRIEN', 'Libelle_commune_Villers_sous_Chalamont', 'Libelle_commune_Le_Creusot', 'Libelle_commune_Mign_ville', 'Libelle_commune_Vroncourt', 'Libelle_commune_Loix', 'Libelle_commune_Chauconin_Neufmontiers', 'Libelle_commune_Louvigny', 'Libelle_commune_B_nodet', 'Libelle_commune_Manduel', 'Libelle_commune_Moyemont', 'Libelle_commune_Tourzel_Ronzi_res', 'Libelle_commune_Saint_Germain_du_Corb_is', 'Libelle_commune_Saint_Thom_', 'Libelle_commune_Lachapelle_Auzac', 'Libelle_commune_B_', 'Libelle_commune_Grande_Rivi_re_Ch_teau', 'Libelle_commune_Villefagnan', 'Libelle_commune_Ciboure', 'Libelle_commune_La_Flotte', 'Libelle_commune_Fix_Saint_Geneys', 'Libelle_commune_Lengronne', 'Libelle_commune_Arnac_Pompadour', 'Libelle_commune_Xonrupt_Longemer', 'Libelle_commune_Villetoureix', 'Libelle_commune_La_Chaise_Dieu', 'Libelle_commune_Ouroux_sur_Sa_ne', 'Libelle_commune_Volvic', 'Libelle_commune_L_zigneux', 'Libelle_commune_Tarcenay_Foucherans', 'Libelle_commune_Clesles', 'Libelle_commune_Jarz__Villages', 'Libelle_commune_Grillon', 'filtre_Libre_service_Alimentation_g_n_rale_Rayon_pain_viennoiserie_p_tisserie_Rayon_boucherie_charcuterie', 'Libelle_commune_Couiza', 'Libelle_commune_Saint_M_dard_d_Aunis', 'Libelle_commune_Senonches', 'Libelle_commune_Allaines', 'Libelle_commune_Rupt_sur_Moselle', 'Libelle_commune_Marolles_en_Hurepoix', 'Libelle_commune_Muracciole', 'Code_postal_AD', 'Libelle_commune_Saint_Martin_en_Haut', 'Libelle_commune_Valmont', 'Libelle_commune_Maureillas_las_Illas', 'Libelle_commune_La_Valla_en_Gier', 'Libelle_commune_Bournazel', 'Libelle_commune_Aramits', 'Libelle_commune_Le_Reposoir', 'Libelle_commune_Meuvaines', 'Libelle_commune_Cir_s', 'Libelle_commune_Locquirec', 'Libelle_commune_Cestayrols', 'Libelle_commune_Saint_Just_en_Chevalet', 'Libelle_commune_Lassigny', 'Libelle_commune_La_Selle_Craonnaise', 'Libelle_commune_Cramans', 'Libelle_commune_Bozouls', 'Libelle_commune_Beauzelle', 'Libelle_commune_La_Guerche_de_Bretagne', 'Libelle_commune_Argentat_sur_Dordogne', 'Libelle_commune_Saint_Ch_ly_d_Apcher', 'Libelle_commune_Motteville', 'Libelle_commune_Thoiria', 'Libelle_commune_Gunsbach', 'Libelle_commune_Chalonnes_sur_Loire', 'Libelle_commune_La_Roche_Vineuse', 'Libelle_commune_Argancy', 'Libelle_commune_La_Ravoire', 'Libelle_commune_Coeuvres_et_Valsery', 'Libelle_commune_Samatan', 'Libelle_commune_ARPAJON', 'Libelle_commune_Villiers_Saint_Denis', 'Libelle_commune_Barentin', 'Libelle_commune_Tr_dion', 'Libelle_commune_Arbus', 'Libelle_commune_Blaye', 'Libelle_commune_Faramans', 'Libelle_commune_Huelgoat', 'Libelle_commune_Fretterans', 'Libelle_commune_Fontaines_sur_Sa_ne', 'Libelle_commune_Longueau', 'Libelle_commune_M_allet', 'Libelle_commune_Ordan_Larroque', 'Libelle_commune_Ossun', 'Libelle_commune_La_Jonch_re', 'Libelle_commune_Lod_ve', 'Libelle_commune_Chartrier_Ferri_re', 'Libelle_commune_Pey', 'Libelle_commune_Saint_Pierre_l_s_Nemours', 'Libelle_commune_Castels_et_B_zenac', 'Libelle_commune_La_Romaine', 'Libelle_commune_Saint_Romain', 'Libelle_commune_Treilli_res', 'Libelle_commune_Bell_me', 'Libelle_commune_Lillers', 'Libelle_commune_Santes', 'Libelle_commune_Bazac', 'Libelle_commune_Liffr_', 'Libelle_commune_Paulnay', 'Libelle_commune_La_Roche_Maurice', 'Libelle_commune_Cast_ra_Lanusse', 'Libelle_commune_Le_Meix_Tiercelin', 'Libelle_commune_F_ves', 'Libelle_commune_Sainte_Segr_e', 'Libelle_commune_Peyrelevade', 'Libelle_commune_Roches_Pr_marie_Andill_', 'Libelle_commune_Lansargues', 'Libelle_commune_Saint_Sim_on_de_Bressieux', 'Libelle_commune_Parempuyre', 'Libelle_commune_La_Verpilli_re', 'Libelle_commune_Cohennoz', 'Libelle_commune_Auzeville_Tolosane', 'Libelle_commune_Montferrand_du_P_rigord', 'Libelle_commune_Senones', 'Libelle_commune_Ch_telus_le_Marcheix', 'Libelle_commune_Orry_la_Ville', 'Libelle_commune_Saint_Martin_Valmeroux', 'Libelle_commune_Marconne', 'APP_Libelle_activite_etablissement_Poissonnerie_Traiteur_Boucherie_Charcuterie', 'Libelle_commune_LOCMARIA_PLOUZANE', 'Libelle_commune_Margny_l_s_Compi_gne', 'Libelle_commune_Puyvert', 'Libelle_commune_Broxeele', 'Libelle_commune_Ligny_l_s_Aire', 'Libelle_commune_Cazideroque', 'Libelle_commune_Airaines', 'Libelle_commune_Champs_sur_Marne', 'Libelle_commune_Saint_Paul_l_s_Dax', 'Libelle_commune_Kani_K_li', 'Libelle_commune_Saint_Jean_de_Gonville', 'Libelle_commune_Essert_Romand', 'Libelle_commune_Saint_Symphorien_d_Ozon', 'Libelle_commune_Servi_s', 'Libelle_commune_Lacave', 'Libelle_commune_Mazille', 'Libelle_commune_Rayssac', 'Libelle_commune_Saint_Florent_sur_Cher', 'Libelle_commune_Saint_Xandre', 'Libelle_commune_Natzwiller', 'Libelle_commune_Montm_dy', 'Libelle_commune_Geloux', 'Libelle_commune_Quettehou', 'Libelle_commune_Bouxwiller', 'Libelle_commune_Esmoulins', 'Libelle_commune_Plaisir', 'Libelle_commune_Tanville', 'Libelle_commune_Us', 'Libelle_commune_Valleroy', 'Libelle_commune_Plourhan', 'Libelle_commune_Parenty', 'Libelle_commune_Voulmentin', 'Libelle_commune_Reichshoffen', 'Libelle_commune_Cardaillac', 'Libelle_commune_C_r__la_Ronde', 'Libelle_commune_Saverne', 'Libelle_commune_Louviers', 'Libelle_commune_Clapiers', 'Libelle_commune_Vitrac_sur_Montane', 'Libelle_commune_Petit_Couronne', 'Libelle_commune_Lacour', 'Libelle_commune_GIF_SUR_YVETTE', 'Libelle_commune_Saint_Restitut', 'Libelle_commune_Gelos', 'Libelle_commune_Cahus', 'Libelle_commune_Ceton', 'Libelle_commune_Tucquegnieux', 'Libelle_commune_Jard_sur_Mer', 'Libelle_commune_La_Fert__Alais', 'Libelle_commune_Pinon', 'Libelle_commune_Neufch_tel_Hardelot', 'Libelle_commune_Saint_Jean_Kourtzerode', 'Libelle_commune_Chantrans', 'Libelle_commune_Cond__Northen', 'Libelle_commune_Saint_Julien_de_Concelles', 'Libelle_commune_Pleine_Foug_res', 'Libelle_commune_Soultzeren', 'Libelle_commune_Wattrelos', 'Libelle_commune_Verricourt', 'Libelle_commune_Clairvaux_les_Lacs', 'Libelle_commune_Novacelles', 'Libelle_commune_Mignaloux_Beauvoir', 'Libelle_commune_Pollestres', 'Libelle_commune_Vassincourt', 'Libelle_commune_Saint_L_ger_de_Lini_res', 'Libelle_commune_Aulnois_sous_Laon', 'Libelle_commune_Lalleu', 'Libelle_commune_Sp_zet', 'Libelle_commune_Bord_res_Louron', 'Libelle_commune_Savignac_sur_Leyze', 'Libelle_commune_Albiez_Montrond', 'Libelle_commune_Maninghen_Henne', 'Libelle_commune_M_zin', 'Libelle_commune_Saint__tienne_le_Laus', 'Libelle_commune_B_zenet', 'Libelle_commune_M_ry_sur_Oise', 'Libelle_commune__trelles', 'Libelle_commune_Saint_Jean_Froidmentel', 'Libelle_commune_Vieux_Ferrette', 'Libelle_commune_Neuilly_en_Thelle', 'Libelle_commune_Le_Russey', 'Libelle_commune_Sainte_Fortunade', 'Libelle_commune_Juvigny_Val_d_Andaine', 'Libelle_commune_Septfonds', 'Libelle_commune_Teyssode', 'Libelle_commune_Hirson', 'Libelle_commune_Ponsamp_re', 'Libelle_commune_Beaumarch_s', 'Libelle_commune_Anzy_le_Duc', 'Libelle_commune_Sannat', 'Libelle_commune_Barcus', 'Libelle_commune_Laize_Clinchamps', 'Libelle_commune_Br_ban', 'Libelle_commune_Saint_Mathieu', 'Libelle_commune_Le_Brignon', 'Libelle_commune_Les_Lilas', 'Libelle_commune_Rombas', 'Libelle_commune_Saint_L_onard', 'Libelle_commune_Saint__loy_les_Tuileries', 'Libelle_commune_Le_Petit_Celland', 'Libelle_commune_Ollans', 'Libelle_commune_Lampertheim', 'Libelle_commune_Duras', 'Libelle_commune_Ch_teauneuf_sur_Charente', 'Libelle_commune_Saint_Yan', 'Libelle_commune_Vaur_al', 'Libelle_commune_Aubigny_aux_Kaisnes', 'Libelle_commune_Castillonn_s', 'Libelle_commune_Croissy_Beaubourg', 'Libelle_commune_Pommiers_en_Forez', 'Libelle_commune_Beaumont_sur_Sarthe', 'Libelle_commune_La_Meauffe', 'Libelle_commune_Monistrol_d_Allier', 'Libelle_commune_Francheville', 'Libelle_commune_Bl_r_', 'Libelle_commune_Beynat', 'Libelle_commune_Bazugues', 'Libelle_commune_Carvin', 'Libelle_commune_Thorigny_sur_Oreuse', 'Libelle_commune_Bures', 'Libelle_commune_Mourenx', 'Libelle_commune_Scionzier', 'Libelle_commune_Larajasse', 'Libelle_commune_Florac_Trois_Rivi_res', 'Libelle_commune_Toury', 'Libelle_commune_Rocheservi_re', 'APP_Libelle_activite_etablissement_Rayon_fromagerie_Rayon_traiteur', 'Libelle_commune_Choisey', 'Libelle_commune_Liart', 'Libelle_commune_Grandris', 'Libelle_commune_Mosnay', 'Libelle_commune_Saint_Romain_d_Ay', 'Libelle_commune_Breuil_le_Sec', 'Libelle_commune_Servian', 'Libelle_commune_Le_Mesnil_sous_Jumi_ges', 'Libelle_commune_Jaulzy', 'Libelle_commune_Meaulne_Vitray', 'Libelle_commune_Val_de_Meuse', 'Libelle_commune_Ch_teauneuf_de_Gadagne', 'Libelle_commune_Chalezeule', 'Libelle_commune_Jaux', 'Libelle_commune_Paulhaguet', 'Libelle_commune_Fontaines_les_S_ches', 'Libelle_commune_Chaintreaux', 'Libelle_commune_Saint_Vincent_de_Barr_s', 'Libelle_commune_Lambesc', 'Libelle_commune_Cambia', 'Libelle_commune_Saint_Maurice_de_Gourdans', 'Libelle_commune_Nogent_sur_Eure', 'Libelle_commune_La_Bouilladisse', 'filtre_Fromagerie_Libre_service_Alimentation_g_n_rale_Boulangerie_P_tisserie_Boucherie_Charcuterie', 'Libelle_commune_Laurac', 'Libelle_commune_Orsay', 'Libelle_commune_Saint_Antonin_Noble_Val', 'Libelle_commune_Longr_', 'Libelle_commune_Orbigny', 'Libelle_commune_Le_Claux', 'Libelle_commune_M_nil', 'Libelle_commune_Oignies', 'Libelle_commune__curas', 'Libelle_commune_Tavera', 'Libelle_commune__le_d_Aix', 'Libelle_commune_Saint_Jean_et_Saint_Paul', 'Libelle_commune_Murasson', 'Libelle_commune_Isigny_sur_Mer', 'Libelle_commune_Notre_Dame_d_O_', 'Libelle_commune_Le_Lonzac', 'Libelle_commune_Lajoux', 'Libelle_commune_Salavre', 'Libelle_commune_Pouligny_Saint_Pierre', 'Libelle_commune_Hauts_de_Bienne', 'Libelle_commune_Guigneville_sur_Essonne', 'Libelle_commune_Guer', 'Libelle_commune_Le_Diamant', 'Libelle_commune_Bellerive_sur_Allier', 'Libelle_commune_Comps_sur_Artuby', 'Libelle_commune_Luc_sur_Mer', 'Libelle_commune_Longeville_en_Barrois', 'Libelle_commune_VOIRON', 'Libelle_commune_Grand_Brassac', 'Libelle_commune_Saint_Jean_de_Liversay', 'Libelle_commune_Ancerviller', 'Libelle_commune_Blargies', 'Libelle_commune_Roquebrune_sur_Argens', 'Libelle_commune_Gourdan_Polignan', 'Libelle_commune_Saint_Paul_le_Jeune', 'Libelle_commune_Talensac', 'Libelle_commune_Le_Mesnil_Saint_Firmin', 'Libelle_commune_Saint_Pierre_de_Chignac', 'Libelle_commune_Sigoyer', 'Libelle_commune_Saint_M_dard_de_Mussidan', 'Libelle_commune_Demi_Quartier', 'Libelle_commune_Saint_H_and', 'Libelle_commune_Garrey', 'Libelle_commune_Thizy', 'Libelle_commune_Bernis', 'Libelle_commune_Couternon', 'Libelle_commune_Les_Cabannes', 'Libelle_commune_Biars_sur_C_re', 'Libelle_commune_Mo_ta', 'Libelle_commune_Gu_nes', 'Libelle_commune_Fleury_sur_Orne', 'Libelle_commune_Le_S_gur', 'Libelle_commune_Frontenay', 'Libelle_commune_Marle', 'Libelle_commune_Bourg_Blanc', 'Libelle_commune_Magalas', 'Libelle_commune_Vaylats', 'Libelle_commune_Issenheim', 'Libelle_commune_Colincamps', 'Libelle_commune_Saint_M_dard_la_Rochette', 'Libelle_commune_Kernascl_den', 'Libelle_commune_Faverolles', 'Libelle_commune_Antran', 'Libelle_commune_Fougerolles_Saint_Valbert', 'Libelle_commune_Vaux_Andigny', 'Libelle_commune_Le_Grand_Village_Plage', 'Libelle_commune_Mireval', 'Libelle_commune_Bons_en_Chablais', 'Libelle_commune_Bourron_Marlotte', 'Libelle_commune_Creney_pr_s_Troyes', 'Libelle_commune_B_thonvilliers', 'Libelle_commune_Bernac_Debat', 'Libelle_commune_NEUILLY_SUR_SEINE', 'Libelle_commune_N_fiach', 'Libelle_commune_Les_Plains_et_Grands_Essarts', 'APP_Libelle_activite_etablissement_Fromagerie_Alimentation_g_n_rale_Glacier_Traiteur_Boucherie_Charcuterie', 'Libelle_commune_Lortet', 'Libelle_commune_Moyon_Villages', 'Libelle_commune_Ravi_res', 'Libelle_commune_Ch_tillon_le_Duc', 'Libelle_commune_Dornes', 'Libelle_commune_Vaudes', 'Libelle_commune_Hermeville', 'Libelle_commune_Sainte_Marie_aux_Ch_nes', 'Libelle_commune_Saint_Victor_sur_Arlanc', 'Libelle_commune_Savign_', 'Libelle_commune_Jujurieux', 'Libelle_commune_Saint_Vincent_sur_Jard', 'Libelle_commune_Les_Orres', 'Libelle_commune_Les_Ternes', 'Libelle_commune_Louvie_Soubiron', 'Libelle_commune_Ligni_res_de_Touraine', 'Libelle_commune_Rivedoux_Plage', 'Libelle_commune_Locmaria_Grand_Champ', 'Libelle_commune_Issanlas', 'Libelle_commune_Moussoulens', 'Libelle_commune_Vigneulles_l_s_Hattonch_tel', 'Libelle_commune_La_Balme_de_Thuy', 'Libelle_commune_Ferri_re_Lar_on', 'Libelle_commune_Poncin', 'Libelle_commune_Montfort_sur_Meu', 'Libelle_commune_Pin_Balma', 'Libelle_commune_Les_Sorini_res', 'filtre_Rayon_poissonnerie_Rayon_fromagerie_Rayon_traiteur_Rayon_pain_viennoiserie_p_tisserie_Rayon_boucherie_charcuterie', 'Libelle_commune_Longvic', 'Libelle_commune_Dannemarie', 'Libelle_commune_Thorigny_sur_Marne', 'Libelle_commune_Gibret', 'Libelle_commune_Piriac_sur_Mer', 'Libelle_commune_Calonne_Ricouart', 'Libelle_commune_Dourdan', 'Libelle_commune_Pipriac', 'Libelle_commune_Murat', 'filtre_Alimentation_g_n_rale_Rayon_traiteur', 'Libelle_commune_Saint_Senier_sous_Avranches', 'Libelle_commune_Feytiat', 'Libelle_commune_Hersin_Coupigny', 'Libelle_commune_Peypin_d_Aigues', 'Libelle_commune_Issirac', 'Libelle_commune_Nesles', 'Libelle_commune_Saint_D_sir_', 'Libelle_commune_Voutr_', 'Libelle_commune_Calvisson', 'Libelle_commune_Saint_Cr_pin_et_Carlucet', 'Libelle_commune_Montchanin', 'Libelle_commune_Cosnac', 'Libelle_commune_Sill__le_Philippe', 'Libelle_commune_Monein', 'Libelle_commune_Rettel', 'Libelle_commune__chillais', 'Libelle_commune_Le_Clat', 'Libelle_commune_Saint_Privat_des_Vieux', 'Libelle_commune_Piquecos', 'Libelle_commune_Mesli_res', 'Libelle_commune_Lesquin', 'Libelle_commune_Lauresses', 'Libelle_commune__huns', 'APP_Libelle_activite_etablissement_Libre_service_Rayon_fromagerie_Rayon_pain_viennoiserie_p_tisserie_Rayon_boucherie_charcuterie', 'Libelle_commune_B_m_court', 'Libelle_commune_Fromenti_res', 'Libelle_commune_Mussidan', 'Libelle_commune_Sainte_Maure_de_Peyriac', 'Libelle_commune_G_fosse_Fontenay', 'Libelle_commune_Auberchicourt', 'Libelle_commune_Saint_Gilles', 'Libelle_commune_Flangebouche', 'Libelle_commune_Niaux', 'Libelle_commune_Fontaine_l_s_Boulans', 'Libelle_commune_La_Chambre', 'Libelle_commune_Roiffieux', 'Libelle_commune_Chambon_sur_Voueize', 'Libelle_commune_Bulle', 'Libelle_commune_P_gomas', 'Libelle_commune_Saint_Laurent_des_Bois', 'Libelle_commune_Menthonnex_en_Bornes', 'Libelle_commune_Chaon', 'Libelle_commune_Moliets_et_Maa', 'Libelle_commune_Hagondange', 'Libelle_commune_Marseille_3e__Arrondissement', 'Libelle_commune_Mign__Auxances', 'Libelle_commune__tais_la_Sauvin', 'Libelle_commune_Tignes', 'Libelle_commune_Saint_Rapha_l', 'Libelle_commune_Fauguerolles', 'Libelle_commune_Auzat', 'Libelle_commune_Louvign__de_Bais', 'Libelle_commune_Menglon', 'Libelle_commune_Hattmatt', 'Libelle_commune_Laruscade', 'Libelle_commune_Ouainville', 'Libelle_commune_Chanac', 'Libelle_commune_Grosrouvres', 'Libelle_commune_Estampes', 'Libelle_commune_Anthy_sur_L_man', 'Libelle_commune_Monts_gur_sur_Lauzon', 'Libelle_commune_Saint_Cyr', 'Libelle_commune_Port_Brillet', 'Libelle_commune_Coti_Chiavari', 'Libelle_commune_Montmort', 'Libelle_commune_Beaulieu_sur_Mer', 'Libelle_commune_Couloisy', 'Libelle_commune_Saint_Baudille_et_Pipet', 'Libelle_commune_Ablis', 'Libelle_commune_Brains_sur_G_e', 'Libelle_commune_Ch_teau_Ville_Vieille', 'Libelle_commune_Loir_en_Vall_e', 'Libelle_commune_Le_Revest_les_Eaux', 'Libelle_commune_Limoges_Fourches', 'Libelle_commune_Saint_Brieuc_des_Iffs', 'Libelle_commune_Va_ssac', 'Libelle_commune_Fontenay_l_s_Briis', 'Libelle_commune_Bussy_le_Repos', 'Libelle_commune_Marange_Silvange', 'Libelle_commune_Ardizas', 'Libelle_commune_Jou__l_Abb_', 'Libelle_commune_Yzernay', 'Libelle_commune_Sainte_C_cile', 'Libelle_commune_Montagnat', 'Libelle_commune_Montjean', 'Libelle_commune_Pruni_res', 'Libelle_commune_Montgardin', 'Libelle_commune_Nandax', 'Libelle_commune_Saint__tienne_de_Chomeil', 'Libelle_commune_Saint_Quirin', 'Libelle_commune_Ampus', 'Libelle_commune_Ivors', 'Libelle_commune_Ch_telus_Malvaleix', 'Libelle_commune_Acign_', 'Libelle_commune_AOSTE', 'Libelle_commune_Belle_Isle_en_Terre', 'Libelle_commune_Aveize', 'Libelle_commune_Tr_vi_res', 'Libelle_commune_Bosc_Gu_rard_Saint_Adrien', 'Libelle_commune_Nessa', 'Libelle_commune_Saint_Agathon', 'Libelle_commune_Bugeat', 'Libelle_commune_Champs_sur_Yonne', 'Libelle_commune_PLOGONNEC', 'Libelle_commune_Maillot', 'Libelle_commune_La_Longeville', 'Libelle_commune_Puimoisson', 'Libelle_commune_PORT_EN_BESSIN_HUPPAIN', 'Libelle_commune_Chamali_res', 'Libelle_commune_Plovan', 'Libelle_commune_Arbonne_la_For_t', 'Libelle_commune_Valli_res_les_Grandes', 'Libelle_commune_Corcieux', 'Libelle_commune_Chaumont_en_Vexin', 'Libelle_commune_Galapian', 'APP_Libelle_activite_etablissement_Alimentation_g_n_rale_Glacier', 'Libelle_commune_Saint_Goussaud', 'Libelle_commune_Mitry_Mory', 'Libelle_commune_Saint_Mathurin', 'filtre_Rayon_fromagerie_Rayon_traiteur', 'Libelle_commune_Aire_sur_la_Lys', 'Libelle_commune_La_Roche_Bernard', 'Libelle_commune_Saint_Alexandre', 'APP_Libelle_activite_etablissement_Boulangerie_P_tisserie_Boucherie_Charcuterie', 'Libelle_commune_Lanteuil', 'Libelle_commune_Seysses', 'Libelle_commune_Cuges_les_Pins', 'Libelle_commune_Albertacce', 'Libelle_commune_Valromey_sur_S_ran', 'Libelle_commune_Marignane', 'Libelle_commune_Pontcarr_', 'Libelle_commune_Audinghen', 'Libelle_commune_Chezelles', 'Libelle_commune_Buxerolles', 'Libelle_commune_Brassempouy', 'Libelle_commune_Moret_Loing_et_Orvanne', 'Libelle_commune_Rougon', 'Libelle_commune_Varen', 'Libelle_commune_Cl_ron', 'Libelle_commune_Berre_l__tang', 'Libelle_commune_Saint_Bonnet_des_Quarts', 'Libelle_commune_Salbris', 'Libelle_commune_Cabri_res_d_Aigues', 'Libelle_commune_Souffelweyersheim', 'Libelle_commune_Maray', 'Libelle_commune_Saint_Privat', 'Libelle_commune_Peypin', 'Libelle_commune_Maulan', 'Libelle_commune_Izeste', 'Libelle_commune_Macouba', 'Libelle_commune_Domme', 'Libelle_commune_GONCELIN', 'Libelle_commune_Gu_c_lard', 'Libelle_commune_Partinello', 'Libelle_commune_Firminy', 'Libelle_commune_Fenioux', 'Libelle_commune_Pierrefitte_sur_Loire', 'Libelle_commune_Plescop', 'Libelle_commune_Le_Malzieu_Ville', 'Libelle_commune_Maromme', 'Libelle_commune_Brouville', 'Libelle_commune_Oberhoffen_sur_Moder', 'Libelle_commune_Yvetot', 'Libelle_commune_Sarcy', 'Libelle_commune_Reignier__sery', 'Libelle_commune_Gajac', 'Libelle_commune_Sotteville_l_s_Rouen', 'Libelle_commune_Yport', 'Libelle_commune_Montazeau', 'Libelle_commune_Chilly_sur_Salins', 'Libelle_commune_Saint_Amancet', 'Libelle_commune_Sermoise_sur_Loire', 'Libelle_commune_Bussang', 'Libelle_commune_Cond__sur_Vire', 'Libelle_commune_Anet', 'Libelle_commune_Pralognan_la_Vanoise', 'Libelle_commune_Massegros_Causses_Gorges', 'Libelle_commune_Gondrin', 'Libelle_commune_Saucats', 'Libelle_commune_Biaudos', 'Libelle_commune_Saint_Didier_sur_Doulon', 'APP_Libelle_activite_etablissement_Rayon_fromagerie_Rayon_pain_viennoiserie_p_tisserie_Rayon_boucherie_charcuterie', 'Libelle_commune_Beaulon', 'Libelle_commune_Gros_Chastang', 'Libelle_commune_Conlie', 'Libelle_commune_Lahage', 'Libelle_commune_Masseube', 'Libelle_commune_Chambonchard', 'Libelle_commune_Darois', 'Libelle_commune_Tenteling', 'Libelle_commune_Buchelay', 'Libelle_commune_Phalsbourg', 'Libelle_commune_Chenill__Champteuss_', 'Libelle_commune_Bisinchi', 'Libelle_commune_R_nes', 'Libelle_commune_Valceboll_re', 'Libelle_commune_Ney', 'Libelle_commune_No_l_Cerneux', 'Libelle_commune_Fretin', 'APP_Libelle_activite_etablissement_Elevage_de_bovins', 'Libelle_commune_Mareuil_en_P_rigord', 'Libelle_commune_Schoeneck', 'Libelle_commune_Ambrumesnil', 'Libelle_commune_Lectoure', 'Libelle_commune_Br_aut_', 'Libelle_commune_Bozel', 'Libelle_commune_Bosc_Bordel', 'Libelle_commune_Esquerchin', 'Libelle_commune_Saint_Jean_Cap_Ferrat', 'Libelle_commune_Don', 'Libelle_commune_Liniers', 'Libelle_commune_Granges_les_Beaumont', 'Libelle_commune_Doudrac', 'Libelle_commune_Arzens', 'Libelle_commune_Veaugues', 'APP_Libelle_activite_etablissement_Primeur', 'Libelle_commune_Saint_Pierre_du_Chemin', 'Libelle_commune_Gragnague', 'Libelle_commune_Mauvezin_de_Prat', 'Libelle_commune_Erdre_en_Anjou', 'Libelle_commune_Chiatra', 'Libelle_commune_M_nil_Erreux', 'Libelle_commune_Plats', 'Libelle_commune_Esparros', 'Libelle_commune_Rang_du_Fliers', 'Libelle_commune_Vasles', 'Libelle_commune_Clairoix', 'Libelle_commune_Harou_', 'Libelle_commune_Crespin', 'Libelle_commune_Bevons', 'Libelle_commune_Charras', 'Libelle_commune_Claye_Souilly', 'Libelle_commune_Montarnaud', 'Libelle_commune_Montigny_l_s_Metz', 'Libelle_commune_B_theny', 'Libelle_commune_Le_Folgo_t', 'Libelle_commune_Champigny_en_Rochereau', 'Libelle_commune_Lomont_sur_Cr_te', 'Libelle_commune_March_sieux', 'Libelle_commune_Saint_Marcel_en_Murat', 'Libelle_commune_Marolles_en_Brie', 'Libelle_commune_Dominois', 'Libelle_commune_Peyrignac', 'Libelle_commune_Vieillespesse', 'Libelle_commune_Sept_Saulx', 'Libelle_commune_Dom_ne', 'Libelle_commune_Moirax', 'Libelle_commune_Ponteils_et_Br_sis', 'Libelle_commune_Fransures', 'Libelle_commune_Villers_Saint_Paul', 'Libelle_commune_La_Meilleraye_de_Bretagne', 'Libelle_commune_Almayrac', 'Libelle_commune_B_nam_nil', 'Libelle_commune_Flassans_sur_Issole', 'Libelle_commune_Saint_Germain_du_Bois', 'Libelle_commune_Sers', 'Libelle_commune__zanville', 'Libelle_commune_Saint_Jouvent', 'Libelle_commune_Saint_Remy_sur_Bussy', 'Libelle_commune_Faudoas', 'Libelle_commune_Lain', 'Libelle_commune_Arzal', 'Libelle_commune_H_ricourt', 'Libelle_commune_Caunes_Minervois', 'Libelle_commune_Saint_Paul_des_Landes', 'Libelle_commune_Monthodon', 'Libelle_commune_Annoisin_Chatelans', 'Libelle_commune__ragny_sur_Epte', 'Libelle_commune_Saint_Gervais_en_Valli_re', 'Libelle_commune_Espartignac', 'Libelle_commune_Lorquin', 'Libelle_commune_Autoire', 'Libelle_commune_Vallecalle', 'Libelle_commune_Vaudringhem', 'Libelle_commune_Ban_sur_Meurthe_Clefcy', 'Libelle_commune_Belfor_t_en_Perche', 'Libelle_commune_Artres', 'Libelle_commune_Clucy', 'Libelle_commune_Barbezieux_Saint_Hilaire', 'Libelle_commune_Forest_sur_Marque', 'Libelle_commune_Bonsecours', 'Libelle_commune_Pino', 'Libelle_commune_Saint_Contest', 'Libelle_commune_Choue', 'Libelle_commune_Venelles', 'Libelle_commune_Saint_Andelain', 'Libelle_commune_Pruno', 'Libelle_commune_Le_V_sinet', 'Libelle_commune_Colombier_le_Jeune', 'Libelle_commune_Pouzauges', 'Libelle_commune_Doazit', 'Libelle_commune_Th_nezay', 'Libelle_commune_Montagnac', 'Libelle_commune_Villard_de_Lans', 'Libelle_commune_Saint_Hilaire_le_Ch_teau', 'Libelle_commune_Courgeo_t', 'Libelle_commune_Sainte_Marguerite', 'Libelle_commune_C_nac_et_Saint_Julien', 'Libelle_commune_Monl_on_Magnoac', 'Libelle_commune_Drom', 'Libelle_commune_CAUVERVILLE_EN_ROUMOIS', 'Libelle_commune_Viviers_du_Lac', 'Libelle_commune_DHUIZON', 'Libelle_commune_Loriol_sur_Dr_me', 'Libelle_commune_Mesnil_Roc_h', 'Libelle_commune_Noir_table', 'Libelle_commune_Bihorel', 'Libelle_commune_Pordic', 'Libelle_commune_Saint_Nicolas_de_Pierrepont', 'Libelle_commune_Viam', 'Libelle_commune_Dizy', 'Libelle_commune_Vars_sur_Roseix', 'Libelle_commune_ANET', 'Libelle_commune_Yzeure', 'Libelle_commune_Beuvillers', 'Libelle_commune_La_Plaine_sur_Mer', 'Libelle_commune_Carla_Bayle', 'Libelle_commune_Gensac', 'Libelle_commune_Ballots', 'Libelle_commune_Chenay_le_Ch_tel', 'Libelle_commune_Saint_Maden', 'Libelle_commune_Origny_Sainte_Benoite', 'Libelle_commune_Tr_minis', 'Libelle_commune_Lich_res_sur_Yonne', 'Libelle_commune_Le_Meux', 'Libelle_commune_Prats_de_Carlux', 'Libelle_commune_S_vignacq_Meyracq', 'Libelle_commune_Delme', 'Libelle_commune_Saint_Georges_d_Ol_ron', 'Libelle_commune_Satolas_et_Bonce', 'Libelle_commune_Agenvillers', 'Libelle_commune_Aulhat_Flat', 'Libelle_commune_Saint_Pierre_en_Faucigny', 'Libelle_commune_La_B_tie_Montgascon', 'Libelle_commune_Colmars', 'Libelle_commune_Saint_Mamm_s', 'Libelle_commune_Le_Lorrain', 'Libelle_commune_Malemort_du_Comtat', 'Libelle_commune_La_Lande_de_Goult', 'Libelle_commune_C_bazat', 'Libelle_commune_Saint_L_on', 'Libelle_commune_Spechbach', 'Libelle_commune_Mastaing', 'Libelle_commune_Drevant', 'Libelle_commune_Pelleautier', 'Libelle_commune_V_zelin_sur_Loire', 'Libelle_commune_Hattigny', 'Libelle_commune_Damazan', 'Libelle_commune_Sauvian', 'Libelle_commune_Teyran', 'Libelle_commune_Bruy_res', 'Libelle_commune_Lyas', 'Libelle_commune_Miquelon_Langlade', 'Libelle_commune_La_Forteresse', 'Libelle_commune_Camaret_sur_Mer', 'Libelle_commune_Saint_Junien', 'Libelle_commune_Saint_Martory', 'Libelle_commune_Montferrier', 'Libelle_commune_Sinnamary', 'Libelle_commune_Plumaudan', 'Libelle_commune_Arbois', 'Libelle_commune_Epfig', 'Libelle_commune_Eu', 'Libelle_commune_Saint_Imoges', 'Libelle_commune_M_lisey', 'Libelle_commune_Treize_Septiers', 'Libelle_commune_Appeville_Annebault', 'Libelle_commune_Floressas', 'Libelle_commune_Couloutre', 'Libelle_commune_Roumengoux', 'Libelle_commune_B_ganne', 'Libelle_commune_Villersexel', 'Libelle_commune_Neydens', 'Libelle_commune_Fresney_le_Puceux', 'Libelle_commune_Varennes', 'Libelle_commune_La_Porte_du_Der', 'Libelle_commune_Saint_Genis_les_Olli_res', 'Libelle_commune_Pinsac', 'Libelle_commune_Torc__Viviers_en_Charnie', 'Libelle_commune_Breidenbach', 'Libelle_commune_Uvernet_Fours', 'Libelle_commune_Beauregard_Baret', 'Libelle_commune_Obermorschwiller', 'Libelle_commune_Porte_des_Pierres_Dor_es', 'Libelle_commune_Cousances_les_Forges', 'Libelle_commune_Cr_on', 'Libelle_commune_Cl_rac', 'Libelle_commune_Montlieu_la_Garde', 'Libelle_commune_Le_Ch_teau_d_Ol_ron', 'Libelle_commune_Saint_Sozy', 'Libelle_commune_Saint__loi', 'Libelle_commune_Chatuzange_le_Goubet', 'Libelle_commune_Armaucourt', 'Libelle_commune_Bruay_la_Buissi_re', 'Libelle_commune_Soisy_sur_Seine', 'Libelle_commune_Aussillon', 'Libelle_commune_Olargues', 'Libelle_commune_Plabennec', 'Libelle_commune_Cazes_Mondenard', 'Libelle_commune_Tr_silley', 'Libelle_commune_Roquefort', 'filtre_Poissonnerie_Traiteur_Boucherie_Charcuterie', 'Libelle_commune_Fontenay_aux_Roses', 'Libelle_commune_Castifao', 'Libelle_commune_La_Chapelle_Vicomtesse', 'Libelle_commune_Le_Quillio', 'Libelle_commune_Sainte_Nathal_ne', 'Libelle_commune_Inguiniel', 'Libelle_commune_Hochstatt', 'Libelle_commune_Saint_Martin_d_Ordon', 'Libelle_commune_Ourville_en_Caux', 'Libelle_commune_Mimizan', 'Libelle_commune_MANTES_LA_JOLIE', 'Libelle_commune_Cuxac_Cabard_s', 'Libelle_commune_Villeneuve_l_s_Avignon', 'Libelle_commune_Royat', 'Libelle_commune_Pl_sidy', 'Libelle_commune_Ellon', 'Libelle_commune_Saint_Romain_de_Surieu', 'Libelle_commune_Vars', 'Libelle_commune_Preuschdorf', 'Libelle_commune_Givonne', 'Libelle_commune_Saint_Jacques_des_Blats', 'Libelle_commune_Louin', 'Libelle_commune_Epagny_Metz_Tessy', 'Libelle_commune_Font_Romeu_Odeillo_Via', 'Libelle_commune_Chemy', 'Libelle_commune_Beaucourt', 'Libelle_commune_Ronno', 'Libelle_commune_Saint_Julien_en_Born', 'Libelle_commune_Buis_les_Baronnies', 'Libelle_commune_Ville_Dommange', 'Libelle_commune_Chazey_sur_Ain', 'Libelle_commune_Tanques', 'Libelle_commune_Huningue', 'Libelle_commune_Entre_Deux', 'Libelle_commune_Catus', 'Libelle_commune_Migni_res', 'Libelle_commune_Pont_Saint_Pierre', 'Libelle_commune_Sault_de_Navailles', 'Libelle_commune_Semezanges', 'Libelle_commune_Saint_Nectaire', 'Libelle_commune_Saint_L_ger_de_Fougeret', 'Libelle_commune_Lugrin', 'Libelle_commune_Saint_Witz', 'Libelle_commune_Horbourg_Wihr', 'Libelle_commune_Fursac', 'Libelle_commune_Marcill__Robert', 'Libelle_commune_Erc_', 'Libelle_commune_SAINT_POL_DE_LEON', 'Libelle_commune_Juzet_d_Izaut', 'Libelle_commune_Masseret', 'Libelle_commune_Rognonas', 'Libelle_commune_Saint_Sauveur_d__malleville', 'Libelle_commune_Berjou', 'Libelle_commune_Pamandzi', 'Libelle_commune_Riaill_', 'Libelle_commune_Neuilly_sous_Clermont', 'Libelle_commune_Masevaux_Niederbruck', 'Libelle_commune_Athis_Val_de_Rouvre', 'Libelle_commune_Pont_de_Montvert___Sud_Mont_Loz_re', 'Libelle_commune_Le_Lardin_Saint_Lazare', 'Libelle_commune_Ch_nes', 'Libelle_commune_Marin', 'Libelle_commune_Valravillon', 'Libelle_commune_Les_Mazures', 'Libelle_commune_Saint_Sauveur_de_Cruzi_res', 'Libelle_commune_Montgen_vre', 'Libelle_commune_Graulhet', 'Libelle_commune_Diesen', 'Libelle_commune_Saint_Martin_la_M_anne', 'Libelle_commune_Boursay', 'Libelle_commune_Villefranche_du_P_rigord', 'Libelle_commune_Langan', 'Libelle_commune_Varetz', 'Libelle_commune_Limogne_en_Quercy', 'Libelle_commune_Brebi_res', 'Libelle_commune_La_Godivelle', 'Libelle_commune_Thiant', 'Libelle_commune_Gillonnay', 'Libelle_commune_Salles_Arbuissonnas_en_Beaujolais', 'Libelle_commune_Le_Vignon_en_Quercy', 'APP_Libelle_activite_etablissement_Fromagerie_Chocolatier_Boulangerie_P_tisserie_Traiteur', 'Libelle_commune_Saint_Orens_de_Gameville', 'Libelle_commune_P_rols', 'Libelle_commune_Pl_guien', 'APP_Libelle_activite_etablissement_Alimentation_g_n_rale_Traiteur_Boucherie_Charcuterie', 'Libelle_commune_Pietralba', 'Libelle_commune_VANVES', 'Libelle_commune_Jouy_sous_Thelle', 'Libelle_commune_Vauchamps', 'Libelle_commune_Jaillans', 'Libelle_commune_Polminhac', 'Libelle_commune_ISSY_LES_MOULINEAUX', 'Libelle_commune_Le_Hohwald', 'Libelle_commune__griselles_le_Bocage', 'Libelle_commune_Pessoulens', 'Libelle_commune_Cr_marest', 'Libelle_commune_Tierc_', 'Libelle_commune_Bellevigne_les_Ch_teaux', 'Libelle_commune_Saint_Di_ry', 'Libelle_commune_Ligny_en_Barrois', 'Libelle_commune_Jegun', 'Libelle_commune_Aureille', 'Libelle_commune_Couzeix', 'Libelle_commune_Fr_pillon', 'Libelle_commune_Mathay', 'Libelle_commune_Pont_en_Royans', 'Libelle_commune_Hornoy_le_Bourg', 'Libelle_commune_Laboutarie', 'APP_Libelle_activite_etablissement_Collecte_et_transformation_de_miel', 'Libelle_commune_Le_Fau', 'Libelle_commune_Locmaria_Plouzan_', 'Libelle_commune_CRESPIERES', 'Libelle_commune_Bus_la_M_si_re', 'Libelle_commune_Saint_Denis_de_Pile', 'Libelle_commune_Villepreux', 'Libelle_commune_Mont_l_ger', 'Libelle_commune_Suc__sur_Erdre', 'Libelle_commune_Dommartin_l_s_Remiremont', 'Libelle_commune_Authou', 'Libelle_commune_Blanzy', 'Libelle_commune_Mornac_sur_Seudre', 'Libelle_commune_Pons', 'Libelle_commune_Weyersheim', 'Libelle_commune_Azolette', 'Libelle_commune_Le_Grand_Lemps', 'Libelle_commune_Sainte_Hermine', 'Libelle_commune_Saint_Just_d_Ard_che', 'Libelle_commune_Palau_del_Vidre', 'Libelle_commune_Ombr_e_d_Anjou', 'Libelle_commune_Tonnerre', 'Libelle_commune_Ennevelin', 'Libelle_commune_Saint__tienne_de_Cuines', 'Libelle_commune_Cabariot', 'Libelle_commune_Peyrestortes', 'Libelle_commune_Chaponnay', 'Libelle_commune_Beaumont', 'Libelle_commune_Vild__Guingalan', 'APP_Libelle_activite_etablissement_Libre_service_Alimentation_g_n_rale_Boulangerie_P_tisserie_Boucherie_Charcuterie', 'Libelle_commune_Combronde', 'Libelle_commune_Commana', 'Libelle_commune_Avord', 'Libelle_commune_Ch_teldon', 'Libelle_commune_Louey', 'Libelle_commune_Vitry_en_Artois', 'filtre_Chocolatier_Boulangerie_P_tisserie_Traiteur', 'Libelle_commune_Rencurel', 'Libelle_commune_Vernet_les_Bains', 'Libelle_commune_Pujaudran', 'Libelle_commune_Antisanti', 'Libelle_commune_Chatte', 'Libelle_commune_Bandrele', 'Libelle_commune_Cayeux_sur_Mer', 'Libelle_commune_Limony', 'Libelle_commune_Val_d_Iz_', 'Libelle_commune_Nouziers', 'Libelle_commune_Blandin', 'Libelle_commune_Oucques_La_Nouvelle', 'Libelle_commune_Sainte_Maure', 'Libelle_commune_Villers_sur_Mer', 'Libelle_commune_Saint_Cricq_Chalosse', 'Libelle_commune_Allas_les_Mines', 'Libelle_commune_Villeneuve_de_Marsan', 'Libelle_commune_Br_zins', 'APP_Libelle_activite_etablissement_Rayon_traiteur_Rayon_pain_viennoiserie_p_tisserie', 'Libelle_commune_Vicq_Exemplet', 'Libelle_commune_Bellevigne', 'Libelle_commune_Saint_Valery_en_Caux', 'Libelle_commune_Lacs', 'Libelle_commune_Chelun', 'Libelle_commune_Sens_sur_Seille', 'Libelle_commune_Terre_de_Bancali_', 'Libelle_commune_Saint_Gatien_des_Bois', 'Libelle_commune_Albert', 'Libelle_commune_Longny_les_Villages', 'Libelle_commune_Requeil', 'Libelle_commune_Villeneuve_Saint_Germain', 'Libelle_commune_Pont_du_Casse', 'Libelle_commune_Cramant', 'Libelle_commune_LONGJUMEAU', 'Libelle_commune_Villi__Morgon', 'Libelle_commune_Viroflay', 'Libelle_commune_Saint_Mamet_la_Salvetat', 'Libelle_commune_Vautebis', 'Libelle_commune_Les_Forges', 'Libelle_commune_Monesti_s', 'Libelle_commune_Ruitz', 'Libelle_commune_Mach_', 'Libelle_commune_Vandenesse', 'Libelle_commune_Boussenac', 'Libelle_commune_Durfort_Lacapelette', 'Libelle_commune_Wanchy_Capval', 'Libelle_commune_Valle_d_Alesani', 'Libelle_commune_Vieux_Boucau_les_Bains', 'Libelle_commune_Hinx', 'Libelle_commune_La_Canourgue', 'Libelle_commune_Bunzac', 'Libelle_commune_Beauchamp', 'Libelle_commune_Bunus', 'Libelle_commune_Le_Conquet', 'Libelle_commune_Ch_mery', 'Libelle_commune_Rousset', 'Libelle_commune_Andilly_en_Bassigny', 'Libelle_commune_Auxy', 'Libelle_commune_Coufouleux', 'Libelle_commune_Lamalou_les_Bains', 'Libelle_commune_Oulins', 'Libelle_commune_Vic_en_Bigorre', 'Libelle_commune_Campagne_l_s_Wardrecques', 'Libelle_commune_Hours', 'Libelle_commune_LES_ESSARTS_LE_ROI', 'Libelle_commune_Ancemont', 'Libelle_commune_Pougny', 'Libelle_commune_Bill_re', 'Libelle_commune_Dollot', 'Libelle_commune_Fresnoy_le_Ch_teau', 'Libelle_commune_La_Couarde_sur_Mer', 'Libelle_commune_Lys_lez_Lannoy', 'Libelle_commune_Berny_Rivi_re', 'Libelle_commune_Peyrus', 'Libelle_commune_Saint_Cirgue', 'Libelle_commune_Soye', 'Libelle_commune_Chamblet', 'Libelle_commune_Rians', 'Libelle_commune_Saint_Renan', 'Libelle_commune_Cambiac', 'Libelle_commune_Casteljaloux', 'Libelle_commune_Saint_Pantal_on_de_Larche', 'Libelle_commune_Saint_Front_de_Pradoux', 'Libelle_commune_Bers_e', 'Libelle_commune_Ch_teaudouble', 'Libelle_commune_Savignac_de_Miremont', 'Libelle_commune_Coltines', 'Libelle_commune_Bastelica', 'Libelle_commune_Bazoges_en_Pareds', 'Libelle_commune_Corvol_l_Orgueilleux', 'Libelle_commune_San_Martino_di_Lota', 'Libelle_commune_Bouc_Bel_Air', 'Libelle_commune_Villaines_la_Gonais', 'Libelle_commune_Sars_et_Rosi_res', 'Libelle_commune_Aydat', 'APP_Libelle_activite_etablissement_D_coupe_de_produits_de_charcuterie', 'Libelle_commune_Casseneuil', 'Libelle_commune_Goven', 'Libelle_commune_Wervicq_Sud', 'Libelle_commune_Cl_on', 'Libelle_commune_Le_Vibal', 'Libelle_commune_Sermange', 'Libelle_commune_Marseille_8e__Arrondissement', 'Libelle_commune_Eincheville', 'APP_Libelle_activite_etablissement_Alimentation_g_n_rale_Rayon_traiteur', 'Libelle_commune_Vrigne_aux_Bois', 'Libelle_commune_Wallers', 'Libelle_commune_Uchizy', 'Libelle_commune_B_horl_guy', 'Libelle_commune_Villaroger', 'Libelle_commune_Puymirol', 'Libelle_commune_Viscomtat', 'Libelle_commune_Saint_Mandrier_sur_Mer', 'Libelle_commune_Vigneux_sur_Seine', 'Libelle_commune_Saint_Priest_en_Jarez', 'Libelle_commune_Lohitzun_Oyhercq', 'Libelle_commune_Saint_Pierre_d_Irube', 'Libelle_commune_Vue', 'Libelle_commune_Cl_on_d_Andran', 'Libelle_commune_Saint_Victor_la_Rivi_re', 'Libelle_commune_Aussois', 'Libelle_commune_La_Salvetat_Saint_Gilles', 'Libelle_commune_Les_Velluire_sur_Vend_e', 'Libelle_commune_Saint_Jean_d_Illac', 'Libelle_commune_Virieu_le_Grand', 'Libelle_commune_Sari_Solenzara', 'Libelle_commune_Gournay_en_Bray', 'Libelle_commune_H_rimoncourt', 'Libelle_commune_Chapelle_Royale', 'Libelle_commune_NOZAY', 'Libelle_commune_Chan_ay', 'Libelle_commune_Glonville', 'Libelle_commune_Chalais', 'Libelle_commune_H_nansal', 'Libelle_commune_Chailly_en_Bi_re', 'Libelle_commune_Wingersheim_les_Quatre_Bans', 'Libelle_commune_Montferrier_sur_Lez', 'Libelle_commune_Landorthe', 'filtre_Alimentation_g_n_rale_Rayon_boucherie_charcuterie', 'Libelle_commune_Thorign__Fouillard', 'Libelle_commune_Lacapelle_Viescamp', 'Libelle_commune_Brancourt_en_Laonnois', 'Libelle_commune_Chauny', 'Libelle_commune_Saint_Ju_ry', 'Libelle_commune_Heyrieux', 'Libelle_commune_Penne_d_Agenais', 'Libelle_commune_Epping', 'Libelle_commune_Caudi_s_de_Fenouill_des', 'Libelle_commune_Pont_de_Ruan', 'Libelle_commune_Civrieux', 'Libelle_commune_Goudargues', 'Libelle_commune_Le_Louroux', 'Libelle_commune_Saint_Andr__de_l_Eure', 'Libelle_commune_Montilliers', 'Libelle_commune_Villefranche_de_Lonchat', 'Libelle_commune_Poussignac', 'Libelle_commune_Gizeux', 'Libelle_commune_CROLLES', 'Libelle_commune_Marseille_en_Beauvaisis', 'Libelle_commune_MUROL', 'Libelle_commune_Bonningues_l_s_Ardres', 'Libelle_commune_Chavagne', 'Libelle_commune_Le_Minihic_sur_Rance', 'Libelle_commune_Saint_Briac_sur_Mer', 'Libelle_commune_Saint_Max', 'Libelle_commune_Le_Caylar', 'Libelle_commune_Eecke', 'Libelle_commune_Iteuil', 'Libelle_commune_Aubignan', 'Libelle_commune_Carnoux_en_Provence', 'Libelle_commune_Girmont_Val_d_Ajol', 'Libelle_commune_Pac_', 'Libelle_commune_Sully_sur_Loire', 'Libelle_commune_Baugy', 'Libelle_commune_Saint_Sauveur_Lalande', 'Libelle_commune_Garde_Colombe', 'Libelle_commune_Rogliano', 'Libelle_commune_Le_Bersac', 'Libelle_commune_Plaisance_du_Touch', 'Libelle_commune_Valentine', 'Libelle_commune_L_Absie', 'Libelle_commune_Vallenay', 'Libelle_commune_Gauchy', 'Libelle_commune_C_aux_d_All_gre', 'Libelle_commune_Poligny', 'Libelle_commune_La_Bastide_sur_l_Hers', 'Libelle_commune_Saint_Yrieix_sur_Charente', 'Libelle_commune_Saint_Lyphard', 'Libelle_commune_Hochfelden', 'Libelle_commune_Ayguesvives', 'Libelle_commune_Collonges_la_Rouge', 'Libelle_commune_Duttlenheim', 'Libelle_commune_Puiseux_Pontoise', 'Libelle_commune_Montgaillard', 'Libelle_commune_Fargues', 'Libelle_commune_Mouthe', 'Libelle_commune_Haute_Rivoire', 'Libelle_commune_Saint_Trojan_les_Bains', 'Libelle_commune_Cherves_Richemont', 'Libelle_commune_Colombey_les_Belles', 'Libelle_commune_Sardieu', 'Libelle_commune_Regnauville', 'Libelle_commune_Bellegarde', 'Libelle_commune_Aulon', 'Libelle_commune_Blandainville', 'Libelle_commune_Charly', 'Libelle_commune_Dommartemont', 'Libelle_commune_Salou_l', 'Libelle_commune_Saint_Laurent_des_Vignes', 'Libelle_commune_Luxey', 'Libelle_commune_BAYEUX', 'Libelle_commune_Grainville_la_Teinturi_re', 'Libelle_commune_Reux', 'Libelle_commune_Ota', 'Libelle_commune_Br_han', 'Libelle_commune_Isola', 'Libelle_commune_Jarville_la_Malgrange', 'Libelle_commune_Arbusigny', 'Libelle_commune_Cosges', 'Libelle_commune__treux', 'Libelle_commune_Any_Martin_Rieux', 'Libelle_commune_Hiersac', 'Libelle_commune_Roville_aux_Ch_nes', 'Libelle_commune_Urvillers', 'Libelle_commune_Lambersart', 'Libelle_commune_Cassagnab_re_Tournas', 'Libelle_commune_Flogny_la_Chapelle', 'Libelle_commune_Houdan', 'Libelle_commune_La_Thieuloye', 'Libelle_commune_Brans', 'Libelle_commune_Vix', 'Libelle_commune_Courtenay', 'Libelle_commune_Soulignonne', 'Libelle_commune_Canteleu', 'Libelle_commune_Jacou', 'Libelle_commune_Ville_du_Pont', 'Libelle_commune_Vibrac', 'Libelle_commune_Roquefort_les_Pins', 'Libelle_commune_Ciri_res', 'Libelle_commune_Cordemais', 'Libelle_commune_Urzy', 'Libelle_commune_Vermenton', 'Libelle_commune_Saint_Esprit', 'Libelle_commune_Le_Port_Marly', 'Libelle_commune_Castet_Arrouy', 'Libelle_commune_Morillon', 'Libelle_commune_Pointe_Noire', 'Libelle_commune_Espiute', 'Libelle_commune_Venzolasca', 'Libelle_commune_Labrit', 'Libelle_commune_Bonneuil', 'Libelle_commune_Taulignan', 'Libelle_commune_M_jannes_le_Clap', 'Libelle_commune_Montbrun_les_Bains', 'Libelle_commune_Roche_en_R_gnier', 'Libelle_commune_Loos_en_Gohelle', 'Libelle_commune_Le_Petit_Pressigny', 'Libelle_commune_Putot_en_Auge', 'Libelle_commune_Mesmont', 'Libelle_commune_Castelnau_d_Auzan_Labarr_re', 'Libelle_commune_Le_Subdray', 'Libelle_commune_Saint_Mayeux', 'Libelle_commune_Rouillon', 'Libelle_commune_Maill_', 'Libelle_commune_Appietto', 'Libelle_commune_Saint_Jean_de_Galaure', 'Libelle_commune_Arandas', 'Libelle_commune_Illkirch_Graffenstaden', 'Libelle_commune_Gu_men__Penfao', 'Libelle_commune_Yvias', 'Libelle_commune_Montmirey_le_Ch_teau', 'Libelle_commune_Roz_Landrieux', 'Libelle_commune_Gondreville', 'Libelle_commune_Belleu', 'Libelle_commune_Le_Ch_tenet_en_Dognon', 'Libelle_commune_Payzac', 'Libelle_commune_Clais', 'Libelle_commune_Mornant', 'Libelle_commune_Plagnole', 'Libelle_commune_Nanteuil_en_Vall_e', 'Libelle_commune_Arcachon', 'Libelle_commune_Vivario', 'Libelle_commune_Sarbazan', 'Libelle_commune_Saint_Germain_des_Pr_s', 'Libelle_commune_La_Fert__Imbault', 'Libelle_commune_Bormes_les_Mimosas', 'Libelle_commune_Donzy', 'Libelle_commune_Mori_res_l_s_Avignon', 'Libelle_commune_Saint_P_e_sur_Nivelle', 'Libelle_commune_Divion', 'Libelle_commune_Valle_d_Orezza', 'Libelle_commune_Champagny_en_Vanoise', 'Libelle_commune_Uzel', 'Libelle_commune_Pleumeleuc', 'Libelle_commune_Corb_re_Ab_res', 'Libelle_commune_Gonnehem', 'Libelle_commune_Istres', 'Libelle_commune_Templemars', 'Libelle_commune_Laumesfeld', 'Libelle_commune_Clelles', 'Libelle_commune_Cousances_l_s_Triconville', 'Libelle_commune_Maul_vrier', 'Libelle_commune_Montricoux', 'Libelle_commune_La_Lande_de_Fronsac', 'Libelle_commune_Saint_Josse', 'Libelle_commune_Lemberg', 'Libelle_commune_Ferri_re_la_Grande', 'Libelle_commune_Saint_Rivoal', 'filtre_Alimentation_g_n_rale_Boulangerie_P_tisserie_Glacier_Poissonnerie_Boucherie_Charcuterie', 'Libelle_commune_Vattetot_sous_Beaumont', 'Libelle_commune_Bizeneuille', 'Libelle_commune_M_zel', 'Libelle_commune_Saint_Angel', 'Libelle_commune_Saint_C_neri_le_G_rei', 'Libelle_commune_Val_de_Louyre_et_Caudeau', 'Libelle_commune_Foulenay', 'Libelle_commune_Sainte_Croix', 'Libelle_commune_Lavans_Vuillafans', 'Libelle_commune_Montcuq_en_Quercy_Blanc', 'Libelle_commune_La_Sauvetat_du_Dropt', 'Libelle_commune_Cournon_d_Auvergne', 'filtre_Alimentation_g_n_rale_Glacier', 'Libelle_commune_Chirongui', 'Libelle_commune_Vay', 'Libelle_commune_YERRES', 'Libelle_commune_Sciez', 'Libelle_commune_Saint_Christol_l_s_Al_s', 'Libelle_commune_Moutier_Malcard', 'Libelle_commune_Saint_Ouen', 'Libelle_commune_Wissant', 'Libelle_commune_Sabli_res', 'Libelle_commune_Morbecque', 'Libelle_commune_Le_Relecq_Kerhuon', 'Libelle_commune_Thionne', 'Libelle_commune_Vindry_sur_Turdine', 'Libelle_commune_Vibeuf', 'Libelle_commune_Allain', 'Libelle_commune_Montgiscard', 'Libelle_commune_Ferri_res', 'Libelle_commune_Quessoy', 'Libelle_commune_Sedze_Maubecq', 'Libelle_commune_Mathaux', 'Libelle_commune_Quincieux', 'Libelle_commune_Carlencas_et_Levas', 'Libelle_commune_Douchy_les_Mines', 'Libelle_commune_Redon', 'Libelle_commune_Biert', 'Libelle_commune_Le_Sappey_en_Chartreuse', 'Libelle_commune_Pierrefort', 'Libelle_commune_Herbinghen', 'Libelle_commune_Rouhling', 'Libelle_commune_Saint_Genis_d_Hiersac', 'Libelle_commune_Nyons', 'Libelle_commune_Rosi_res_pr_s_Troyes', 'Libelle_commune_Linars', 'Libelle_commune_Saint_Martin_Lalande', 'Libelle_commune_Tarare', 'Libelle_commune_Vailly_sur_Aisne', 'Libelle_commune_Brenouille', 'Libelle_commune_Raismes', 'Libelle_commune_Airion', 'Libelle_commune_Saint_Didier_en_Velay', 'Libelle_commune_Vieux_Berquin', 'Libelle_commune_Catteville', 'Libelle_commune_Leugny', 'Libelle_commune_Moulis', 'Libelle_commune_Soucieu_en_Jarrest', 'Libelle_commune_Vergt_de_Biron', 'Libelle_commune_Challonges', 'Libelle_commune_Les_Achards', 'Libelle_commune_Valen_ay', 'Libelle_commune_Gluiras', 'Libelle_commune_Montluel', 'Libelle_commune_Saint_Santin_de_Maurs', 'Libelle_commune_Baigts', 'Libelle_commune_Putanges_le_Lac', 'Libelle_commune_Arnaud_Guilhem', 'Libelle_commune_Saint_Andr__le_Puy', 'Libelle_commune_Le_Verdon_sur_Mer', 'Libelle_commune_Bois_Grenier', 'Libelle_commune_Saint_L_ger_l_s_Paray', 'Libelle_commune_Rochessauve', 'Libelle_commune_Murviel_l_s_B_ziers', 'Libelle_commune_Brie', 'Libelle_commune_Saint_Martin_des_Bois', 'Libelle_commune_Saint_Divy', 'Libelle_commune_Grand_Fayt', 'Libelle_commune_La_Penne_sur_Huveaune', 'Libelle_commune_Rilhac_Xaintrie', 'Libelle_commune_Saint_Jean_sur_Reyssouze', 'Libelle_commune_Luzill_', 'APP_Libelle_activite_etablissement_Libre_service_Boucherie_Charcuterie', 'Libelle_commune__tiolles', 'Libelle_commune_Dannevoux', 'Libelle_commune_Moutiers', 'Libelle_commune_Westhoffen', 'Libelle_commune_Nouhant', 'Libelle_commune_Saint_Jouan_des_Gu_rets', 'Libelle_commune_Paizay_le_Sec', 'Libelle_commune_Saint__tienne_de_Tulmont', 'Libelle_commune_Bouillargues', 'Libelle_commune_Alquines', 'Libelle_commune_Av_ne', 'Libelle_commune_Bugarach', 'Libelle_commune_Valli_re', 'Libelle_commune_Manoncourt_en_Vermois', 'Libelle_commune_La_Croisille_sur_Briance', 'Libelle_commune_Lixing_l_s_Saint_Avold', 'Libelle_commune_Ban_de_Laveline', 'Libelle_commune_Saint_Bonnet_le_Courreau', 'Libelle_commune_Noh_des', 'Libelle_commune_Ch_teau_Porcien', 'Libelle_commune_Saint_Mexant', 'Libelle_commune_Leynhac', 'Libelle_commune_Ch_teau_Salins', 'Libelle_commune_Ch_tenay', 'Libelle_commune_Essegney', 'Libelle_commune_Beaumont_Saint_Cyr', 'Libelle_commune_Lys', 'Libelle_commune_Dieuze', 'Libelle_commune_Sierentz', 'Libelle_commune_Neulliac', 'Libelle_commune_Avermes', 'Libelle_commune_Saint_Germain_du_Pert', 'Libelle_commune_Marbou_', 'Libelle_commune_Vergaville', 'Libelle_commune_B_thune', 'Libelle_commune_Saint_Amand_Jartoudeix', 'Libelle_commune_Villebon_sur_Yvette', 'Libelle_commune_Sanxay', 'Libelle_commune_Cour_Cheverny', 'Libelle_commune_Wingles', 'Libelle_commune_Coron', 'Libelle_commune_Saint_Hilaire_du_Maine', 'Libelle_commune_Alairac', 'Libelle_commune_Folkling', 'Libelle_commune_Vernouillet', 'Libelle_commune_Mazan', 'Libelle_commune_Massat', 'Libelle_commune_Lanrivoar_', 'Libelle_commune_LANDERNEAU', 'Libelle_commune_Neufmoutiers_en_Brie', 'Libelle_commune_Sulniac', 'Libelle_commune_Quins', 'Libelle_commune_Chignin', 'Libelle_commune_Castelnau_d_Estr_tefonds', 'Libelle_commune_Eybouleuf', 'Libelle_commune_Audierne', 'Libelle_commune_Montoire_sur_le_Loir', 'Libelle_commune_Saint_Vincent_Bragny', 'Libelle_commune_La_Boissi_re', 'Libelle_commune_Narb_fontaine', 'Libelle_commune_Saint_Georges_du_Bois', 'Libelle_commune_ALFORTVILLE', 'Libelle_commune_Bastelicaccia', 'Libelle_commune_Catonvielle', 'Libelle_commune_COIGNIERES', 'Libelle_commune_Saint_Aubin_le_Monial', 'Libelle_commune_Surzur', 'Libelle_commune_Lucquy', 'Libelle_commune_Blond', 'Libelle_commune_Caudecoste', 'Libelle_commune_Bangor', 'Libelle_commune_Coubron', 'Libelle_commune_Saint_Mont', 'Libelle_commune_Sainville', 'Libelle_commune_Goyave', 'Libelle_commune_Saint_Martial_de_Nabirat', 'Libelle_commune_Saint_Marcel', 'Libelle_commune_Glisy', 'Libelle_commune_Lavillatte', 'Libelle_commune_Landivisiau', 'Libelle_commune_Vincelottes', 'Libelle_commune_Gorses', 'Libelle_commune_Pagney_derri_re_Barine', 'Libelle_commune_Darvault', 'Libelle_commune_Beaumont_du_Lac', 'Libelle_commune_Plumetot', 'Libelle_commune_Bergues', 'Libelle_commune_Blodelsheim', 'Libelle_commune_Bois_d_Arcy', 'Libelle_commune_Digoin', 'Libelle_commune_Choisy', 'Libelle_commune_Villech_tif', 'Libelle_commune_La_Garde_Adh_mar', 'Libelle_commune_Pleucadeuc', 'Libelle_commune_Vaux_sur_Mer', 'Libelle_commune_Bezons', 'Libelle_commune_Chailly_en_Brie', 'Libelle_commune_Labrugui_re', 'Libelle_commune_Sainte_Feyre', 'Libelle_commune_Champdieu', 'Libelle_commune_La_Grand_Combe', 'Libelle_commune_Saint_Vit', 'Libelle_commune_Imphy', 'Libelle_commune_Jons', 'Libelle_commune_Nailhac', 'Libelle_commune_Monthureux_sur_Sa_ne', 'Libelle_commune_Signes', 'Libelle_commune_Villebrumier', 'Libelle_commune_Fontenay_sur_Eure', 'Libelle_commune_Armeau', 'Libelle_commune_Pont_de_Buis_l_s_Quimerch', 'Libelle_commune_Saint_Cl_ment_sur_Valsonne', 'Libelle_commune_Pouzay', 'Libelle_commune_Scill_', 'Libelle_commune_Maxilly_sur_L_man', 'Libelle_commune_Chazelles', 'Libelle_commune_Amn_ville', 'Libelle_commune_La_Tour_du_Crieu', 'Libelle_commune_Saint_Aubin_sur_Gaillon', 'Libelle_commune_Laussou', 'Libelle_commune_Journiac', 'Libelle_commune_Pinsaguel', 'Libelle_commune_Le_Mas_d_Azil', 'Libelle_commune_Saint_Jean_aux_Bois', 'Libelle_commune_Landes_Vieilles_et_Neuves', 'Libelle_commune_Nouillonpont', 'Libelle_commune_Montpezat_de_Quercy', 'Libelle_commune_Sancergues', 'Libelle_commune_Davayat', 'Libelle_commune_Maignelay_Montigny', 'Libelle_commune_Basse_Pointe', 'Libelle_commune_Bisl_e', 'Libelle_commune_Chagny', 'Libelle_commune_Eaux_Bonnes', 'Libelle_commune_Coulogne', 'Libelle_commune_Hautmont', 'Libelle_commune_Sainte_Eulalie_d_Ans', 'Libelle_commune_Puisserguier', 'Libelle_commune_Montclar', 'Libelle_commune_La_Fl_che', 'Libelle_commune_Saint_Bernard', 'Libelle_commune_Aucaleuc', 'Libelle_commune_Garat', 'Libelle_commune_Ceyssac', 'Libelle_commune_La_Dornac', 'Libelle_commune_Lacanau', 'Libelle_commune_Villar_d_Ar_ne', 'Libelle_commune_Roulans', 'Libelle_commune_Saint_Cr_pin_Ibouvillers', 'Libelle_commune_Iverny', 'Libelle_commune_Misson', 'Libelle_commune_Tavaux', 'Libelle_commune_Toulx_Sainte_Croix', 'Libelle_commune_Colpo', 'Libelle_commune_M_n_ac', 'Libelle_commune_Colleville_sur_Mer', 'Libelle_commune_Jossigny', 'Libelle_commune_La_Clayette', 'Libelle_commune_Beuil', 'Libelle_commune_Charleval', 'Libelle_commune_Decize', 'Libelle_commune_Alvignac', 'Libelle_commune_Taisni_res_sur_Hon', 'Libelle_commune_Mios', 'filtre_Rayon_traiteur_Rayon_pain_viennoiserie_p_tisserie', 'Libelle_commune_Beuzeville', 'Libelle_commune_Burnhaupt_le_Bas', 'Libelle_commune_Lalinde', 'Libelle_commune_Les_Allues', 'Libelle_commune_Germolles_sur_Grosne', 'Libelle_commune_Nogaro', 'Libelle_commune_R_almont', 'Libelle_commune_Saint_Agnet', 'Libelle_commune_Vif', 'Libelle_commune_Chenoise_Cucharmoy', 'Libelle_commune_Saint_Georges_de_Baroille', 'Libelle_commune_Vendeuvre', 'Libelle_commune_Champagn_', 'Libelle_commune_LE_BOURG_D_OISANS', 'Libelle_commune__pinouze', 'Libelle_commune_Ascou', 'Libelle_commune_Torc__en_Vall_e', 'Libelle_commune_Le_Val_d_Ocre', 'Libelle_commune_Montigny_sur_Canne', 'Libelle_commune_Rive_de_Gier', 'Libelle_commune_Saint_Nicolas_de_la_Grave', 'Libelle_commune_Vevy', 'Libelle_commune_Chanteloup_les_Vignes', 'Libelle_commune_Antilly', 'Libelle_commune_Verteuil_d_Agenais', 'Libelle_commune_Montmagny', 'Libelle_commune_Mernel', 'Libelle_commune_Neauphlette', 'Libelle_commune_Le_Gua', 'Libelle_commune_Lully', 'Libelle_commune_Poc__sur_Cisse', 'Libelle_commune__vette_Salbert', 'Libelle_commune_Saint_Andr__d_Huiriat', 'Libelle_commune_S_rent', 'Libelle_commune_Argentr_', 'Libelle_commune_Parnac', 'Libelle_commune_Couchey', 'Libelle_commune_Cascastel_des_Corbi_res', 'Libelle_commune_Distr_', 'Libelle_commune_Schirrhein', 'Libelle_commune_Auneuil', 'Libelle_commune_Rotangy', 'Libelle_commune_Gr_oux_les_Bains', 'Libelle_commune_Branches', 'Libelle_commune_Ortaffa', 'Libelle_commune_Flavacourt', 'Libelle_commune_Dardilly', 'Libelle_commune_Bouchain', 'Libelle_commune_Saint_Michel_de_Chaillol', 'Libelle_commune_Moisy', 'Libelle_commune_Le_Barp', 'Libelle_commune_M_ligny_le_Grand', 'Libelle_commune_Lign_', 'Libelle_commune_Plouasne', 'Libelle_commune_Saint_Nazaire_le_D_sert', 'Libelle_commune_Duni_res', 'Libelle_commune_La_Salette_Fallavaux', 'Libelle_commune_Saint_L_ry', 'Libelle_commune_Rignieux_le_Franc', 'Libelle_commune_Loreto_di_Casinca', 'Libelle_commune_Magny_les_Hameaux', 'Libelle_commune_Boisgervilly', 'Libelle_commune_Gurmen_on', 'Libelle_commune_Hag_ville', 'Libelle_commune_Perreux', 'Libelle_commune_Saint_Saturnin_l_s_Avignon', 'Libelle_commune_Maffliers', 'Libelle_commune_Turenne', 'Libelle_commune_Hennezel', 'Libelle_commune_Lachapelle_sous_Aubenas', 'Libelle_commune_Pierrefeu', 'Libelle_commune_Bonson', 'Libelle_commune_Les_Sauvages', 'Libelle_commune_Gibles', 'Libelle_commune_Saint_Di__des_Vosges', 'Libelle_commune_PLOUVORN', 'Libelle_commune_Braud_et_Saint_Louis', 'Libelle_commune_Saint_Galmier', 'Libelle_commune_Vallet', 'Libelle_commune_Aoste', 'Libelle_commune_MAISSE', 'Libelle_commune_Vieille_Brioude', 'Libelle_commune_Ploun_our_M_nez', 'Libelle_commune_Le_Mesnil_en_Thelle', 'Libelle_commune_Andrein', 'Libelle_commune_Limeyrat', 'Libelle_commune_Amanz_', 'Libelle_commune_Peyroules', 'Libelle_commune_Soub_s', 'Libelle_commune_Duerne', 'Libelle_commune_Gathemo', 'Libelle_commune_Tostat', 'Libelle_commune_Touvois', 'Libelle_commune_Saint_Martin_de_Rib_rac', 'Libelle_commune_Sadroc', 'Libelle_commune_Fontaines_Saint_Martin', 'Libelle_commune_Jonqui_res', 'Libelle_commune__pineau_les_Voves', 'Libelle_commune_Guiscard', 'Libelle_commune_Mazi_res_en_G_tine', 'Libelle_commune_Juran_on', 'Libelle_commune_Saint_Hilaire_de_Chal_ons', 'Libelle_commune_Saint_Sulpice_le_Gu_r_tois', 'Libelle_commune_Aix_en_Issart', 'Libelle_commune_Saint_Julien_de_l_Escap', 'Libelle_commune_Saint_Symphorien_sous_Chom_rac', 'Libelle_commune_Saint_Genest_d_Ambi_re', 'Libelle_commune_Rocles', 'Libelle_commune_Saint_Georges_de_Mons', 'Libelle_commune_Villemain', 'Libelle_commune_Saint_Julien_les_Villas', 'Libelle_commune_Bono', 'Libelle_commune_La_Ch_tre', 'Libelle_commune_Theix_Noyalo', 'Libelle_commune_Molompize', 'Libelle_commune_Oudry', 'Libelle_commune_Jouars_Pontchartrain', 'Libelle_commune_Vicq_sur_Nahon', 'Libelle_commune_Strenquels', 'Libelle_commune_Villardonnel', 'Libelle_commune_Cocheren', 'Libelle_commune_Fuans', 'Libelle_commune_Loches_sur_Ource', 'Libelle_commune_Lauzun', 'Libelle_commune_Gouffern_en_Auge', 'Libelle_commune_Inzinzac_Lochrist', 'Libelle_commune_Sautel', 'Libelle_commune_R_taud', 'Libelle_commune_Saint_R_my_en_Comt_', 'Libelle_commune_Saint_Louis_et_Parahou', 'Libelle_commune_Cormolain', 'Libelle_commune_Gosnay', 'Libelle_commune_Le_Fieu', 'Libelle_commune_VEUZAIN_SUR_LOIRE', 'Libelle_commune_Villieu_Loyes_Mollon', 'Libelle_commune_Saint_Brice', 'Libelle_commune_Theys', 'Libelle_commune_Martin__glise', 'Libelle_commune_Cherveux', 'Libelle_commune_Frasne_le_Ch_teau', 'Libelle_commune_Le_Chambon_sur_Lignon', 'Libelle_commune_Azay_le_Ferron', 'Libelle_commune_Manou', 'Libelle_commune_Damvix', 'Libelle_commune_Saint_Pons_de_Thomi_res', 'Libelle_commune_Melleray', 'Libelle_commune_Avon', 'Libelle_commune_Combs_la_Ville', 'Libelle_commune_Sailly_lez_Lannoy', 'Libelle_commune_Bas_en_Basset', 'Libelle_commune_Sampzon', 'Libelle_commune_Druillat', 'Libelle_commune_Din_ault', 'Libelle_commune_La_Chapelle_aux_Bois', 'Libelle_commune_Ruynes_en_Margeride', 'Libelle_commune_Saint_Laurent_de_la_Salanque', 'Libelle_commune_Belpech', 'Libelle_commune_Saint_Georges_de_Commiers', 'Libelle_commune_Longages', 'Libelle_commune_Villab_', 'Libelle_commune_Neuvy_Sautour', 'Libelle_commune_Recoubeau_Jansac', 'Libelle_commune_La_Chapelle_sur_Aveyron', 'Libelle_commune_Anglars_Nozac', 'Libelle_commune_Lourmarin', 'Libelle_commune_Les_Loges_Marchis', 'Libelle_commune_Saint_Am_', 'Libelle_commune_MER', 'Libelle_commune_Renac', 'Libelle_commune_Fl_chin', 'Libelle_commune_Hazebrouck', 'Libelle_commune_Castelnau_de_L_vis', 'Libelle_commune_Livr__sur_Changeon', 'Libelle_commune_Barrais_Bussolles', 'Libelle_commune_Breil_sur_Roya', 'Libelle_commune_Terraube', 'Libelle_commune_Ajoux', 'Libelle_commune_Arcy_sur_Cure', 'Libelle_commune_Coublevie', 'Libelle_commune_Basse_Goulaine', 'Libelle_commune_Cintegabelle', 'Libelle_commune_Saint_Bonnet_pr_s_Orcival', 'Libelle_commune_Pargny_l_s_Reims', 'Libelle_commune_Grospierres', 'Libelle_commune_Cormeilles_en_Parisis', 'Libelle_commune_Saint_Julien_sur_Sarthe', 'Libelle_commune_La_Meyze', 'Libelle_commune_V_zins_de_L_v_zou', 'Libelle_commune_Laign__en_Belin', 'Libelle_commune_B_court', 'Libelle_commune_Nozi_res', 'Libelle_commune_Pruniers', 'Libelle_commune_Marsilly', 'Libelle_commune_Manderen_Ritzing', 'Libelle_commune_Fanjeaux', 'Libelle_commune_Tracy_sur_Loire', 'Libelle_commune_Habloville', 'Libelle_commune_La_Rivi_re', 'Libelle_commune_Lacroix_Saint_Ouen', 'Libelle_commune_Valli_res_sur_Fier', 'Libelle_commune_La_Ricamarie', 'Libelle_commune_Les_Riceys', 'Libelle_commune_Saint_Laurent_en_Grandvaux', 'Libelle_commune_Burgnac', 'Libelle_commune_Ennery', 'Libelle_commune_M_zi_res_en_Brenne', 'Libelle_commune_Olette', 'Libelle_commune_Saint_Julien_de_Lampon', 'Libelle_commune__bersviller', 'Libelle_commune_La_Croix_Blanche', 'Libelle_commune_Cusset', 'Libelle_commune_Morla_s', 'Libelle_commune_Saint_Projet_de_Salers', 'Libelle_commune_Najac', 'Libelle_commune_Pougy', 'Libelle_commune_Fumay', 'Libelle_commune_Seyches', 'Libelle_commune_Frasne', 'Libelle_commune_Saint_Jean_Lachalm', 'Libelle_commune_Cabasse', 'Libelle_commune_Patrimonio', 'Libelle_commune_Bretteville_sur_Odon', 'Libelle_commune_Notre_Dame_des_Landes', 'Libelle_commune_Saint_Hilaire_de_Briouze', 'Libelle_commune_Essertines_en_Ch_telneuf', 'Libelle_commune_Nans_sous_Sainte_Anne', 'Libelle_commune_Ch_teau_Chalon', 'Libelle_commune_Saint_Martin_la_Sauvet_', 'Libelle_commune_Loch__sur_Indrois', 'Libelle_commune_Saint_Just_Luzac', 'Libelle_commune_Alixan', 'Libelle_commune_Cussac_Fort_M_doc', 'Libelle_commune_Ochey', 'Libelle_commune_Cigogn_', 'Libelle_commune_Sauzon', 'Libelle_commune_Saint_Jean_Pied_de_Port', 'Libelle_commune_Saint_Paul_l_s_Romans', 'Libelle_commune_Pionnat', 'Libelle_commune_Formigu_res', 'Libelle_commune_Cousance', 'Libelle_commune_Saint_Apollinaire', 'Libelle_commune_Saint_Paul_d_Espis', 'Libelle_commune_La_Fare_les_Oliviers', 'Libelle_commune_Saint_Plaisir', 'Libelle_commune_Avesnes_le_Comte', 'Libelle_commune_Grenade_sur_l_Adour', 'Libelle_commune_Campagne_sur_Aude', 'Libelle_commune_Saint_Cl_ment_de_R_gnat', 'Libelle_commune_Tord_res', 'Libelle_commune_Les_Bouchoux', 'Libelle_commune_Vendeville', 'Libelle_commune_Bavincourt', 'Libelle_commune_Saint_L_ger_sous_Beuvray', 'Libelle_commune_Marcigny', 'APP_Libelle_activite_etablissement_Rayon_poissonnerie_Rayon_fromagerie_Rayon_traiteur_Rayon_pain_viennoiserie_p_tisserie_Rayon_boucherie_charcuterie', 'Libelle_commune_Mecquignies', 'Libelle_commune_Saint_Pons', 'Libelle_commune_Saint_Avit', 'Libelle_commune_Saint_L_ger_les_M_l_zes', 'Libelle_commune_Rully', 'Libelle_commune_Boisset_Saint_Priest', 'Libelle_commune_Licq_Ath_rey', 'Libelle_commune_Avignon_l_s_Saint_Claude', 'Libelle_commune_Dammarie_les_Lys', 'Libelle_commune_Fleurance', 'Libelle_commune_Flassan', 'Libelle_commune_Genilac', 'Libelle_commune_Canet', 'Libelle_commune_Chiconi', 'Libelle_commune_Dompaire', 'Libelle_commune_Cordes_sur_Ciel', 'Libelle_commune_Saint_Martin_la_Pallu', 'Libelle_commune_Savigny_sur_Orge', 'Libelle_commune_LE_CONTROIS_EN_SOLOGNE', 'Libelle_commune_Co_x', 'Libelle_commune_Saint_Georges_Haute_Ville', 'Libelle_commune_Roches_Bettaincourt', 'Libelle_commune_BEAUMONT', 'Libelle_commune_Orbais_l_Abbaye', 'Libelle_commune_Buzet_sur_Tarn', 'Libelle_commune_Marcellus', 'Libelle_commune_Lussac_les_Ch_teaux', 'Libelle_commune_PLOUDALMEZEAU', 'Libelle_commune_Larochemillay', 'Libelle_commune_Castelginest', 'Libelle_commune_Barjols', 'Libelle_commune_B_n_jacq', 'Libelle_commune_Champs', 'Libelle_commune_Bonnevaux', 'Libelle_commune_La_Sauvetat', 'Libelle_commune_Lourdoueix_Saint_Pierre', 'Libelle_commune_SARCELLES', 'Libelle_commune_M_rignies', 'Libelle_commune_Moncy', 'Libelle_commune_Aussonne', 'Libelle_commune_La_Chapelle_d_Angillon', 'Libelle_commune_L_vis_Saint_Nom', 'Libelle_commune_Le_Montat', 'Libelle_commune_Charency_Vezin', 'Libelle_commune_Bram', 'Libelle_commune_Eppeville', 'Libelle_commune_Montfort_sur_Argens', 'Libelle_commune_Pougne_H_risson', 'Libelle_commune_Lucinges', 'Libelle_commune_Saint_Martin_de_Palli_res', 'Libelle_commune_Plurien', 'Libelle_commune_Mornans', 'Libelle_commune_Sevrier', 'Libelle_commune_Beaune', 'Libelle_commune_Saint_Laurent_de_C_ris', 'Libelle_commune_Arvert', 'Libelle_commune_La_Tour_du_Meix', 'Libelle_commune_Lavar_', 'Libelle_commune_Saint_Vigor_le_Grand', 'Libelle_commune_Les_Tonils', 'Libelle_commune_Iracoubo', 'Libelle_commune__veux', 'Libelle_commune_Saint_Martin_d__cublei', 'Libelle_commune_La_Tremblade', 'Libelle_commune_Maisonnisses', 'Libelle_commune_Courtauly', 'Libelle_commune_Delle', 'Libelle_commune_Saint_Thonan', 'Libelle_commune_VALREAS', 'Libelle_commune_Villossanges', 'Libelle_commune_Creully_sur_Seulles', 'Libelle_commune_Saint_Vaast_la_Hougue', 'Libelle_commune_Mollau', 'Libelle_commune_Chevenon', 'Libelle_commune_Saint_Fuscien', 'Libelle_commune_N_grepelisse', 'Libelle_commune_Moyenmoutier', 'Libelle_commune_Caro', 'Libelle_commune_Sainte_Agathe_la_Bouteresse', 'Libelle_commune_Pompertuzat', 'Libelle_commune_La_Ville_Dieu_du_Temple', 'filtre_Primeur', 'Libelle_commune_Chambourcy', 'Libelle_commune_Belmont_de_la_Loire', 'Libelle_commune_Capesterre_de_Marie_Galante', 'Libelle_commune_B_cherel', 'Libelle_commune_M_nerbes', 'Libelle_commune_Saint_Martin_sur_Oust', 'Libelle_commune_Cadalen', 'Libelle_commune_Massay', 'Libelle_commune_Montaigu_de_Quercy', 'Libelle_commune_Tourtoirac', 'Libelle_commune_Auvillar', 'Libelle_commune_Durdat_Larequille', 'Libelle_commune_Saulieu', 'Libelle_commune_Sainte_Foy_l_s_Lyon', 'Libelle_commune_B_nesse_l_s_Dax', 'Libelle_commune_Les_Fontenelles', 'Libelle_commune_Chevigny_en_Vali_re', 'Libelle_commune_Blacy', 'Libelle_commune_Bouxurulles', 'Libelle_commune_Carignan_de_Bordeaux', 'Libelle_commune_Saint_Laurent_de_Jourdes', 'Libelle_commune_Poullan_sur_Mer', 'Libelle_commune_Surville', 'Libelle_commune_Charmes_sur_Rh_ne', 'Libelle_commune_Bengy_sur_Craon', 'Libelle_commune_Laleu', 'Libelle_commune_Cassis', 'Libelle_commune_Villemagne', 'Libelle_commune_Dompierre_Becquincourt', 'Libelle_commune_Ormes', 'Libelle_commune_Enneti_res_en_Weppes', 'Libelle_commune_Saint_Barth_lemy_de_Bellegarde', 'Libelle_commune_Yzeures_sur_Creuse', 'Libelle_commune_Pr_cy_Notre_Dame', 'Libelle_commune__chenevex', 'Libelle_commune_Chaintr_', 'Libelle_commune_Le_Bourg_d_Hem', 'Libelle_commune_Butry_sur_Oise', 'Libelle_commune_Les_Hauts_de_Forterre', 'Libelle_commune_Corbarieu', 'Libelle_commune_Teulat', 'Libelle_commune_Cr_vic', 'Libelle_commune_Bois_H_roult', 'Libelle_commune_Saulges', 'Libelle_commune_Eyjeaux', 'Libelle_commune_Blet', 'Libelle_commune_Archigny', 'Libelle_commune_Saint_L_ger_Vauban', 'Libelle_commune_Bazancourt', 'Libelle_commune_Montaigut_le_Blanc', 'Libelle_commune_Treban', 'Libelle_commune_Sennevi_res', 'Libelle_commune_Tilloy_lez_Marchiennes', 'Libelle_commune_Saint_Ouen_en_Belin', 'Libelle_commune_Alzen', 'Libelle_commune_Beaujeu_Saint_Vallier_Pierrejux_et_Quitteur', 'Libelle_commune_Valines', 'Libelle_commune_Saint_Sim_on', 'Libelle_commune_Jayac', 'Libelle_commune_Saint_Th_gonnec_Loc_Eguiner', 'Libelle_commune_Grandfontaine_sur_Creuse', 'Libelle_commune_Confran_on', 'Libelle_commune_Aucamville', 'Libelle_commune_Saint_Laurent_des_Hommes', 'Libelle_commune_Ounans', 'Libelle_commune_Ch_teau_Arnoux_Saint_Auban', 'Libelle_commune_Saint_Aignan_sur_Ro_', 'Libelle_commune_Chabestan', 'Libelle_commune_Puy_Saint_Vincent', 'Libelle_commune_Pr_fontaines', 'Libelle_commune__commoy', 'Libelle_commune_Dialan_sur_Cha_ne', 'Libelle_commune_Oinville_sur_Montcient', 'Libelle_commune_Castelnou', 'Libelle_commune_Sand', 'Libelle_commune_Crusnes', 'Libelle_commune_Cr_hange', 'Libelle_commune_Lalouvesc', 'Libelle_commune_Saint_Bonnet_Tron_ais', 'Libelle_commune_Av_ze', 'Libelle_commune_Courtils', 'Libelle_commune_Saint_Quentin_sur_le_Homme', 'Libelle_commune_Bolqu_re', 'Libelle_commune_Montjardin', 'Libelle_commune_Saint_Bonnet_de_Mure', 'Libelle_commune_Vatierville', 'Libelle_commune_Travecy', 'Libelle_commune_Margencel', 'Libelle_commune_Saint_Paul_de_Serre', 'Libelle_commune_La_Malmaison', 'Libelle_commune_Saint_Germain_Lembron', 'Libelle_commune_Montlignon', 'Libelle_commune_Saint_Julien_du_Serre', 'Libelle_commune_LANDIVISIAU', 'Libelle_commune_Landser', 'Libelle_commune_Darbres', 'filtre_Libre_service_Alimentation_g_n_rale_Rayon_boucherie_charcuterie', 'Libelle_commune_Thourotte', 'Libelle_commune_Primarette', 'Libelle_commune_Saint_Georges_Buttavent', 'Libelle_commune_Wancourt', 'Libelle_commune_Chevri_res', 'Libelle_commune_Monterblanc', 'Libelle_commune_Coursac', 'Libelle_commune_Sahorre', 'Libelle_commune_Montilly_sur_Noireau', 'Libelle_commune_Raves', 'Libelle_commune_Caurel', 'Libelle_commune_Mont_d_Astarac', 'Libelle_commune_Marquay', 'Libelle_commune_Le_Genest_Saint_Isle', 'Libelle_commune_Brienon_sur_Arman_on', 'Libelle_commune_Isle_Saint_Georges', 'Libelle_commune_Azay_le_Br_l_', 'Libelle_commune_Pressac', 'Libelle_commune_Lay_Saint_Christophe', 'Libelle_commune_M_riel', 'Libelle_commune_Taglio_Isolaccio', 'Libelle_commune_VOREPPE', 'Libelle_commune_Monc__en_Belin', 'Libelle_commune_Tr_ves', 'Libelle_commune_Ruffiac', 'Libelle_commune_Croisy_sur_Eure', 'Libelle_commune_Brunstatt_Didenheim', 'Libelle_commune_La_Frette', 'Libelle_commune_Betbezer_d_Armagnac', 'Libelle_commune_Saint_Julien_Mont_Denis', 'Libelle_commune_Hauterives', 'Libelle_commune_Cernay', 'Libelle_commune_Montguyon', 'Libelle_commune_Peyruis', 'Libelle_commune_Arn_guy', 'Libelle_commune_CHAUMONT_SUR_THARONNE', 'Libelle_commune_Les_Islettes', 'Libelle_commune_Mondelange', 'Libelle_commune_Fouqueville', 'Libelle_commune_Noceta', 'Libelle_commune_Garos', 'Libelle_commune_Secondigny', 'Libelle_commune_Agonac', 'Libelle_commune_Maylis', 'Libelle_commune_Saussay', 'Libelle_commune_Saint__tienne_l_s_Remiremont', 'Libelle_commune_Plougonver', 'Libelle_commune_Genech', 'Libelle_commune_Montaigu_Vend_e', 'Libelle_commune_Ens', 'Libelle_commune_Saint_Bris_le_Vineux', 'Libelle_commune_N_rondes', 'Libelle_commune_Bouligney', 'Libelle_commune_Ch_teauneuf', 'Libelle_commune_Pont_Scorff', 'Libelle_commune_Brou_', 'Libelle_commune_Famars', 'APP_Libelle_activite_etablissement_Libre_service_Alimentation_g_n_rale_Rayon_boucherie_charcuterie', 'Libelle_commune_Saint_Laurent_de_Gosse', 'Libelle_commune_Marzy', 'Libelle_commune_Gorni_s', 'Libelle_commune_Pleuven', 'Libelle_commune_Tramol_', 'Libelle_commune_Chasseneuil_sur_Bonnieure', 'Libelle_commune_Montdauphin', 'Libelle_commune_Plainfaing', 'Libelle_commune_Sa_x', 'Libelle_commune_Chasteaux', 'Libelle_commune_Sancey', 'Libelle_commune_Le_Wast', 'Libelle_commune_Villegusien_le_Lac', 'Libelle_commune_Prignac_et_Marcamps', 'Libelle_commune_Pannessi_res', 'Libelle_commune_Escaunets', 'Libelle_commune_Valframbert', 'Libelle_commune_Coublanc', 'Libelle_commune_Marly_le_Roi', 'Libelle_commune_Saint_Jean_d_Ang_ly', 'Libelle_commune_Lesneven', 'Libelle_commune_Marsannay_le_Bois', 'Libelle_commune_Miers', 'Libelle_commune_Sentenac_d_Oust', 'Libelle_commune_Nazelles_N_gron', 'Libelle_commune_Ceyz_riat', 'Libelle_commune_Mouzon', 'Libelle_commune_Saint_Haon_le_Ch_tel', 'Libelle_commune_Angerville_la_Martel', 'Libelle_commune_Ambonnay', 'Libelle_commune_Sceaux', 'Libelle_commune_Mimbaste', 'Libelle_commune_Montamis_', 'Libelle_commune_Ballainvilliers', 'Libelle_commune_Chanousse', 'Libelle_commune_B_darrides', 'Libelle_commune_Beaulieu_sous_la_Roche', 'Libelle_commune_Labry', 'Libelle_commune_Mazet_Saint_Voy', 'Libelle_commune_Saint_Clair_de_la_Tour', 'Libelle_commune_San_Giovanni_di_Moriani', 'Libelle_commune_Moustier_Ventadour', 'Libelle_commune_Esnandes', 'Libelle_commune_Saint_Sandoux', 'Libelle_commune_Feuchy', 'Libelle_commune_Simandres', 'Libelle_commune_Louvern_', 'Libelle_commune_La_Chapelle_de_Guinchay', 'Libelle_commune_Hem', 'Libelle_commune_Vereaux', 'Libelle_commune_Nieul_sur_Mer', 'Libelle_commune_Anjou', 'Libelle_commune_Pougues_les_Eaux', 'Libelle_commune_Chailland', 'Libelle_commune_N_r_', 'Libelle_commune_Cunfin', 'Libelle_commune_L_Argenti_re_la_Bess_e', 'Libelle_commune_GAMACHES', 'Libelle_commune_PLOUDANIEL', 'Libelle_commune_Broussy_le_Petit', 'Libelle_commune_HOUILLES', 'Libelle_commune_Augny', 'Libelle_commune_P_pieux', 'Libelle_commune_Villemontoire', 'Libelle_commune_Montmorot', 'Libelle_commune_Les_Clayes_sous_Bois', 'Libelle_commune_Saint_Chamassy', 'Libelle_commune_Therdonne', 'Libelle_commune_Saint_Denis_d_Ol_ron', 'Libelle_commune_Combourg', 'Libelle_commune_Villeneuve_sur_Yonne', 'Libelle_commune_Espoey', 'Libelle_commune_Grande_Synthe', 'Libelle_commune_Lavardens', 'Libelle_commune_La_L_ch_re', 'Libelle_commune_Lunery', 'Libelle_commune_Guinglange', 'Libelle_commune_Allennes_les_Marais', 'Libelle_commune_Gamaches', 'Libelle_commune_Artix', 'Libelle_commune_Sainte_Foy_l_Argenti_re', 'Libelle_commune_Cheverny', 'Libelle_commune_Mosnac_Saint_Simeux', 'Libelle_commune_Le_Pont_de_Beauvoisin', 'Libelle_commune_Les_Ch_res', 'Libelle_commune_Th_reval', 'Libelle_commune_Conches_en_Ouche', 'Libelle_commune_Couches', 'Libelle_commune_Castel_Sarrazin', 'Libelle_commune_Criquebeuf_sur_Seine', 'Libelle_commune_Esparron', 'Libelle_commune_Avrill__les_Ponceaux', 'Libelle_commune_Publier', 'Libelle_commune_B_g__le_Ch_tel', 'Libelle_commune_ISSOIRE', 'Libelle_commune_Lisle_sur_Tarn', 'Libelle_commune_Ivry_la_Bataille', 'Libelle_commune_Olmi_Cappella', 'Libelle_commune_Ch_tel_Guyon', 'Libelle_commune_Mauvezin_sur_Gupie', 'Libelle_commune_Ratenelle', 'Libelle_commune_Nogent_le_Bernard', 'Libelle_commune_Ambazac', 'Libelle_commune_Chamberet', 'Libelle_commune_Corps_Nuds', 'Libelle_commune_Le_Boisle', 'Libelle_commune_Saint_Beno_t_la_For_t', 'Libelle_commune_Plancher_Bas', 'Libelle_commune_Pierrerue', 'Libelle_commune_Ubaye_Serre_Pon_on', 'Libelle_commune_Wintersbourg', 'Libelle_commune_Montsecret_Clairefoug_re', 'Libelle_commune_Ambleteuse', 'Libelle_commune_Montereau_Fault_Yonne', 'Libelle_commune_Breuil_la_R_orte', 'Libelle_commune_Saillac', 'Libelle_commune_Blancey', 'Libelle_commune_La_Neuville', 'Libelle_commune_Saint_R_my_sur_Avre', 'Libelle_commune_Saint_Paul_en_Chablais', 'Libelle_commune_Charavines', 'Libelle_commune_Loireauxence', 'Libelle_commune_Tr_livan', 'Libelle_commune_Hontanx', 'Libelle_commune_Portes_en_Valdaine', 'Libelle_commune_Vieux_Moulin', 'Libelle_commune_La_Charit__sur_Loire', 'Libelle_commune_Mouhet', 'Libelle_commune_La_Chapelle_du_Bois', 'Libelle_commune_La_Bass_e', 'Libelle_commune_Lannepax', 'Libelle_commune_Novale', 'Libelle_commune_Talasani', 'Libelle_commune_P_rign_', 'Libelle_commune_Saint_Paterne_Racan', 'Libelle_commune_Blangy_sur_Bresle', 'Libelle_commune_Nanteuil', 'Libelle_commune_T_tes', 'Libelle_commune_Bolleville', 'Libelle_commune_Cherveix_Cubas', 'Libelle_commune_Lanrodec', 'Libelle_commune_La_Chapelle_Janson', 'Libelle_commune_Saint_Germain_de_Lusignan', 'Libelle_commune_La_Balme', 'Libelle_commune_Val_d_Erdre_Auxence', 'Libelle_commune_Oussi_res', 'Libelle_commune_PUBLIER', 'Libelle_commune_Th_zan_des_Corbi_res', 'Libelle_commune_Sauvagnon', 'Libelle_commune_Nieul_le_Dolent', 'Libelle_commune_Sainte_Florine', 'Libelle_commune_Revel_Tourdan', 'Libelle_commune_B_cheresse', 'Libelle_commune_Cr_hen', 'Libelle_commune_Allas_Champagne', 'Libelle_commune_Les_Ormes_sur_Voulzie', 'Libelle_commune_Anost', 'Libelle_commune_S_malens', 'Libelle_commune_Am_lie_les_Bains_Palalda', 'Libelle_commune_Saint_Yvi', 'Libelle_commune_Plougasnou', 'Libelle_commune_Arlebosc', 'Libelle_commune_Ciry_Salsogne', 'Libelle_commune_Moidieu_D_tourbe', 'Libelle_commune_Marsac_en_Livradois', 'Libelle_commune_Marols', 'Libelle_commune_Heillecourt', 'Libelle_commune_Pontfaverger_Moronvilliers', 'Libelle_commune_Lab_c_de_Lauragais', 'Libelle_commune_Lautrec', 'Libelle_commune_Lanarce', 'Libelle_commune_Truyes', 'Libelle_commune_Bourg_la_Reine', 'Libelle_commune_Sainte_Colombe', 'Libelle_commune_Saint_Maurice_de_Lignon', 'Libelle_commune_Ucciani', 'Libelle_commune_Arces_Dilo', 'Libelle_commune_Bretignolles_sur_Mer', 'Libelle_commune_Escouloubre', 'Libelle_commune_Balgau', 'Libelle_commune_Y_vres', 'Libelle_commune_La_Terrasse_sur_Dorlay', 'Libelle_commune_Bertrimoutier', 'Libelle_commune_Orthez', 'Libelle_commune_Francheleins', 'Libelle_commune_Saint_Girons_d_Aiguevives', 'Libelle_commune_Grimaud', 'Libelle_commune_Renaz_', 'Libelle_commune_Lafran_aise', 'Libelle_commune_Saint_Usuge', 'Libelle_commune_La_Cr_che', 'Libelle_commune_Cond__sur_Sarthe', 'Libelle_commune__taules', 'Libelle_commune_Gaja_la_Selve', 'Libelle_commune_Ch_teauneuf_les_Martigues', 'Libelle_commune_Burdignin', 'Libelle_commune_Maureilhan', 'Libelle_commune_Saint_Chamant', 'Libelle_commune_Neuilly_le_Vendin', 'Libelle_commune_M_nil_Hubert_sur_Orne', 'Libelle_commune_Saint_Loup', 'Libelle_commune_Saint_Jouin_Bruneval', 'Libelle_commune_Parleboscq', 'Libelle_commune_Grans', 'Libelle_commune_Moussy_le_Neuf', 'Libelle_commune_Chaveyriat', 'Libelle_commune_Trois_Fonds', 'Libelle_commune_Laurac_en_Vivarais', 'Libelle_commune_Guitt_', 'Libelle_commune_Saint_Nicolas_du_P_lem', 'Libelle_commune_Champagn__les_Marais', 'Libelle_commune_La_Chapelle_Saint_Aubert', 'Libelle_commune_Agon_Coutainville', 'Libelle_commune_Lion_sur_Mer', 'Libelle_commune_Saint_Andr__de_Messei', 'Libelle_commune_Ingr_', 'Libelle_commune_Signy_le_Petit', 'Libelle_commune_Pierre_Perc_e', 'Libelle_commune_Torsac', 'Libelle_commune_Anais', 'Libelle_commune_Beauv_ne', 'Libelle_commune_Saint_Thurien', 'Libelle_commune_Mesnil_Saint_Georges', 'Libelle_commune_Neuilly_le_R_al', 'Libelle_commune_Saint_Clar', 'Libelle_commune_Beaurieux', 'Libelle_commune_Gelles', 'Libelle_commune_Dun_le_Palestel', 'Libelle_commune_Mont_Dore', 'Libelle_commune_Pr_cilhon', 'Libelle_commune_Vatteville_la_Rue', 'Libelle_commune_Gueux', 'Libelle_commune_Chich_', 'Libelle_commune_Villeneuve_l_s_Maguelone', 'Libelle_commune_Saint_Michel_de_Chabrillanoux', 'Libelle_commune_Tournehem_sur_la_Hem', 'Libelle_commune_Pompignac', 'Libelle_commune_Auxelles_Haut', 'Libelle_commune_Mars', 'Libelle_commune_Fixem', 'Libelle_commune_Saint_Andr__de_Corcy', 'Libelle_commune_Luneau', 'Libelle_commune_Auros', 'Libelle_commune_Valu_jols', 'Libelle_commune_Pia', 'Libelle_commune_Tr_mentines', 'Libelle_commune_Deux_Chaises', 'Libelle_commune_F_rin', 'Libelle_commune_Nonant', 'Libelle_commune_Peyre', 'Libelle_commune_Saint_Julien_Chapteuil', 'Libelle_commune_Illoud', 'Libelle_commune_Riez', 'Libelle_commune_Surin', 'Libelle_commune_Rageade', 'Libelle_commune_Mennevret', 'Libelle_commune_La_Nouaille', 'Libelle_commune_Saint_Yrieix_le_D_jalat', 'Libelle_commune_Sainte_Genevi_ve_des_Bois', 'Libelle_commune_M_tabief', 'Libelle_commune_Tr_drez_Locqu_meau', 'Libelle_commune_Chalandray', 'Libelle_commune_Salignac_de_Mirambeau', 'Libelle_commune_La_Bernerie_en_Retz', 'filtre_Libre_service_Rayon_fromagerie_Rayon_traiteur_Rayon_boucherie_charcuterie', 'Libelle_commune_Wambrechies', 'Libelle_commune_Roset_Fluans', 'Libelle_commune_Givrand', 'Libelle_commune_Les_Deux_Alpes', 'Libelle_commune_Saint_Michel_de_Fronsac', 'Libelle_commune_Celles_sur_Durolle', 'Libelle_commune_Toulon_sur_Arroux', 'Libelle_commune_Saint_Hilaire_des_Loges', 'Libelle_commune_Remire_Montjoly', 'Libelle_commune_Forges_de_Lanou_e', 'Libelle_commune_Chepniers', 'Libelle_commune_Vanosc', 'Libelle_commune_Bou_', 'Libelle_commune_Holtzheim', 'Libelle_commune_Saint_Cloud', 'Libelle_commune_Pont_Aven', 'Libelle_commune_Mouilleron_Saint_Germain', 'Libelle_commune_Beaucouz_', 'APP_Libelle_activite_etablissement_Libre_service_Rayon_pain_viennoiserie_p_tisserie_Rayon_boucherie_charcuterie', 'Libelle_commune_Lormes', 'Libelle_commune_Gaye', 'Libelle_commune_Nance', 'Libelle_commune_VILLENEUVE_LE_ROI', 'Libelle_commune_Saint_Jal', 'Libelle_commune_Montselgues', 'Libelle_commune_Vaulx_Milieu', 'Libelle_commune_Azay_sur_Thouet', 'Libelle_commune_Fronton', 'Libelle_commune_L_ognan', 'Libelle_commune_Gif_sur_Yvette', 'Libelle_commune_Palluaud', 'Libelle_commune_Val_Couesnon', 'Libelle_commune_SEYSSINS', 'Libelle_commune_Ch_nelette', 'Libelle_commune_Fuilla', 'Libelle_commune_Arpheuilles', 'Libelle_commune_Nant', 'Libelle_commune_Pianottoli_Caldarello', 'Libelle_commune_Pont_l__v_que', 'Libelle_commune_La_Garenne_Colombes', 'Libelle_commune_Saint_Martin_de_Hinx', 'Libelle_commune_Ch_tillon_Saint_Jean', 'Libelle_commune_Maisoncelles', 'Libelle_commune_Cheval_Blanc', 'Libelle_commune_Martign__sur_Mayenne', 'Libelle_commune_Courgeon', 'Libelle_commune_Coux', 'Libelle_commune_Soultzmatt', 'Libelle_commune_Meslay_du_Maine', 'Libelle_commune_Rieux_en_Cambr_sis', 'Libelle_commune_Frenelle_la_Grande', 'Libelle_commune_Baron', 'Libelle_commune_Le_Thil_Riberpr_', 'Libelle_commune_Noirmoutier_en_l__le', 'Libelle_commune_Bro_t_Vernet', 'Libelle_commune_Marcillac_Saint_Quentin', 'Libelle_commune_Le_Thieulin', 'Libelle_commune_SENARPONT', 'Libelle_commune_Villeneuve_la_Comptal', 'Libelle_commune_Saint_Astier', 'Libelle_commune_Savigny', 'Libelle_commune_Mascaras', 'Libelle_commune_Ayron', 'Libelle_commune_Crosne', 'Libelle_commune_Serbannes', 'Libelle_commune_B_ny', 'Libelle_commune_Custines', 'Libelle_commune_Mariac', 'Libelle_commune_Saint_Andr__sur_Orne', 'Libelle_commune_Poix_Terron', 'Libelle_commune_Flers_en_Escrebieux', 'Libelle_commune_Veuil', 'Libelle_commune_Dolus_d_Ol_ron', 'Libelle_commune_Vacqueyras', 'Libelle_commune_Souvigny', 'Libelle_commune_Vigeois', 'Libelle_commune_Vieil_Moutier', 'Libelle_commune_Saint_Laurent_Nouan', 'Libelle_commune_PUTEAUX', 'Libelle_commune_ANTONY', 'Libelle_commune_Le_Grez', 'Libelle_commune_Ciral', 'Libelle_commune_Urtaca', 'Libelle_commune_Igney', 'Libelle_commune_Saules', 'Libelle_commune_Ambi_villers', 'Libelle_commune_Colleville_Montgomery', 'Libelle_commune_Le_Garric', 'Libelle_commune_La_Chapelle_Saint_Luc', 'Libelle_commune_La_Vacquerie_et_Saint_Martin_de_Castries', 'Libelle_commune_V_zelise', 'Libelle_commune_P_zilla_la_Rivi_re', 'Libelle_commune_Sanilhac', 'Libelle_commune_Saint_Jean_d_Heurs', 'Libelle_commune_Sainte_Luce_sur_Loire', 'Libelle_commune_Barinque', 'Libelle_commune_Saint_Laurent_de_Terregatte', 'Libelle_commune__p_ne', 'Libelle_commune_Saint_Prim', 'Libelle_commune_Pleugriffet', 'Libelle_commune_Prunay', 'Libelle_commune_Saint_Philippe', 'Libelle_commune_Escoub_s', 'Libelle_commune_Coulon', 'Libelle_commune_Riom__s_Montagnes', 'Libelle_commune_Broons', 'Libelle_commune_Luneray', 'Libelle_commune_Le_Plessis_Bouchard', 'Libelle_commune_Ploumilliau', 'Libelle_commune_B_r_ziat', 'Libelle_commune_Palneca', 'Libelle_commune_Hendaye', 'Libelle_commune_Chavanod', 'Libelle_commune_Meauc_', 'Libelle_commune_Burzet', 'Libelle_commune_Haux', 'Libelle_commune_Saint_Lary_Soulan', 'Libelle_commune_Lamotte_du_Rh_ne', 'Libelle_commune_Missillac', 'Libelle_commune_Savigny_en_Revermont', 'Libelle_commune_Ch_teauneuf_de_Galaure', 'Libelle_commune_La_Fare_en_Champsaur', 'Libelle_commune_Saint_Haon_le_Vieux', 'Libelle_commune_Nantua', 'Libelle_commune_Montgilbert', 'Libelle_commune_Coulaines', 'Libelle_commune_Le_Plessis_Tr_vise', 'Libelle_commune_Pluherlin', 'Libelle_commune_Coudoux', 'Libelle_commune_Beaumes_de_Venise', 'Libelle_commune_Ploun_vez_Mo_dec', 'Libelle_commune_Pouldreuzic', 'Libelle_commune_Villard', 'Libelle_commune_Fleur_', 'Libelle_commune_La_Geneytouse', 'Libelle_commune_Villapour_on', 'Libelle_commune_Souain_Perthes_l_s_Hurlus', 'Libelle_commune_Saint_Froult', 'Libelle_commune_Caumont_sur_Aure', 'Libelle_commune_Montauroux', 'Libelle_commune_Steinbourg', 'Libelle_commune_Belleuse', 'Libelle_commune_Martigny_le_Comte', 'Libelle_commune_Nanchez', 'Libelle_commune_Saint__tienne_du_Vigan', 'Libelle_commune_Valojoulx', 'Libelle_commune_Lavit', 'Libelle_commune_La_Chapelle_Launay', 'Libelle_commune_Billancelles', 'Libelle_commune_Montchenu', 'Libelle_commune_Wimille', 'Libelle_commune_Chanterelle', 'Libelle_commune_Azerat', 'Libelle_commune_Saint_Jean_Ligoure', 'Libelle_commune_Bougnon', 'Libelle_commune_Puycelsi', 'Libelle_commune_Plouvorn', 'Libelle_commune_Reventin_Vaugris', 'Libelle_commune_Saint_L_onard_des_Bois', 'Libelle_commune_Frontenex', 'Libelle_commune_Oletta', 'Libelle_commune_Saint_Urcize', 'Libelle_commune_Fessenheim', 'Libelle_commune_Gastes', 'Libelle_commune_Saint_Nabord', 'Libelle_commune_Mayronnes', 'Libelle_commune_Beaulieu_sur_Sonnette', 'Libelle_commune_Cucq', 'Libelle_commune_Lalbenque', 'Libelle_commune_Lauterbourg', 'Libelle_commune_Saint_L_ger_le_Gu_r_tois', 'Libelle_commune_Nogent_sur_Oise', 'Libelle_commune_Frontenard', 'Libelle_commune_Lupersat', 'filtre_Rayon_fromagerie_Rayon_pain_viennoiserie_p_tisserie_Rayon_boucherie_charcuterie', 'Libelle_commune_Bedous', 'Libelle_commune_Barbazan_Debat', 'Libelle_commune_Osny', 'Libelle_commune_Qua_dypre', 'Libelle_commune__quihen_Plage', 'Libelle_commune_Le_Sequestre', 'Libelle_commune_Arth_s', 'Libelle_commune_Taillis', 'Libelle_commune_Plouezoc_h', 'Libelle_commune_Matha', 'Libelle_commune_Champagne_Vigny', 'Libelle_commune_Ploeuc_L_Hermitage', 'APP_Libelle_activite_etablissement_Libre_service_Rayon_fromagerie_Rayon_traiteur_Rayon_boucherie_charcuterie', 'Libelle_commune_Sauveterre', 'Libelle_commune_Saint_Georges_le_Gaultier', 'Libelle_commune_Saint_Martin_en_Bresse', 'Libelle_commune_Argences', 'Libelle_commune_Saint_Pierre_le_Mo_tier', 'Libelle_commune_F_ternes', 'Libelle_commune_Sainte_H_l_ne', 'Libelle_commune_Saint_Jorioz', 'Libelle_commune_Forcalqueiret', 'Libelle_commune_Pont_Saint_Vincent', 'Libelle_commune_Rauville_la_Bigot', 'Libelle_commune_La_Roche_de_Rame', 'Libelle_commune_Leforest', 'Libelle_commune_Monchy_Saint__loi', 'Libelle_commune_Chevigny_Saint_Sauveur', 'Libelle_commune_Baratier', 'Libelle_commune_Lussan', 'Libelle_commune_Loubieng', 'Libelle_commune_Eaux_Puiseaux', 'Libelle_commune_La_Garnache', 'Libelle_commune_Sainte_Eanne', 'Libelle_commune_Champ_sur_Drac', 'Libelle_commune_Lacapelle_Pinet', 'Libelle_commune_Cazaubon', 'Libelle_commune_Missy_l_s_Pierrepont', 'Libelle_commune_Longuenesse', 'Libelle_commune_Loqueffret', 'Libelle_commune_Arn_ke', 'Libelle_commune_Le_Boulou', 'Libelle_commune_Mont_gut', 'Libelle_commune_Lasseubetat', 'Libelle_commune_Zuydcoote', 'Libelle_commune_Bligny_sur_Ouche', 'Libelle_commune_Prades', 'Libelle_commune_Valsonne', 'Libelle_commune_Les_Loges', 'Libelle_commune_Saint_Palais_de_N_grignac', 'Libelle_commune_Bosdarros', 'Libelle_commune_Semblan_ay', 'Libelle_commune_Saint_Paul_du_Vernay', 'Libelle_commune_Nant_le_Petit', 'Libelle_commune_Saint_Seurin_sur_l_Isle', 'Libelle_commune_Chamboulive', 'Libelle_commune_Sausheim', 'Libelle_commune_Cournonterral', 'Libelle_commune_Sainte_Marie_la_Mer', 'Libelle_commune_Carquefou', 'Libelle_commune_Saint_Dizier_Masbaraud', 'Libelle_commune_Marseille', 'Libelle_commune_Montaut_les_Cr_neaux', 'Libelle_commune_Cernay_l_s_Reims', 'Libelle_commune_Broyes', 'Libelle_commune_Fosses', 'Libelle_commune_Bahus_Soubiran', 'Libelle_commune_Frossay', 'Libelle_commune_Boussac', 'Libelle_commune_Colombier_le_Vieux', 'Libelle_commune_Poggio_Mezzana', 'Libelle_commune_Durbans', 'Libelle_commune_Saint__tienne_de_Montluc', 'Libelle_commune_Saint_Privat_de_Champclos', 'Libelle_commune_La_Fresnais', 'Libelle_commune_Rodilhan', 'Libelle_commune_Notre_Dame_du_Hamel', 'Libelle_commune_Saint_Privat_d_Allier', 'Libelle_commune_Laplume', 'Libelle_commune_Saint_Montan', 'Libelle_commune_Neuvy_Bouin', 'Libelle_commune_Berneuil_sur_Aisne', 'Libelle_commune_Mas_de_Londres', 'Libelle_commune_Saint_P_tan', 'Libelle_commune_Mametz', 'Libelle_commune_Huisseau_sur_Cosson', 'Libelle_commune_Reyrevignes', 'Libelle_commune_Cr_ches_sur_Sa_ne', 'Libelle_commune_Mouscard_s', 'Libelle_commune_Viry_Noureuil', 'Libelle_commune_Triel_sur_Seine', 'Libelle_commune_Taurize', 'Libelle_commune_Saint_Denis_d_Anjou', 'Libelle_commune_Saint_Genest_Malifaux', 'Libelle_commune_La_Gouesni_re', 'Libelle_commune_Audruicq', 'Libelle_commune_Angeville', 'Libelle_commune_Le_Thou', 'Libelle_commune_Ermont', 'Libelle_commune_Ch_tres', 'Libelle_commune_Entre_Vignes', 'Libelle_commune_Boussy_Saint_Antoine', 'Libelle_commune_CREMIEU', 'Libelle_commune_M_dr_ac', 'Libelle_commune_Saint_Pierre_Langers', 'Libelle_commune_Aubenasson', 'Libelle_commune_Albitreccia', 'Libelle_commune_Villabon', 'Libelle_commune_Sorbiers', 'Libelle_commune_Preuilly', 'Libelle_commune_Belle_Vie_en_Auge', 'Libelle_commune_Mantes_la_Ville', 'Libelle_commune_M_teren', 'Libelle_commune_MARGENCEL', 'Libelle_commune_Poncins', 'Libelle_commune_Cancon', 'Libelle_commune_Plestin_les_Gr_ves', 'Libelle_commune_Val_du_Mignon', 'Libelle_commune_Riguepeu', 'Libelle_commune_La_Sauvetat_sur_L_de', 'Libelle_commune_Cucuron', 'Libelle_commune_Chas', 'Libelle_commune_Santa_Maria_Sich_', 'Libelle_commune_Sessenheim', 'Libelle_commune__magny', 'Libelle_commune_Langrune_sur_Mer', 'Libelle_commune_Roug_', 'Libelle_commune_Les_D_serts', 'Libelle_commune_Damery', 'Libelle_commune_Samer', 'Libelle_commune_Rostrenen', 'Libelle_commune_Fontenoy', 'Libelle_commune_Tourtrol', 'Libelle_commune_Brugheas', 'Libelle_commune_Lombia', 'Libelle_commune_Suzan', 'Libelle_commune_Sainte_Eug_nie_de_Villeneuve', 'Libelle_commune_BERNIN', 'Libelle_commune_Annay', 'Libelle_commune_Thouar__sur_Loire', 'Libelle_commune_Salses_le_Ch_teau', 'Libelle_commune_La_Balme_de_Sillingy', 'Libelle_commune_Bourg_Lastic', 'Libelle_commune_Saint_Yorre', 'Libelle_commune_Rompon', 'Libelle_commune_Ess_', 'Libelle_commune_Corenc', 'Libelle_commune_Gerzat', 'Libelle_commune_Koungou', 'filtre_Libre_service_Alimentation_g_n_rale_Boulangerie_P_tisserie_Boucherie_Charcuterie', 'Libelle_commune_Vezin_le_Coquet', 'Libelle_commune_Salles', 'Libelle_commune_Peri', 'Libelle_commune_Maule']\n"
     ]
    }
   ],
   "source": [
    "dv_var_name = 'Synthese_eval_sanit'  # Directly using the column name as a string\n",
    "\n",
    "# Identify columns to drop based on the names, excluding the target variable's column name\n",
    "drop_vars = set(train_processed.columns) - set(test_processed.columns) - {dv_var_name}\n",
    "print(f\"Drop: {len(drop_vars)}, {list(drop_vars)}\")\n",
    "\n",
    "# Remove identified variables from the train and test DataFrames\n",
    "train_processed.drop(columns=drop_vars, inplace=True)\n",
    "# For test_processed, using errors='ignore' in case some drop_vars don't exist in it\n",
    "test_processed.drop(columns=drop_vars, inplace=True, errors='ignore')\n"
   ]
  },
  {
   "cell_type": "markdown",
   "metadata": {},
   "source": [
    "### 2. Train ML model\n",
    "\n",
    "Reference:\n",
    "- mlr integrated learners: https://mlr.mlr-org.com/articles/tutorial/integrated_learners.html"
   ]
  },
  {
   "cell_type": "markdown",
   "metadata": {},
   "source": [
    "#### Decision Tree"
   ]
  },
  {
   "cell_type": "code",
   "execution_count": 31,
   "metadata": {
    "execution": {
     "iopub.execute_input": "2024-03-27T16:40:55.062974Z",
     "iopub.status.busy": "2024-03-27T16:40:55.062435Z",
     "iopub.status.idle": "2024-03-27T16:41:44.018853Z",
     "shell.execute_reply": "2024-03-27T16:41:44.017537Z",
     "shell.execute_reply.started": "2024-03-27T16:40:55.062936Z"
    }
   },
   "outputs": [
    {
     "name": "stdout",
     "output_type": "stream",
     "text": [
      "Best hyperparameters: {'max_depth': 10, 'min_samples_split': 20}\n",
      "CV Accuracy for best model: 0.6316436246242405\n"
     ]
    }
   ],
   "source": [
    "from sklearn.tree import DecisionTreeClassifier\n",
    "from sklearn.model_selection import GridSearchCV, cross_val_score\n",
    "from sklearn.metrics import accuracy_score\n",
    "import pandas as pd\n",
    "\n",
    "\n",
    "X_train = train_processed.drop(columns=[dv_var_name])\n",
    "y_train = train_processed[dv_var_name]\n",
    "\n",
    "# Define the model\n",
    "clf = DecisionTreeClassifier()\n",
    "\n",
    "# Set hyperparameter tuning grid\n",
    "param_grid = {\n",
    "    'max_depth': [2, 5, 10],\n",
    "    'min_samples_split': [10, 20]\n",
    "}\n",
    "\n",
    "# Set up cross-validation with hyperparameter tuning\n",
    "grid_search = GridSearchCV(clf, param_grid, cv=5, scoring='accuracy')\n",
    "\n",
    "# Run the hyperparameter tuning with k-fold CV\n",
    "grid_search.fit(X_train, y_train)\n",
    "\n",
    "# Extract the best model\n",
    "best_model = grid_search.best_estimator_\n",
    "\n",
    "# Optionally, you can check cross-validation scores for the best model\n",
    "# Here we use 'accuracy' as the metric; adjust as needed for your case\n",
    "cv_scores = cross_val_score(best_model, X_train, y_train, cv=5, scoring='accuracy')\n",
    "\n",
    "print(f\"Best hyperparameters: {grid_search.best_params_}\")\n",
    "print(f\"CV Accuracy for best model: {cv_scores.mean()}\")\n"
   ]
  },
  {
   "cell_type": "code",
   "execution_count": 34,
   "metadata": {
    "execution": {
     "iopub.execute_input": "2024-03-27T16:43:01.531630Z",
     "iopub.status.busy": "2024-03-27T16:43:01.531203Z",
     "iopub.status.idle": "2024-03-27T16:43:01.541581Z",
     "shell.execute_reply": "2024-03-27T16:43:01.539735Z",
     "shell.execute_reply.started": "2024-03-27T16:43:01.531593Z"
    }
   },
   "outputs": [
    {
     "data": {
      "text/html": [
       "<style>#sk-container-id-2 {color: black;background-color: white;}#sk-container-id-2 pre{padding: 0;}#sk-container-id-2 div.sk-toggleable {background-color: white;}#sk-container-id-2 label.sk-toggleable__label {cursor: pointer;display: block;width: 100%;margin-bottom: 0;padding: 0.3em;box-sizing: border-box;text-align: center;}#sk-container-id-2 label.sk-toggleable__label-arrow:before {content: \"▸\";float: left;margin-right: 0.25em;color: #696969;}#sk-container-id-2 label.sk-toggleable__label-arrow:hover:before {color: black;}#sk-container-id-2 div.sk-estimator:hover label.sk-toggleable__label-arrow:before {color: black;}#sk-container-id-2 div.sk-toggleable__content {max-height: 0;max-width: 0;overflow: hidden;text-align: left;background-color: #f0f8ff;}#sk-container-id-2 div.sk-toggleable__content pre {margin: 0.2em;color: black;border-radius: 0.25em;background-color: #f0f8ff;}#sk-container-id-2 input.sk-toggleable__control:checked~div.sk-toggleable__content {max-height: 200px;max-width: 100%;overflow: auto;}#sk-container-id-2 input.sk-toggleable__control:checked~label.sk-toggleable__label-arrow:before {content: \"▾\";}#sk-container-id-2 div.sk-estimator input.sk-toggleable__control:checked~label.sk-toggleable__label {background-color: #d4ebff;}#sk-container-id-2 div.sk-label input.sk-toggleable__control:checked~label.sk-toggleable__label {background-color: #d4ebff;}#sk-container-id-2 input.sk-hidden--visually {border: 0;clip: rect(1px 1px 1px 1px);clip: rect(1px, 1px, 1px, 1px);height: 1px;margin: -1px;overflow: hidden;padding: 0;position: absolute;width: 1px;}#sk-container-id-2 div.sk-estimator {font-family: monospace;background-color: #f0f8ff;border: 1px dotted black;border-radius: 0.25em;box-sizing: border-box;margin-bottom: 0.5em;}#sk-container-id-2 div.sk-estimator:hover {background-color: #d4ebff;}#sk-container-id-2 div.sk-parallel-item::after {content: \"\";width: 100%;border-bottom: 1px solid gray;flex-grow: 1;}#sk-container-id-2 div.sk-label:hover label.sk-toggleable__label {background-color: #d4ebff;}#sk-container-id-2 div.sk-serial::before {content: \"\";position: absolute;border-left: 1px solid gray;box-sizing: border-box;top: 0;bottom: 0;left: 50%;z-index: 0;}#sk-container-id-2 div.sk-serial {display: flex;flex-direction: column;align-items: center;background-color: white;padding-right: 0.2em;padding-left: 0.2em;position: relative;}#sk-container-id-2 div.sk-item {position: relative;z-index: 1;}#sk-container-id-2 div.sk-parallel {display: flex;align-items: stretch;justify-content: center;background-color: white;position: relative;}#sk-container-id-2 div.sk-item::before, #sk-container-id-2 div.sk-parallel-item::before {content: \"\";position: absolute;border-left: 1px solid gray;box-sizing: border-box;top: 0;bottom: 0;left: 50%;z-index: -1;}#sk-container-id-2 div.sk-parallel-item {display: flex;flex-direction: column;z-index: 1;position: relative;background-color: white;}#sk-container-id-2 div.sk-parallel-item:first-child::after {align-self: flex-end;width: 50%;}#sk-container-id-2 div.sk-parallel-item:last-child::after {align-self: flex-start;width: 50%;}#sk-container-id-2 div.sk-parallel-item:only-child::after {width: 0;}#sk-container-id-2 div.sk-dashed-wrapped {border: 1px dashed gray;margin: 0 0.4em 0.5em 0.4em;box-sizing: border-box;padding-bottom: 0.4em;background-color: white;}#sk-container-id-2 div.sk-label label {font-family: monospace;font-weight: bold;display: inline-block;line-height: 1.2em;}#sk-container-id-2 div.sk-label-container {text-align: center;}#sk-container-id-2 div.sk-container {/* jupyter's `normalize.less` sets `[hidden] { display: none; }` but bootstrap.min.css set `[hidden] { display: none !important; }` so we also need the `!important` here to be able to override the default hidden behavior on the sphinx rendered scikit-learn.org. See: https://github.com/scikit-learn/scikit-learn/issues/21755 */display: inline-block !important;position: relative;}#sk-container-id-2 div.sk-text-repr-fallback {display: none;}</style><div id=\"sk-container-id-2\" class=\"sk-top-container\"><div class=\"sk-text-repr-fallback\"><pre>DecisionTreeClassifier(max_depth=10, min_samples_split=20)</pre><b>In a Jupyter environment, please rerun this cell to show the HTML representation or trust the notebook. <br />On GitHub, the HTML representation is unable to render, please try loading this page with nbviewer.org.</b></div><div class=\"sk-container\" hidden><div class=\"sk-item\"><div class=\"sk-estimator sk-toggleable\"><input class=\"sk-toggleable__control sk-hidden--visually\" id=\"sk-estimator-id-2\" type=\"checkbox\" checked><label for=\"sk-estimator-id-2\" class=\"sk-toggleable__label sk-toggleable__label-arrow\">DecisionTreeClassifier</label><div class=\"sk-toggleable__content\"><pre>DecisionTreeClassifier(max_depth=10, min_samples_split=20)</pre></div></div></div></div></div>"
      ],
      "text/plain": [
       "DecisionTreeClassifier(max_depth=10, min_samples_split=20)"
      ]
     },
     "execution_count": 34,
     "metadata": {},
     "output_type": "execute_result"
    }
   ],
   "source": [
    "best_model"
   ]
  },
  {
   "cell_type": "code",
   "execution_count": 39,
   "metadata": {
    "execution": {
     "iopub.execute_input": "2024-03-27T16:55:50.264973Z",
     "iopub.status.busy": "2024-03-27T16:55:50.264571Z",
     "iopub.status.idle": "2024-03-27T16:55:50.307889Z",
     "shell.execute_reply": "2024-03-27T16:55:50.306585Z",
     "shell.execute_reply.started": "2024-03-27T16:55:50.264942Z"
    }
   },
   "outputs": [
    {
     "data": {
      "text/html": [
       "<div>\n",
       "<style scoped>\n",
       "    .dataframe tbody tr th:only-of-type {\n",
       "        vertical-align: middle;\n",
       "    }\n",
       "\n",
       "    .dataframe tbody tr th {\n",
       "        vertical-align: top;\n",
       "    }\n",
       "\n",
       "    .dataframe thead th {\n",
       "        text-align: right;\n",
       "    }\n",
       "</style>\n",
       "<table border=\"1\" class=\"dataframe\">\n",
       "  <thead>\n",
       "    <tr style=\"text-align: right;\">\n",
       "      <th></th>\n",
       "      <th>Code_postal_01</th>\n",
       "      <th>Code_postal_02</th>\n",
       "      <th>Code_postal_03</th>\n",
       "      <th>Code_postal_04</th>\n",
       "      <th>Code_postal_05</th>\n",
       "      <th>Code_postal_06</th>\n",
       "      <th>Code_postal_07</th>\n",
       "      <th>Code_postal_08</th>\n",
       "      <th>Code_postal_09</th>\n",
       "      <th>Code_postal_10</th>\n",
       "      <th>...</th>\n",
       "      <th>filtre_Restauration_collective</th>\n",
       "      <th>filtre_Traiteur</th>\n",
       "      <th>filtre_Traiteur_Boucherie_Charcuterie</th>\n",
       "      <th>ods_type_activite_Autres</th>\n",
       "      <th>ods_type_activite_Lait_et_produits_laitiers</th>\n",
       "      <th>ods_type_activite_Produits_de_la_mer_et_d_eau_douce</th>\n",
       "      <th>ods_type_activite_Transport_et_entreposage_de_denr_es_alimentaires</th>\n",
       "      <th>ods_type_activite_Viandes_et_produits_carn_s</th>\n",
       "      <th>ods_type_activite__ufs_et_ovoproduits</th>\n",
       "      <th>Synthese_eval_sanit</th>\n",
       "    </tr>\n",
       "  </thead>\n",
       "  <tbody>\n",
       "    <tr>\n",
       "      <th>0</th>\n",
       "      <td>0.0</td>\n",
       "      <td>0.0</td>\n",
       "      <td>0.0</td>\n",
       "      <td>0.0</td>\n",
       "      <td>0.0</td>\n",
       "      <td>0.0</td>\n",
       "      <td>0.0</td>\n",
       "      <td>0.0</td>\n",
       "      <td>0.0</td>\n",
       "      <td>0.0</td>\n",
       "      <td>...</td>\n",
       "      <td>0.0</td>\n",
       "      <td>0.0</td>\n",
       "      <td>0.0</td>\n",
       "      <td>1.0</td>\n",
       "      <td>0.0</td>\n",
       "      <td>0.0</td>\n",
       "      <td>0.0</td>\n",
       "      <td>0.0</td>\n",
       "      <td>0.0</td>\n",
       "      <td>NaN</td>\n",
       "    </tr>\n",
       "    <tr>\n",
       "      <th>1</th>\n",
       "      <td>0.0</td>\n",
       "      <td>0.0</td>\n",
       "      <td>0.0</td>\n",
       "      <td>0.0</td>\n",
       "      <td>0.0</td>\n",
       "      <td>0.0</td>\n",
       "      <td>0.0</td>\n",
       "      <td>0.0</td>\n",
       "      <td>0.0</td>\n",
       "      <td>0.0</td>\n",
       "      <td>...</td>\n",
       "      <td>0.0</td>\n",
       "      <td>0.0</td>\n",
       "      <td>0.0</td>\n",
       "      <td>1.0</td>\n",
       "      <td>0.0</td>\n",
       "      <td>0.0</td>\n",
       "      <td>0.0</td>\n",
       "      <td>0.0</td>\n",
       "      <td>0.0</td>\n",
       "      <td>NaN</td>\n",
       "    </tr>\n",
       "    <tr>\n",
       "      <th>2</th>\n",
       "      <td>0.0</td>\n",
       "      <td>0.0</td>\n",
       "      <td>0.0</td>\n",
       "      <td>0.0</td>\n",
       "      <td>0.0</td>\n",
       "      <td>0.0</td>\n",
       "      <td>0.0</td>\n",
       "      <td>0.0</td>\n",
       "      <td>0.0</td>\n",
       "      <td>0.0</td>\n",
       "      <td>...</td>\n",
       "      <td>0.0</td>\n",
       "      <td>0.0</td>\n",
       "      <td>0.0</td>\n",
       "      <td>1.0</td>\n",
       "      <td>0.0</td>\n",
       "      <td>0.0</td>\n",
       "      <td>0.0</td>\n",
       "      <td>0.0</td>\n",
       "      <td>0.0</td>\n",
       "      <td>NaN</td>\n",
       "    </tr>\n",
       "    <tr>\n",
       "      <th>3</th>\n",
       "      <td>0.0</td>\n",
       "      <td>0.0</td>\n",
       "      <td>0.0</td>\n",
       "      <td>0.0</td>\n",
       "      <td>0.0</td>\n",
       "      <td>0.0</td>\n",
       "      <td>0.0</td>\n",
       "      <td>0.0</td>\n",
       "      <td>0.0</td>\n",
       "      <td>0.0</td>\n",
       "      <td>...</td>\n",
       "      <td>0.0</td>\n",
       "      <td>0.0</td>\n",
       "      <td>0.0</td>\n",
       "      <td>0.0</td>\n",
       "      <td>0.0</td>\n",
       "      <td>1.0</td>\n",
       "      <td>0.0</td>\n",
       "      <td>0.0</td>\n",
       "      <td>0.0</td>\n",
       "      <td>NaN</td>\n",
       "    </tr>\n",
       "    <tr>\n",
       "      <th>4</th>\n",
       "      <td>0.0</td>\n",
       "      <td>0.0</td>\n",
       "      <td>0.0</td>\n",
       "      <td>0.0</td>\n",
       "      <td>0.0</td>\n",
       "      <td>0.0</td>\n",
       "      <td>0.0</td>\n",
       "      <td>0.0</td>\n",
       "      <td>0.0</td>\n",
       "      <td>0.0</td>\n",
       "      <td>...</td>\n",
       "      <td>0.0</td>\n",
       "      <td>0.0</td>\n",
       "      <td>0.0</td>\n",
       "      <td>1.0</td>\n",
       "      <td>0.0</td>\n",
       "      <td>0.0</td>\n",
       "      <td>0.0</td>\n",
       "      <td>0.0</td>\n",
       "      <td>0.0</td>\n",
       "      <td>NaN</td>\n",
       "    </tr>\n",
       "  </tbody>\n",
       "</table>\n",
       "<p>5 rows × 2852 columns</p>\n",
       "</div>"
      ],
      "text/plain": [
       "   Code_postal_01  Code_postal_02  Code_postal_03  Code_postal_04  \\\n",
       "0             0.0             0.0             0.0             0.0   \n",
       "1             0.0             0.0             0.0             0.0   \n",
       "2             0.0             0.0             0.0             0.0   \n",
       "3             0.0             0.0             0.0             0.0   \n",
       "4             0.0             0.0             0.0             0.0   \n",
       "\n",
       "   Code_postal_05  Code_postal_06  Code_postal_07  Code_postal_08  \\\n",
       "0             0.0             0.0             0.0             0.0   \n",
       "1             0.0             0.0             0.0             0.0   \n",
       "2             0.0             0.0             0.0             0.0   \n",
       "3             0.0             0.0             0.0             0.0   \n",
       "4             0.0             0.0             0.0             0.0   \n",
       "\n",
       "   Code_postal_09  Code_postal_10  ...  filtre_Restauration_collective  \\\n",
       "0             0.0             0.0  ...                             0.0   \n",
       "1             0.0             0.0  ...                             0.0   \n",
       "2             0.0             0.0  ...                             0.0   \n",
       "3             0.0             0.0  ...                             0.0   \n",
       "4             0.0             0.0  ...                             0.0   \n",
       "\n",
       "   filtre_Traiteur  filtre_Traiteur_Boucherie_Charcuterie  \\\n",
       "0              0.0                                    0.0   \n",
       "1              0.0                                    0.0   \n",
       "2              0.0                                    0.0   \n",
       "3              0.0                                    0.0   \n",
       "4              0.0                                    0.0   \n",
       "\n",
       "   ods_type_activite_Autres  ods_type_activite_Lait_et_produits_laitiers  \\\n",
       "0                       1.0                                          0.0   \n",
       "1                       1.0                                          0.0   \n",
       "2                       1.0                                          0.0   \n",
       "3                       0.0                                          0.0   \n",
       "4                       1.0                                          0.0   \n",
       "\n",
       "   ods_type_activite_Produits_de_la_mer_et_d_eau_douce  \\\n",
       "0                                                0.0     \n",
       "1                                                0.0     \n",
       "2                                                0.0     \n",
       "3                                                1.0     \n",
       "4                                                0.0     \n",
       "\n",
       "   ods_type_activite_Transport_et_entreposage_de_denr_es_alimentaires  \\\n",
       "0                                                0.0                    \n",
       "1                                                0.0                    \n",
       "2                                                0.0                    \n",
       "3                                                0.0                    \n",
       "4                                                0.0                    \n",
       "\n",
       "   ods_type_activite_Viandes_et_produits_carn_s  \\\n",
       "0                                           0.0   \n",
       "1                                           0.0   \n",
       "2                                           0.0   \n",
       "3                                           0.0   \n",
       "4                                           0.0   \n",
       "\n",
       "   ods_type_activite__ufs_et_ovoproduits  Synthese_eval_sanit  \n",
       "0                                    0.0                  NaN  \n",
       "1                                    0.0                  NaN  \n",
       "2                                    0.0                  NaN  \n",
       "3                                    0.0                  NaN  \n",
       "4                                    0.0                  NaN  \n",
       "\n",
       "[5 rows x 2852 columns]"
      ]
     },
     "execution_count": 39,
     "metadata": {},
     "output_type": "execute_result"
    }
   ],
   "source": [
    "\n",
    "# Define the mapping from category to integer\n",
    "category_to_int = {\n",
    "    'Très satisfaisant': 1,\n",
    "    'Satisfaisant': 2,\n",
    "    'A améliorer': 3,\n",
    "    'A corriger de manière urgente': 4\n",
    "}\n",
    "\n",
    "# Convert the 'Synthese_eval_sanit' column to integers based on the mapping\n",
    "train_processed['Synthese_eval_sanit'] = train_processed['Synthese_eval_sanit'].map(category_to_int)\n",
    "\n",
    "# Check the conversion\n",
    "train_processed.head()\n"
   ]
  },
  {
   "cell_type": "code",
   "execution_count": 36,
   "metadata": {
    "execution": {
     "iopub.execute_input": "2024-03-27T16:50:33.061414Z",
     "iopub.status.busy": "2024-03-27T16:50:33.061018Z",
     "iopub.status.idle": "2024-03-27T16:50:33.310137Z",
     "shell.execute_reply": "2024-03-27T16:50:33.309104Z",
     "shell.execute_reply.started": "2024-03-27T16:50:33.061385Z"
    }
   },
   "outputs": [],
   "source": [
    "# Ensure test set has all the columns from the training set, filled with zeros where necessary\n",
    "for column in X_train.columns:\n",
    "    if column not in test_processed.columns:\n",
    "        test_processed[column] = 0  # or the appropriate fill value for your context\n",
    "\n",
    "# Reorder test_processed columns to match X_train\n",
    "test_processed = test_processed[X_train.columns]\n",
    "\n",
    "# Now you can safely make predictions, ensuring the columns match\n",
    "X_test = test_processed.drop(columns=[dv_var_name], errors='ignore')\n",
    "predictions = best_model.predict(X_test)\n",
    "\n",
    "# If desired, attach predictions back to the test_processed DataFrame\n",
    "test_processed['predictions'] = predictions\n"
   ]
  },
  {
   "cell_type": "code",
   "execution_count": 37,
   "metadata": {
    "execution": {
     "iopub.execute_input": "2024-03-27T16:50:46.500177Z",
     "iopub.status.busy": "2024-03-27T16:50:46.499737Z",
     "iopub.status.idle": "2024-03-27T16:50:46.506085Z",
     "shell.execute_reply": "2024-03-27T16:50:46.504735Z",
     "shell.execute_reply.started": "2024-03-27T16:50:46.500141Z"
    }
   },
   "outputs": [
    {
     "name": "stdout",
     "output_type": "stream",
     "text": [
      "['Satisfaisant' 'Satisfaisant' 'Satisfaisant' ... 'Satisfaisant'\n",
      " 'Satisfaisant' 'Satisfaisant']\n"
     ]
    }
   ],
   "source": [
    "# Display or use the predictions\n",
    "print(predictions)"
   ]
  },
  {
   "cell_type": "code",
   "execution_count": 35,
   "metadata": {
    "execution": {
     "iopub.execute_input": "2024-03-27T16:45:10.736694Z",
     "iopub.status.busy": "2024-03-27T16:45:10.736146Z",
     "iopub.status.idle": "2024-03-27T16:45:10.930442Z",
     "shell.execute_reply": "2024-03-27T16:45:10.928955Z",
     "shell.execute_reply.started": "2024-03-27T16:45:10.736594Z"
    }
   },
   "outputs": [
    {
     "ename": "ValueError",
     "evalue": "The feature names should match those that were passed during fit.\nFeature names unseen at fit time:\n- APP_Libelle_activite_etablissement_Alimentation_g_n_rale_Boulangerie_P_tisserie_Glacier_Poissonnerie_Traiteur_Boucherie_Charcuterie\n- APP_Libelle_activite_etablissement_Alimentation_g_n_rale_Poissonnerie_Traiteur\n- APP_Libelle_activite_etablissement_Fromagerie_Alimentation_g_n_rale_Boulangerie_P_tisserie_Boucherie_Charcuterie\n- APP_Libelle_activite_etablissement_Fromagerie_Boulangerie_P_tisserie_Traiteur\n- APP_Libelle_activite_etablissement_Fromagerie_Chocolatier\n- ...\n",
     "output_type": "error",
     "traceback": [
      "\u001b[0;31m---------------------------------------------------------------------------\u001b[0m",
      "\u001b[0;31mValueError\u001b[0m                                Traceback (most recent call last)",
      "Cell \u001b[0;32mIn[35], line 5\u001b[0m\n\u001b[1;32m      2\u001b[0m X_test \u001b[38;5;241m=\u001b[39m test_processed\u001b[38;5;241m.\u001b[39mdrop(columns\u001b[38;5;241m=\u001b[39m[dv_var_name], errors\u001b[38;5;241m=\u001b[39m\u001b[38;5;124m'\u001b[39m\u001b[38;5;124mignore\u001b[39m\u001b[38;5;124m'\u001b[39m)  \u001b[38;5;66;03m# Replace 'dv_var_name' with the name of your target variable\u001b[39;00m\n\u001b[1;32m      4\u001b[0m \u001b[38;5;66;03m# Make predictions on the test set\u001b[39;00m\n\u001b[0;32m----> 5\u001b[0m predictions \u001b[38;5;241m=\u001b[39m \u001b[43mbest_model\u001b[49m\u001b[38;5;241;43m.\u001b[39;49m\u001b[43mpredict\u001b[49m\u001b[43m(\u001b[49m\u001b[43mX_test\u001b[49m\u001b[43m)\u001b[49m\n\u001b[1;32m      7\u001b[0m \u001b[38;5;66;03m# If you want to attach these predictions to the test DataFrame to see them alongside any actual values or for further analysis\u001b[39;00m\n\u001b[1;32m      8\u001b[0m test_processed[\u001b[38;5;124m'\u001b[39m\u001b[38;5;124mpredictions\u001b[39m\u001b[38;5;124m'\u001b[39m] \u001b[38;5;241m=\u001b[39m predictions\n",
      "File \u001b[0;32m/opt/conda/lib/python3.10/site-packages/sklearn/tree/_classes.py:426\u001b[0m, in \u001b[0;36mBaseDecisionTree.predict\u001b[0;34m(self, X, check_input)\u001b[0m\n\u001b[1;32m    403\u001b[0m \u001b[38;5;250m\u001b[39m\u001b[38;5;124;03m\"\"\"Predict class or regression value for X.\u001b[39;00m\n\u001b[1;32m    404\u001b[0m \n\u001b[1;32m    405\u001b[0m \u001b[38;5;124;03mFor a classification model, the predicted class for each sample in X is\u001b[39;00m\n\u001b[0;32m   (...)\u001b[0m\n\u001b[1;32m    423\u001b[0m \u001b[38;5;124;03m    The predicted classes, or the predict values.\u001b[39;00m\n\u001b[1;32m    424\u001b[0m \u001b[38;5;124;03m\"\"\"\u001b[39;00m\n\u001b[1;32m    425\u001b[0m check_is_fitted(\u001b[38;5;28mself\u001b[39m)\n\u001b[0;32m--> 426\u001b[0m X \u001b[38;5;241m=\u001b[39m \u001b[38;5;28;43mself\u001b[39;49m\u001b[38;5;241;43m.\u001b[39;49m\u001b[43m_validate_X_predict\u001b[49m\u001b[43m(\u001b[49m\u001b[43mX\u001b[49m\u001b[43m,\u001b[49m\u001b[43m \u001b[49m\u001b[43mcheck_input\u001b[49m\u001b[43m)\u001b[49m\n\u001b[1;32m    427\u001b[0m proba \u001b[38;5;241m=\u001b[39m \u001b[38;5;28mself\u001b[39m\u001b[38;5;241m.\u001b[39mtree_\u001b[38;5;241m.\u001b[39mpredict(X)\n\u001b[1;32m    428\u001b[0m n_samples \u001b[38;5;241m=\u001b[39m X\u001b[38;5;241m.\u001b[39mshape[\u001b[38;5;241m0\u001b[39m]\n",
      "File \u001b[0;32m/opt/conda/lib/python3.10/site-packages/sklearn/tree/_classes.py:392\u001b[0m, in \u001b[0;36mBaseDecisionTree._validate_X_predict\u001b[0;34m(self, X, check_input)\u001b[0m\n\u001b[1;32m    390\u001b[0m \u001b[38;5;250m\u001b[39m\u001b[38;5;124;03m\"\"\"Validate the training data on predict (probabilities).\"\"\"\u001b[39;00m\n\u001b[1;32m    391\u001b[0m \u001b[38;5;28;01mif\u001b[39;00m check_input:\n\u001b[0;32m--> 392\u001b[0m     X \u001b[38;5;241m=\u001b[39m \u001b[38;5;28;43mself\u001b[39;49m\u001b[38;5;241;43m.\u001b[39;49m\u001b[43m_validate_data\u001b[49m\u001b[43m(\u001b[49m\u001b[43mX\u001b[49m\u001b[43m,\u001b[49m\u001b[43m \u001b[49m\u001b[43mdtype\u001b[49m\u001b[38;5;241;43m=\u001b[39;49m\u001b[43mDTYPE\u001b[49m\u001b[43m,\u001b[49m\u001b[43m \u001b[49m\u001b[43maccept_sparse\u001b[49m\u001b[38;5;241;43m=\u001b[39;49m\u001b[38;5;124;43m\"\u001b[39;49m\u001b[38;5;124;43mcsr\u001b[39;49m\u001b[38;5;124;43m\"\u001b[39;49m\u001b[43m,\u001b[49m\u001b[43m \u001b[49m\u001b[43mreset\u001b[49m\u001b[38;5;241;43m=\u001b[39;49m\u001b[38;5;28;43;01mFalse\u001b[39;49;00m\u001b[43m)\u001b[49m\n\u001b[1;32m    393\u001b[0m     \u001b[38;5;28;01mif\u001b[39;00m issparse(X) \u001b[38;5;129;01mand\u001b[39;00m (\n\u001b[1;32m    394\u001b[0m         X\u001b[38;5;241m.\u001b[39mindices\u001b[38;5;241m.\u001b[39mdtype \u001b[38;5;241m!=\u001b[39m np\u001b[38;5;241m.\u001b[39mintc \u001b[38;5;129;01mor\u001b[39;00m X\u001b[38;5;241m.\u001b[39mindptr\u001b[38;5;241m.\u001b[39mdtype \u001b[38;5;241m!=\u001b[39m np\u001b[38;5;241m.\u001b[39mintc\n\u001b[1;32m    395\u001b[0m     ):\n\u001b[1;32m    396\u001b[0m         \u001b[38;5;28;01mraise\u001b[39;00m \u001b[38;5;167;01mValueError\u001b[39;00m(\u001b[38;5;124m\"\u001b[39m\u001b[38;5;124mNo support for np.int64 index based sparse matrices\u001b[39m\u001b[38;5;124m\"\u001b[39m)\n",
      "File \u001b[0;32m/opt/conda/lib/python3.10/site-packages/sklearn/base.py:548\u001b[0m, in \u001b[0;36mBaseEstimator._validate_data\u001b[0;34m(self, X, y, reset, validate_separately, **check_params)\u001b[0m\n\u001b[1;32m    483\u001b[0m \u001b[38;5;28;01mdef\u001b[39;00m \u001b[38;5;21m_validate_data\u001b[39m(\n\u001b[1;32m    484\u001b[0m     \u001b[38;5;28mself\u001b[39m,\n\u001b[1;32m    485\u001b[0m     X\u001b[38;5;241m=\u001b[39m\u001b[38;5;124m\"\u001b[39m\u001b[38;5;124mno_validation\u001b[39m\u001b[38;5;124m\"\u001b[39m,\n\u001b[0;32m   (...)\u001b[0m\n\u001b[1;32m    489\u001b[0m     \u001b[38;5;241m*\u001b[39m\u001b[38;5;241m*\u001b[39mcheck_params,\n\u001b[1;32m    490\u001b[0m ):\n\u001b[1;32m    491\u001b[0m \u001b[38;5;250m    \u001b[39m\u001b[38;5;124;03m\"\"\"Validate input data and set or check the `n_features_in_` attribute.\u001b[39;00m\n\u001b[1;32m    492\u001b[0m \n\u001b[1;32m    493\u001b[0m \u001b[38;5;124;03m    Parameters\u001b[39;00m\n\u001b[0;32m   (...)\u001b[0m\n\u001b[1;32m    546\u001b[0m \u001b[38;5;124;03m        validated.\u001b[39;00m\n\u001b[1;32m    547\u001b[0m \u001b[38;5;124;03m    \"\"\"\u001b[39;00m\n\u001b[0;32m--> 548\u001b[0m     \u001b[38;5;28;43mself\u001b[39;49m\u001b[38;5;241;43m.\u001b[39;49m\u001b[43m_check_feature_names\u001b[49m\u001b[43m(\u001b[49m\u001b[43mX\u001b[49m\u001b[43m,\u001b[49m\u001b[43m \u001b[49m\u001b[43mreset\u001b[49m\u001b[38;5;241;43m=\u001b[39;49m\u001b[43mreset\u001b[49m\u001b[43m)\u001b[49m\n\u001b[1;32m    550\u001b[0m     \u001b[38;5;28;01mif\u001b[39;00m y \u001b[38;5;129;01mis\u001b[39;00m \u001b[38;5;28;01mNone\u001b[39;00m \u001b[38;5;129;01mand\u001b[39;00m \u001b[38;5;28mself\u001b[39m\u001b[38;5;241m.\u001b[39m_get_tags()[\u001b[38;5;124m\"\u001b[39m\u001b[38;5;124mrequires_y\u001b[39m\u001b[38;5;124m\"\u001b[39m]:\n\u001b[1;32m    551\u001b[0m         \u001b[38;5;28;01mraise\u001b[39;00m \u001b[38;5;167;01mValueError\u001b[39;00m(\n\u001b[1;32m    552\u001b[0m             \u001b[38;5;124mf\u001b[39m\u001b[38;5;124m\"\u001b[39m\u001b[38;5;124mThis \u001b[39m\u001b[38;5;132;01m{\u001b[39;00m\u001b[38;5;28mself\u001b[39m\u001b[38;5;241m.\u001b[39m\u001b[38;5;18m__class__\u001b[39m\u001b[38;5;241m.\u001b[39m\u001b[38;5;18m__name__\u001b[39m\u001b[38;5;132;01m}\u001b[39;00m\u001b[38;5;124m estimator \u001b[39m\u001b[38;5;124m\"\u001b[39m\n\u001b[1;32m    553\u001b[0m             \u001b[38;5;124m\"\u001b[39m\u001b[38;5;124mrequires y to be passed, but the target y is None.\u001b[39m\u001b[38;5;124m\"\u001b[39m\n\u001b[1;32m    554\u001b[0m         )\n",
      "File \u001b[0;32m/opt/conda/lib/python3.10/site-packages/sklearn/base.py:481\u001b[0m, in \u001b[0;36mBaseEstimator._check_feature_names\u001b[0;34m(self, X, reset)\u001b[0m\n\u001b[1;32m    476\u001b[0m \u001b[38;5;28;01mif\u001b[39;00m \u001b[38;5;129;01mnot\u001b[39;00m missing_names \u001b[38;5;129;01mand\u001b[39;00m \u001b[38;5;129;01mnot\u001b[39;00m unexpected_names:\n\u001b[1;32m    477\u001b[0m     message \u001b[38;5;241m+\u001b[39m\u001b[38;5;241m=\u001b[39m (\n\u001b[1;32m    478\u001b[0m         \u001b[38;5;124m\"\u001b[39m\u001b[38;5;124mFeature names must be in the same order as they were in fit.\u001b[39m\u001b[38;5;130;01m\\n\u001b[39;00m\u001b[38;5;124m\"\u001b[39m\n\u001b[1;32m    479\u001b[0m     )\n\u001b[0;32m--> 481\u001b[0m \u001b[38;5;28;01mraise\u001b[39;00m \u001b[38;5;167;01mValueError\u001b[39;00m(message)\n",
      "\u001b[0;31mValueError\u001b[0m: The feature names should match those that were passed during fit.\nFeature names unseen at fit time:\n- APP_Libelle_activite_etablissement_Alimentation_g_n_rale_Boulangerie_P_tisserie_Glacier_Poissonnerie_Traiteur_Boucherie_Charcuterie\n- APP_Libelle_activite_etablissement_Alimentation_g_n_rale_Poissonnerie_Traiteur\n- APP_Libelle_activite_etablissement_Fromagerie_Alimentation_g_n_rale_Boulangerie_P_tisserie_Boucherie_Charcuterie\n- APP_Libelle_activite_etablissement_Fromagerie_Boulangerie_P_tisserie_Traiteur\n- APP_Libelle_activite_etablissement_Fromagerie_Chocolatier\n- ...\n"
     ]
    }
   ],
   "source": [
    "# Prepare test features, ensuring the test set does not contain the target variable column\n",
    "X_test = test_processed.drop(columns=[dv_var_name], errors='ignore')  # Replace 'dv_var_name' with the name of your target variable\n",
    "\n",
    "# Make predictions on the test set\n",
    "predictions = best_model.predict(X_test)\n",
    "\n",
    "# If you want to attach these predictions to the test DataFrame to see them alongside any actual values or for further analysis\n",
    "test_processed['predictions'] = predictions\n",
    "\n",
    "# Display or use the predictions\n",
    "print(predictions)"
   ]
  }
 ],
 "metadata": {
  "kaggle": {
   "accelerator": "none",
   "dataSources": [
    {
     "databundleVersionId": 7913782,
     "sourceId": 72253,
     "sourceType": "competition"
    }
   ],
   "dockerImageVersionId": 30673,
   "isGpuEnabled": false,
   "isInternetEnabled": true,
   "language": "python",
   "sourceType": "notebook"
  },
  "kernelspec": {
   "display_name": "Python 3 (ipykernel)",
   "language": "python",
   "name": "python3"
  },
  "language_info": {
   "codemirror_mode": {
    "name": "ipython",
    "version": 3
   },
   "file_extension": ".py",
   "mimetype": "text/x-python",
   "name": "python",
   "nbconvert_exporter": "python",
   "pygments_lexer": "ipython3",
   "version": "3.11.5"
  }
 },
 "nbformat": 4,
 "nbformat_minor": 4
}
